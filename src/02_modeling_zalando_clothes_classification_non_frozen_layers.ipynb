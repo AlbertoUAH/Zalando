{
  "nbformat": 4,
  "nbformat_minor": 0,
  "metadata": {
    "colab": {
      "provenance": [],
      "gpuType": "T4"
    },
    "kernelspec": {
      "name": "python3",
      "display_name": "Python 3"
    },
    "language_info": {
      "name": "python"
    },
    "accelerator": "GPU",
    "widgets": {
      "application/vnd.jupyter.widget-state+json": {
        "bf5ca3ad81604f62bb8074e8c5fab969": {
          "model_module": "@jupyter-widgets/controls",
          "model_name": "HBoxModel",
          "model_module_version": "1.5.0",
          "state": {
            "_dom_classes": [],
            "_model_module": "@jupyter-widgets/controls",
            "_model_module_version": "1.5.0",
            "_model_name": "HBoxModel",
            "_view_count": null,
            "_view_module": "@jupyter-widgets/controls",
            "_view_module_version": "1.5.0",
            "_view_name": "HBoxView",
            "box_style": "",
            "children": [
              "IPY_MODEL_71917e4a3de1466b88f957635a0de548",
              "IPY_MODEL_8b992b191053498a863dd0ac181456a2",
              "IPY_MODEL_bf044da0d21843279b4f933e68c6c58d"
            ],
            "layout": "IPY_MODEL_2872e98329ed457eb344d9013f8dd6ee"
          }
        },
        "71917e4a3de1466b88f957635a0de548": {
          "model_module": "@jupyter-widgets/controls",
          "model_name": "HTMLModel",
          "model_module_version": "1.5.0",
          "state": {
            "_dom_classes": [],
            "_model_module": "@jupyter-widgets/controls",
            "_model_module_version": "1.5.0",
            "_model_name": "HTMLModel",
            "_view_count": null,
            "_view_module": "@jupyter-widgets/controls",
            "_view_module_version": "1.5.0",
            "_view_name": "HTMLView",
            "description": "",
            "description_tooltip": null,
            "layout": "IPY_MODEL_6882d8e7d3ea426e905d488c214b789b",
            "placeholder": "​",
            "style": "IPY_MODEL_17e4da334cc7471e88c8625a9161950a",
            "value": ""
          }
        },
        "8b992b191053498a863dd0ac181456a2": {
          "model_module": "@jupyter-widgets/controls",
          "model_name": "FloatProgressModel",
          "model_module_version": "1.5.0",
          "state": {
            "_dom_classes": [],
            "_model_module": "@jupyter-widgets/controls",
            "_model_module_version": "1.5.0",
            "_model_name": "FloatProgressModel",
            "_view_count": null,
            "_view_module": "@jupyter-widgets/controls",
            "_view_module_version": "1.5.0",
            "_view_name": "ProgressView",
            "bar_style": "",
            "description": "",
            "description_tooltip": null,
            "layout": "IPY_MODEL_01515f7852aa45bead31971425d042cc",
            "max": 998,
            "min": 0,
            "orientation": "horizontal",
            "style": "IPY_MODEL_c801f16a5bc2403fb36ce77358da8c48",
            "value": 998
          }
        },
        "bf044da0d21843279b4f933e68c6c58d": {
          "model_module": "@jupyter-widgets/controls",
          "model_name": "HTMLModel",
          "model_module_version": "1.5.0",
          "state": {
            "_dom_classes": [],
            "_model_module": "@jupyter-widgets/controls",
            "_model_module_version": "1.5.0",
            "_model_name": "HTMLModel",
            "_view_count": null,
            "_view_module": "@jupyter-widgets/controls",
            "_view_module_version": "1.5.0",
            "_view_name": "HTMLView",
            "description": "",
            "description_tooltip": null,
            "layout": "IPY_MODEL_ea292e6b582742d8be21a895f0a7e62c",
            "placeholder": "​",
            "style": "IPY_MODEL_ae4bb25c3a9b469e95555c2993d06864",
            "value": " 1000/? [01:24&lt;00:00, 10.65it/s]"
          }
        },
        "2872e98329ed457eb344d9013f8dd6ee": {
          "model_module": "@jupyter-widgets/base",
          "model_name": "LayoutModel",
          "model_module_version": "1.2.0",
          "state": {
            "_model_module": "@jupyter-widgets/base",
            "_model_module_version": "1.2.0",
            "_model_name": "LayoutModel",
            "_view_count": null,
            "_view_module": "@jupyter-widgets/base",
            "_view_module_version": "1.2.0",
            "_view_name": "LayoutView",
            "align_content": null,
            "align_items": null,
            "align_self": null,
            "border": null,
            "bottom": null,
            "display": null,
            "flex": null,
            "flex_flow": null,
            "grid_area": null,
            "grid_auto_columns": null,
            "grid_auto_flow": null,
            "grid_auto_rows": null,
            "grid_column": null,
            "grid_gap": null,
            "grid_row": null,
            "grid_template_areas": null,
            "grid_template_columns": null,
            "grid_template_rows": null,
            "height": null,
            "justify_content": null,
            "justify_items": null,
            "left": null,
            "margin": null,
            "max_height": null,
            "max_width": null,
            "min_height": null,
            "min_width": null,
            "object_fit": null,
            "object_position": null,
            "order": null,
            "overflow": null,
            "overflow_x": null,
            "overflow_y": null,
            "padding": null,
            "right": null,
            "top": null,
            "visibility": "hidden",
            "width": null
          }
        },
        "6882d8e7d3ea426e905d488c214b789b": {
          "model_module": "@jupyter-widgets/base",
          "model_name": "LayoutModel",
          "model_module_version": "1.2.0",
          "state": {
            "_model_module": "@jupyter-widgets/base",
            "_model_module_version": "1.2.0",
            "_model_name": "LayoutModel",
            "_view_count": null,
            "_view_module": "@jupyter-widgets/base",
            "_view_module_version": "1.2.0",
            "_view_name": "LayoutView",
            "align_content": null,
            "align_items": null,
            "align_self": null,
            "border": null,
            "bottom": null,
            "display": null,
            "flex": null,
            "flex_flow": null,
            "grid_area": null,
            "grid_auto_columns": null,
            "grid_auto_flow": null,
            "grid_auto_rows": null,
            "grid_column": null,
            "grid_gap": null,
            "grid_row": null,
            "grid_template_areas": null,
            "grid_template_columns": null,
            "grid_template_rows": null,
            "height": null,
            "justify_content": null,
            "justify_items": null,
            "left": null,
            "margin": null,
            "max_height": null,
            "max_width": null,
            "min_height": null,
            "min_width": null,
            "object_fit": null,
            "object_position": null,
            "order": null,
            "overflow": null,
            "overflow_x": null,
            "overflow_y": null,
            "padding": null,
            "right": null,
            "top": null,
            "visibility": null,
            "width": null
          }
        },
        "17e4da334cc7471e88c8625a9161950a": {
          "model_module": "@jupyter-widgets/controls",
          "model_name": "DescriptionStyleModel",
          "model_module_version": "1.5.0",
          "state": {
            "_model_module": "@jupyter-widgets/controls",
            "_model_module_version": "1.5.0",
            "_model_name": "DescriptionStyleModel",
            "_view_count": null,
            "_view_module": "@jupyter-widgets/base",
            "_view_module_version": "1.2.0",
            "_view_name": "StyleView",
            "description_width": ""
          }
        },
        "01515f7852aa45bead31971425d042cc": {
          "model_module": "@jupyter-widgets/base",
          "model_name": "LayoutModel",
          "model_module_version": "1.2.0",
          "state": {
            "_model_module": "@jupyter-widgets/base",
            "_model_module_version": "1.2.0",
            "_model_name": "LayoutModel",
            "_view_count": null,
            "_view_module": "@jupyter-widgets/base",
            "_view_module_version": "1.2.0",
            "_view_name": "LayoutView",
            "align_content": null,
            "align_items": null,
            "align_self": null,
            "border": null,
            "bottom": null,
            "display": null,
            "flex": null,
            "flex_flow": null,
            "grid_area": null,
            "grid_auto_columns": null,
            "grid_auto_flow": null,
            "grid_auto_rows": null,
            "grid_column": null,
            "grid_gap": null,
            "grid_row": null,
            "grid_template_areas": null,
            "grid_template_columns": null,
            "grid_template_rows": null,
            "height": null,
            "justify_content": null,
            "justify_items": null,
            "left": null,
            "margin": null,
            "max_height": null,
            "max_width": null,
            "min_height": null,
            "min_width": null,
            "object_fit": null,
            "object_position": null,
            "order": null,
            "overflow": null,
            "overflow_x": null,
            "overflow_y": null,
            "padding": null,
            "right": null,
            "top": null,
            "visibility": null,
            "width": null
          }
        },
        "c801f16a5bc2403fb36ce77358da8c48": {
          "model_module": "@jupyter-widgets/controls",
          "model_name": "ProgressStyleModel",
          "model_module_version": "1.5.0",
          "state": {
            "_model_module": "@jupyter-widgets/controls",
            "_model_module_version": "1.5.0",
            "_model_name": "ProgressStyleModel",
            "_view_count": null,
            "_view_module": "@jupyter-widgets/base",
            "_view_module_version": "1.2.0",
            "_view_name": "StyleView",
            "bar_color": null,
            "description_width": ""
          }
        },
        "ea292e6b582742d8be21a895f0a7e62c": {
          "model_module": "@jupyter-widgets/base",
          "model_name": "LayoutModel",
          "model_module_version": "1.2.0",
          "state": {
            "_model_module": "@jupyter-widgets/base",
            "_model_module_version": "1.2.0",
            "_model_name": "LayoutModel",
            "_view_count": null,
            "_view_module": "@jupyter-widgets/base",
            "_view_module_version": "1.2.0",
            "_view_name": "LayoutView",
            "align_content": null,
            "align_items": null,
            "align_self": null,
            "border": null,
            "bottom": null,
            "display": null,
            "flex": null,
            "flex_flow": null,
            "grid_area": null,
            "grid_auto_columns": null,
            "grid_auto_flow": null,
            "grid_auto_rows": null,
            "grid_column": null,
            "grid_gap": null,
            "grid_row": null,
            "grid_template_areas": null,
            "grid_template_columns": null,
            "grid_template_rows": null,
            "height": null,
            "justify_content": null,
            "justify_items": null,
            "left": null,
            "margin": null,
            "max_height": null,
            "max_width": null,
            "min_height": null,
            "min_width": null,
            "object_fit": null,
            "object_position": null,
            "order": null,
            "overflow": null,
            "overflow_x": null,
            "overflow_y": null,
            "padding": null,
            "right": null,
            "top": null,
            "visibility": null,
            "width": null
          }
        },
        "ae4bb25c3a9b469e95555c2993d06864": {
          "model_module": "@jupyter-widgets/controls",
          "model_name": "DescriptionStyleModel",
          "model_module_version": "1.5.0",
          "state": {
            "_model_module": "@jupyter-widgets/controls",
            "_model_module_version": "1.5.0",
            "_model_name": "DescriptionStyleModel",
            "_view_count": null,
            "_view_module": "@jupyter-widgets/base",
            "_view_module_version": "1.2.0",
            "_view_name": "StyleView",
            "description_width": ""
          }
        }
      }
    }
  },
  "cells": [
    {
      "cell_type": "markdown",
      "source": [
        "# Zalando Clother Classification - Modeling and testing\n",
        "\n",
        "__Author: Fernández Hernández, Alberto__\n",
        "\n",
        "__Date: 2023 - 10 - 26__"
      ],
      "metadata": {
        "id": "rE2MBh3YCbZ1"
      }
    },
    {
      "cell_type": "code",
      "source": [
        "!pip install shap"
      ],
      "metadata": {
        "colab": {
          "base_uri": "https://localhost:8080/"
        },
        "outputId": "926dad07-c9d6-4dbc-cff2-e89b5ff5bff6",
        "id": "8dW0I0xrlbYD"
      },
      "execution_count": 1,
      "outputs": [
        {
          "output_type": "stream",
          "name": "stdout",
          "text": [
            "Collecting shap\n",
            "  Downloading shap-0.43.0-cp310-cp310-manylinux_2_12_x86_64.manylinux2010_x86_64.manylinux_2_17_x86_64.manylinux2014_x86_64.whl (532 kB)\n",
            "\u001b[2K     \u001b[90m━━━━━━━━━━━━━━━━━━━━━━━━━━━━━━━━━━━━━━━━\u001b[0m \u001b[32m532.9/532.9 kB\u001b[0m \u001b[31m5.7 MB/s\u001b[0m eta \u001b[36m0:00:00\u001b[0m\n",
            "\u001b[?25hRequirement already satisfied: numpy in /usr/local/lib/python3.10/dist-packages (from shap) (1.23.5)\n",
            "Requirement already satisfied: scipy in /usr/local/lib/python3.10/dist-packages (from shap) (1.11.3)\n",
            "Requirement already satisfied: scikit-learn in /usr/local/lib/python3.10/dist-packages (from shap) (1.2.2)\n",
            "Requirement already satisfied: pandas in /usr/local/lib/python3.10/dist-packages (from shap) (1.5.3)\n",
            "Requirement already satisfied: tqdm>=4.27.0 in /usr/local/lib/python3.10/dist-packages (from shap) (4.66.1)\n",
            "Requirement already satisfied: packaging>20.9 in /usr/local/lib/python3.10/dist-packages (from shap) (23.2)\n",
            "Collecting slicer==0.0.7 (from shap)\n",
            "  Downloading slicer-0.0.7-py3-none-any.whl (14 kB)\n",
            "Requirement already satisfied: numba in /usr/local/lib/python3.10/dist-packages (from shap) (0.56.4)\n",
            "Requirement already satisfied: cloudpickle in /usr/local/lib/python3.10/dist-packages (from shap) (2.2.1)\n",
            "Requirement already satisfied: llvmlite<0.40,>=0.39.0dev0 in /usr/local/lib/python3.10/dist-packages (from numba->shap) (0.39.1)\n",
            "Requirement already satisfied: setuptools in /usr/local/lib/python3.10/dist-packages (from numba->shap) (67.7.2)\n",
            "Requirement already satisfied: python-dateutil>=2.8.1 in /usr/local/lib/python3.10/dist-packages (from pandas->shap) (2.8.2)\n",
            "Requirement already satisfied: pytz>=2020.1 in /usr/local/lib/python3.10/dist-packages (from pandas->shap) (2023.3.post1)\n",
            "Requirement already satisfied: joblib>=1.1.1 in /usr/local/lib/python3.10/dist-packages (from scikit-learn->shap) (1.3.2)\n",
            "Requirement already satisfied: threadpoolctl>=2.0.0 in /usr/local/lib/python3.10/dist-packages (from scikit-learn->shap) (3.2.0)\n",
            "Requirement already satisfied: six>=1.5 in /usr/local/lib/python3.10/dist-packages (from python-dateutil>=2.8.1->pandas->shap) (1.16.0)\n",
            "Installing collected packages: slicer, shap\n",
            "Successfully installed shap-0.43.0 slicer-0.0.7\n"
          ]
        }
      ]
    },
    {
      "cell_type": "code",
      "execution_count": 2,
      "metadata": {
        "id": "NCOCKYzY_Xwh"
      },
      "outputs": [],
      "source": [
        "# -- Libraries\n",
        "from   sklearn.model_selection import train_test_split\n",
        "from   sklearn.utils           import class_weight\n",
        "from   sklearn                 import metrics\n",
        "from   torchvision             import models\n",
        "from   tqdm                    import tqdm\n",
        "from   torch.utils             import data\n",
        "import torch.nn.functional     as F\n",
        "import torch.nn                as nn\n",
        "import matplotlib.pyplot       as plt\n",
        "import numpy                   as np\n",
        "import pandas                  as pd\n",
        "import torchvision.transforms  as transforms\n",
        "import itertools\n",
        "import torch\n",
        "import shap\n",
        "import math\n",
        "import gzip\n",
        "import os"
      ]
    },
    {
      "cell_type": "code",
      "source": [
        "# -- Constants and parameters\n",
        "MAIN_PATH       = '/content/drive/MyDrive/Personal/CentricSoftware'\n",
        "NPY_FILES       = MAIN_PATH + '/images/'\n",
        "MODELS_PATH     = MAIN_PATH + '/models/'\n",
        "MODEL_NAME      = f'{MODELS_PATH}/02_zalando_image_classification_mobilenet_v2_baseline_non_layers_frozen.pth'\n",
        "BATCH_SIZE      = 16\n",
        "RANDOM_STATE    = 1234\n",
        "EPOCHS          = 15\n",
        "PATIENT         = 3\n",
        "LEARNING_RATE   = 5e-05\n",
        "LOSS_IMPROVE    = 1e-04\n",
        "MAX_PIXEL_VALUE = 255\n",
        "NUM_LABELS      = 5\n",
        "IMG_SIZE        = 224\n",
        "\n",
        "# -- Specify seeds for reproducibility\n",
        "torch.manual_seed(RANDOM_STATE)\n",
        "torch.cuda.manual_seed(RANDOM_STATE)\n",
        "np.random.seed(RANDOM_STATE)\n",
        "torch.backends.cudnn.deterministic = True\n",
        "\n",
        "LABEL_MAPPING = {\n",
        "    0: \"T-shirt/top\",\n",
        "    1: \"Trouser\",\n",
        "    2: \"Pullover\",\n",
        "    3: \"Dress\",\n",
        "    4: \"Coat\",\n",
        "    5: \"Sandal\",\n",
        "    6: \"Shirt\",\n",
        "    7: \"Sneaker\",\n",
        "    8: \"Bag\",\n",
        "    9: \"Ankle boot\"\n",
        "}\n",
        "\n",
        "CATEGORY_MAPPING = {\n",
        "    \"T-shirt/top\": \"Upper part\",\n",
        "    \"Pullover\": \"Upper part\",\n",
        "    \"Coat\": \"Upper part\",\n",
        "    \"Shirt\": \"Upper part\",\n",
        "    \"Trouser\": \"Bottom part\",\n",
        "    \"Dress\": \"One piece\",\n",
        "    \"Sandal\": \"Footwear\",\n",
        "    \"Sneaker\": \"Footwear\",\n",
        "    \"Ankle boot\": \"Footwear\",\n",
        "    \"Bag\": \"Bags\"\n",
        "}\n",
        "\n",
        "GROUP_MAPPING = {\n",
        "    \"Upper part\": 0,\n",
        "    \"Bottom part\": 1,\n",
        "    \"One piece\": 2,\n",
        "    \"Footwear\": 3,\n",
        "    \"Bags\": 4\n",
        "}\n",
        "\n",
        "REVERSE_GROUP_MAPPING = dict((v, k) for k, v in GROUP_MAPPING.items())"
      ],
      "metadata": {
        "id": "lB7A2ZALCkw6"
      },
      "execution_count": 3,
      "outputs": []
    },
    {
      "cell_type": "code",
      "source": [
        "f=gzip.open('/content/drive/MyDrive/Personal/CentricSoftware/t10k-images-idx3-ubyte.gz','rb')\n",
        "file_content=f.read()"
      ],
      "metadata": {
        "id": "rl9hnep7Cm_t"
      },
      "execution_count": 6,
      "outputs": []
    },
    {
      "cell_type": "code",
      "source": [
        "def load_mnist(path, kind='train'):\n",
        "    \"\"\"Load MNIST data from `path`\"\"\"\n",
        "    labels_path = os.path.join(path,\n",
        "                               '%s-labels-idx1-ubyte.gz'\n",
        "                               % kind)\n",
        "    images_path = os.path.join(path,\n",
        "                               '%s-images-idx3-ubyte.gz'\n",
        "                               % kind)\n",
        "\n",
        "    with gzip.open(labels_path, 'rb') as lbpath:\n",
        "        labels = np.frombuffer(lbpath.read(), dtype=np.uint8,\n",
        "                               offset=8)\n",
        "\n",
        "    with gzip.open(images_path, 'rb') as imgpath:\n",
        "        images = np.frombuffer(imgpath.read(), dtype=np.uint8,\n",
        "                               offset=16).reshape(len(labels), 784)\n",
        "\n",
        "    return images, labels"
      ],
      "metadata": {
        "id": "pswemlZZCohG"
      },
      "execution_count": 7,
      "outputs": []
    },
    {
      "cell_type": "markdown",
      "source": [
        "## Load data"
      ],
      "metadata": {
        "id": "gbKS0SguCqFh"
      }
    },
    {
      "cell_type": "code",
      "source": [
        "X_train, y_train = load_mnist('/content/drive/MyDrive/Personal/CentricSoftware', kind='train')\n",
        "\n",
        "X_train          = np.reshape(X_train, (X_train.shape[0],\n",
        "                                        int(math.sqrt(X_train.shape[1])),\n",
        "                                        int(math.sqrt(X_train.shape[1]))\n",
        "                                        )\n",
        "                   )\n",
        "\n",
        "X_test, y_test   = load_mnist('/content/drive/MyDrive/Personal/CentricSoftware', kind='t10k')\n",
        "\n",
        "X_test           = np.reshape(X_test, (X_test.shape[0],\n",
        "                                        int(math.sqrt(X_test.shape[1])),\n",
        "                                        int(math.sqrt(X_test.shape[1]))\n",
        "                                        )\n",
        "                   )"
      ],
      "metadata": {
        "id": "nNFj_DtBCo48"
      },
      "execution_count": 8,
      "outputs": []
    },
    {
      "cell_type": "markdown",
      "source": [
        "## Convert labels into groups"
      ],
      "metadata": {
        "id": "yaR2Qi2yC5u8"
      }
    },
    {
      "cell_type": "code",
      "source": [
        "# -- Train labels\n",
        "y_train_df = pd.DataFrame({'label': y_train})\n",
        "y_train_df['label_str'] = y_train_df['label'].map(LABEL_MAPPING)\n",
        "\n",
        "# -- Test labels\n",
        "y_test_df = pd.DataFrame({'label': y_test})\n",
        "y_test_df['label_str'] = y_test_df['label'].map(LABEL_MAPPING)\n",
        "\n",
        "# -- Convert to groups\n",
        "y_train_df['category'] = y_train_df['label_str'].map(CATEGORY_MAPPING)\n",
        "y_test_df['category']  = y_test_df['label_str'].map(CATEGORY_MAPPING)\n",
        "\n",
        "# -- Filter and rename columns\n",
        "y_train_df = pd.DataFrame(y_train_df['category'].apply(lambda x: GROUP_MAPPING[x]))\n",
        "y_test_df  = pd.DataFrame(y_test_df['category'].apply(lambda x: GROUP_MAPPING[x]))\n",
        "\n",
        "y_train_df.rename(columns={'category': 'label'}, inplace=True)\n",
        "y_test_df.rename(columns={'category': 'label'}, inplace=True)"
      ],
      "metadata": {
        "id": "gqIfbvjEC7u0"
      },
      "execution_count": 9,
      "outputs": []
    },
    {
      "cell_type": "markdown",
      "source": [
        "### Perform train & validation split"
      ],
      "metadata": {
        "id": "lrx_FSwL2TT9"
      }
    },
    {
      "cell_type": "code",
      "source": [
        "y_train_df.reset_index(inplace=True)\n",
        "X, y = y_train_df[['index']], y_train_df[['label']]\n",
        "_, _, y_train_df, y_val_df = train_test_split(X, y, test_size=0.2, stratify=y, random_state=RANDOM_STATE)"
      ],
      "metadata": {
        "id": "rrg8ZAAF3q1y"
      },
      "execution_count": 10,
      "outputs": []
    },
    {
      "cell_type": "code",
      "source": [
        "y_train_df.value_counts(sort=False)"
      ],
      "metadata": {
        "colab": {
          "base_uri": "https://localhost:8080/"
        },
        "id": "QtPZah6P5Xdr",
        "outputId": "1b26af03-323f-48ec-9090-d03acc28e6d1"
      },
      "execution_count": 11,
      "outputs": [
        {
          "output_type": "execute_result",
          "data": {
            "text/plain": [
              "label\n",
              "0        19200\n",
              "1         4800\n",
              "2         4800\n",
              "3        14400\n",
              "4         4800\n",
              "dtype: int64"
            ]
          },
          "metadata": {},
          "execution_count": 11
        }
      ]
    },
    {
      "cell_type": "code",
      "source": [
        "y_val_df.value_counts(sort=False)"
      ],
      "metadata": {
        "colab": {
          "base_uri": "https://localhost:8080/"
        },
        "id": "OMOqzOHw5YKN",
        "outputId": "aff83a25-a663-43ec-973d-884256c5dd9c"
      },
      "execution_count": 12,
      "outputs": [
        {
          "output_type": "execute_result",
          "data": {
            "text/plain": [
              "label\n",
              "0        4800\n",
              "1        1200\n",
              "2        1200\n",
              "3        3600\n",
              "4        1200\n",
              "dtype: int64"
            ]
          },
          "metadata": {},
          "execution_count": 12
        }
      ]
    },
    {
      "cell_type": "markdown",
      "source": [
        "### Save images as .npy files"
      ],
      "metadata": {
        "id": "43BXyT3Z0UHp"
      }
    },
    {
      "cell_type": "code",
      "source": [
        "y_train_df.reset_index(inplace=True), y_val_df.reset_index(inplace=True), y_test_df.reset_index(inplace=True)"
      ],
      "metadata": {
        "colab": {
          "base_uri": "https://localhost:8080/"
        },
        "id": "IffXwFt18Mry",
        "outputId": "c1c386f3-eb07-4ad5-b671-02810eb34fb9"
      },
      "execution_count": 13,
      "outputs": [
        {
          "output_type": "execute_result",
          "data": {
            "text/plain": [
              "(None, None, None)"
            ]
          },
          "metadata": {},
          "execution_count": 13
        }
      ]
    },
    {
      "cell_type": "code",
      "source": [
        "!mkdir $NPY_FILES\n",
        "train_indexes_list = list(y_train_df['index'])\n",
        "for index_ in tqdm(train_indexes_list):\n",
        "  np.save(NPY_FILES + 'train_image_{:05d}.npy'.format(index_), X_train[int(index_)])"
      ],
      "metadata": {
        "id": "7K4hiefi0gpM",
        "colab": {
          "base_uri": "https://localhost:8080/"
        },
        "outputId": "77436040-9617-4d63-9e03-936990274ad1"
      },
      "execution_count": 18,
      "outputs": [
        {
          "output_type": "stream",
          "name": "stderr",
          "text": [
            "100%|██████████| 48000/48000 [03:52<00:00, 206.04it/s]\n"
          ]
        }
      ]
    },
    {
      "cell_type": "code",
      "source": [
        "validation_indexes_list = list(y_val_df['index'])\n",
        "for index_ in tqdm(validation_indexes_list):\n",
        "  np.save(NPY_FILES + 'validation_image_{:05d}.npy'.format(index_), X_train[int(index_)])"
      ],
      "metadata": {
        "id": "lm6-u-FF8q5J",
        "colab": {
          "base_uri": "https://localhost:8080/"
        },
        "outputId": "942d460a-7ed6-40d5-b772-c5075604c826"
      },
      "execution_count": 19,
      "outputs": [
        {
          "output_type": "stream",
          "name": "stderr",
          "text": [
            "100%|██████████| 12000/12000 [00:57<00:00, 206.92it/s]\n"
          ]
        }
      ]
    },
    {
      "cell_type": "code",
      "source": [
        "test_indexes_list = list(y_test_df['index'])\n",
        "for index_ in tqdm(test_indexes_list):\n",
        "  np.save(NPY_FILES + 'test_image_{:05d}.npy'.format(index_), X_test[int(index_)])"
      ],
      "metadata": {
        "id": "sbSDwA631jE1",
        "colab": {
          "base_uri": "https://localhost:8080/"
        },
        "outputId": "3c4f2ab1-2dc4-40de-f50f-af6f61c46705"
      },
      "execution_count": 20,
      "outputs": [
        {
          "output_type": "stream",
          "name": "stderr",
          "text": [
            "100%|██████████| 10000/10000 [00:48<00:00, 207.57it/s]\n"
          ]
        }
      ]
    },
    {
      "cell_type": "markdown",
      "source": [
        "__Get mean and standard deviation__\n",
        "\n",
        "NOTE: MEAN and STD must be extracted ONLY from the training set"
      ],
      "metadata": {
        "id": "9qrZznkJnfKN"
      }
    },
    {
      "cell_type": "code",
      "source": [
        "train_indexes_list = list(y_train_df['index'])\n",
        "MEAN = np.mean(X_train[train_indexes_list,:,:]); STD = np.std(X_train[train_indexes_list,:,:])\n",
        "MEAN, STD"
      ],
      "metadata": {
        "colab": {
          "base_uri": "https://localhost:8080/"
        },
        "id": "5wPSEQmpD0HV",
        "outputId": "9be98848-5857-4b70-9d9a-acd6df37772b"
      },
      "execution_count": 21,
      "outputs": [
        {
          "output_type": "execute_result",
          "data": {
            "text/plain": [
              "(72.96911585884354, 90.03119247281305)"
            ]
          },
          "metadata": {},
          "execution_count": 21
        }
      ]
    },
    {
      "cell_type": "code",
      "source": [
        "# -- Save labels as .csv files\n",
        "y_train_df.to_csv(MAIN_PATH + '/train_labels.csv', sep=';', index=False)\n",
        "y_val_df.to_csv(MAIN_PATH + '/val_labels.csv', sep=';', index=False)\n",
        "y_test_df.to_csv(MAIN_PATH + '/test_labels.csv', sep=';', index=False)"
      ],
      "metadata": {
        "id": "Px6MeQMF5-XA"
      },
      "execution_count": 22,
      "outputs": []
    },
    {
      "cell_type": "markdown",
      "source": [
        "# Define Model Architecture"
      ],
      "metadata": {
        "id": "kooPCYALDzwf"
      }
    },
    {
      "cell_type": "code",
      "source": [
        "# Step 1. Define ZalandoDataset class\n",
        "class ZalandoDataset(data.Dataset):\n",
        "    def __init__(self, transform=False, data_type='Train', images_list=None):\n",
        "        super().__init__()\n",
        "        self.transform    = transform\n",
        "        self.data_type    = data_type\n",
        "        self.images_list  = images_list\n",
        "        self.records      = None\n",
        "\n",
        "        if self.data_type == 'Train':\n",
        "            self.labels      = pd.read_csv(MAIN_PATH + '/train_labels.csv', sep=';')\n",
        "            self.records     = [NPY_FILES + file_ for file_ in images_list if 'train_image' in file_]\n",
        "        elif self.data_type == 'Validation':\n",
        "            self.labels      = pd.read_csv(MAIN_PATH + '/val_labels.csv', sep=';')\n",
        "            self.records     = [NPY_FILES + file_ for file_ in images_list if 'validation_image' in file_]\n",
        "        elif self.data_type == 'Test':\n",
        "            self.labels      = pd.read_csv(MAIN_PATH + '/test_labels.csv', sep=';')\n",
        "            self.records     = [NPY_FILES + file_ for file_ in images_list if 'test_image' in file_]\n",
        "        else:\n",
        "          assert False, \"data_type not admitted. Options available: Train, Validation or Test\"\n",
        "\n",
        "        # Label weights (inverse classes balance)\n",
        "        labels_list   = list(self.labels['label'])\n",
        "        weights_      = class_weight.compute_class_weight(class_weight='balanced',\n",
        "                                                          classes=np.unique(labels_list),\n",
        "                                                          y=np.array(labels_list))\n",
        "        self.weights  = torch.FloatTensor(weights_)\n",
        "\n",
        "        self.transforms = transforms.Compose([\n",
        "                                transforms.Lambda(lambda x: x.unsqueeze(0).unsqueeze(0)),\n",
        "                                transforms.Resize((IMG_SIZE, IMG_SIZE)),\n",
        "                                transforms.Normalize((MEAN,), (STD,)),\n",
        "                                transforms.Lambda(lambda x: x.squeeze(0,1))\n",
        "                            ])\n",
        "\n",
        "\n",
        "    def __len__(self):\n",
        "        \"\"\"Return the total number of images in the dataset.\"\"\"\n",
        "        return len(self.records)\n",
        "\n",
        "    def __getitem__(self, index):\n",
        "        # Load raw image data for each plane\n",
        "        path    = self.records[index]\n",
        "        image_id= int(path.split('_')[-1].replace('.npy', ''))\n",
        "        img_raw = np.load(path)\n",
        "\n",
        "        # Standarize data\n",
        "        img_raw = torch.FloatTensor(img_raw)\n",
        "        img_raw = self.transforms(img_raw)\n",
        "        img_raw = img_raw.expand(3, img_raw.size(0), img_raw.size(1))\n",
        "\n",
        "        label = list(self.labels[self.labels['index'] == image_id]['label'])\n",
        "        label = torch.tensor(label)\n",
        "\n",
        "        # Return pre-processed image and label\n",
        "        return img_raw, label"
      ],
      "metadata": {
        "id": "KMH5fj_ZEGr2"
      },
      "execution_count": 40,
      "outputs": []
    },
    {
      "cell_type": "code",
      "source": [
        "# -- Number of total images: 70k\n",
        "image_list = os.listdir(NPY_FILES)\n",
        "len(image_list)"
      ],
      "metadata": {
        "id": "mqDMxnNnAQw1",
        "colab": {
          "base_uri": "https://localhost:8080/"
        },
        "outputId": "7d342296-c7ce-4301-f6e2-95fb32dd23d2"
      },
      "execution_count": 41,
      "outputs": [
        {
          "output_type": "execute_result",
          "data": {
            "text/plain": [
              "70000"
            ]
          },
          "metadata": {},
          "execution_count": 41
        }
      ]
    },
    {
      "cell_type": "code",
      "source": [
        "# Get dataset\n",
        "train_dataset = ZalandoDataset(images_list=image_list)\n",
        "val_dataset   = ZalandoDataset(data_type='Validation', images_list=image_list)\n",
        "test_dataset  = ZalandoDataset(data_type='Test', images_list=image_list)"
      ],
      "metadata": {
        "id": "DjWAbxS7Hcm5"
      },
      "execution_count": 42,
      "outputs": []
    },
    {
      "cell_type": "code",
      "source": [
        "train_loader = torch.utils.data.DataLoader(\n",
        "                train_dataset, batch_size=BATCH_SIZE,\n",
        "                shuffle=True, drop_last=False, num_workers=2)\n",
        "\n",
        "val_loader  =  torch.utils.data.DataLoader(\n",
        "                val_dataset, batch_size=BATCH_SIZE,\n",
        "                shuffle=False, drop_last=False, num_workers=2)\n",
        "\n",
        "test_loader =  torch.utils.data.DataLoader(\n",
        "                test_dataset, batch_size=BATCH_SIZE,\n",
        "                shuffle=False, drop_last=False, num_workers=2)"
      ],
      "metadata": {
        "id": "9wwRX3aAbue3"
      },
      "execution_count": 43,
      "outputs": []
    },
    {
      "cell_type": "markdown",
      "source": [
        "## Define the Conv. Model"
      ],
      "metadata": {
        "id": "2AHveNancWzb"
      }
    },
    {
      "cell_type": "code",
      "source": [
        "class CustomMobileNetV2(nn.Module):\n",
        "    \"\"\"\n",
        "    Define MobileNetV2 architecture, which consists of:\n",
        "      - MobileNetV2\n",
        "        - Conv2d\n",
        "        - ...\n",
        "        - nn.Linear(1280, num_classes)\n",
        "    \"\"\"\n",
        "    def __init__(self, num_classes=NUM_LABELS):\n",
        "        super(CustomMobileNetV2, self).__init__()\n",
        "\n",
        "        # -- Load pretrained MobileNetV2\n",
        "        self.mobilenet_v2 = models.mobilenet_v2(pretrained=True)\n",
        "\n",
        "        # -- NEW IN VERSION 02 - Freeze convolutional layers\n",
        "        # for param in self.mobilenet_v2.parameters():\n",
        "        #    param.requires_grad = False\n",
        "\n",
        "        # -- Replace last layer for final FC with num_classes outputs\n",
        "        self.mobilenet_v2.classifier[1] = nn.Linear(1280, num_classes)\n",
        "\n",
        "    def forward(self, x):\n",
        "        return self.mobilenet_v2(x)"
      ],
      "metadata": {
        "id": "XcJ85youcZai"
      },
      "execution_count": 44,
      "outputs": []
    },
    {
      "cell_type": "code",
      "source": [
        "model = CustomMobileNetV2()"
      ],
      "metadata": {
        "colab": {
          "base_uri": "https://localhost:8080/"
        },
        "id": "gm18EKlfkXxG",
        "outputId": "a93635e6-ce84-4845-ca82-2e6ed746e097"
      },
      "execution_count": 45,
      "outputs": [
        {
          "output_type": "stream",
          "name": "stderr",
          "text": [
            "The parameter 'pretrained' is deprecated since 0.13 and may be removed in the future, please use 'weights' instead.\n",
            "Arguments other than a weight enum or `None` for 'weights' are deprecated since 0.13 and may be removed in the future. The current behavior is equivalent to passing `weights=MobileNet_V2_Weights.IMAGENET1K_V1`. You can also use `weights=MobileNet_V2_Weights.DEFAULT` to get the most up-to-date weights.\n"
          ]
        }
      ]
    },
    {
      "cell_type": "markdown",
      "source": [
        "## Error + Callbacks"
      ],
      "metadata": {
        "id": "l2HoO7HKCkLA"
      }
    },
    {
      "cell_type": "code",
      "source": [
        "# Define error criterion and optimize functions\n",
        "train_criterion = nn.CrossEntropyLoss(weight = train_dataset.weights)\n",
        "val_criterion   = nn.CrossEntropyLoss(weight = val_dataset.weights)\n",
        "\n",
        "optimizer = torch.optim.Adam(model.parameters(), lr = LEARNING_RATE, weight_decay=0.01)\n",
        "# Define callbacks\n",
        "scheduler = torch.optim.lr_scheduler.ReduceLROnPlateau(\n",
        "              optimizer, patience=3, factor=0.3, threshold=1e-4, verbose=True\n",
        ")"
      ],
      "metadata": {
        "id": "GsQd8tEFlCPW"
      },
      "execution_count": 46,
      "outputs": []
    },
    {
      "cell_type": "markdown",
      "source": [
        "## Define metrics"
      ],
      "metadata": {
        "id": "-ErlR8xxf9JL"
      }
    },
    {
      "cell_type": "code",
      "source": [
        "def get_metrics(y_true, y_pred):\n",
        "    \"\"\"\n",
        "    Calculate recall (sensitivity), precision and negative predicted value (NPV) for a multi-class image classification task with N classes.\n",
        "\n",
        "    Args:\n",
        "    y_true (list): True labels (ground truth) for each sample.\n",
        "    y_pred (list): Predicted labels for each sample.\n",
        "\n",
        "    Returns:\n",
        "    dict: A dictionary containing recall, precision and NPV for each class.\n",
        "    \"\"\"\n",
        "    classes = range(5)\n",
        "    sensitivity = {}  # Recall\n",
        "    precision = {}\n",
        "    npv = {}\n",
        "\n",
        "    for c in classes:\n",
        "        # Calculate True Positives (TP), False Negatives (FN), and False Positives (FP) for each class\n",
        "        TP = sum((y_true[i][c] == 1) and (y_pred[i][c] == 1) for i in range(len(y_true)))\n",
        "        TN = sum((y_true[i][c] == 0) and (y_pred[i][c] == 0) for i in range(len(y_true)))\n",
        "        FN = sum((y_true[i][c] == 1) and (y_pred[i][c] == 0) for i in range(len(y_true)))\n",
        "        FP = sum((y_true[i][c] == 0) and (y_pred[i][c] == 1) for i in range(len(y_true)))\n",
        "\n",
        "        # Calculate recall (sensitivity) and precision for each class\n",
        "        sensitivity[REVERSE_GROUP_MAPPING[c]] = TP / (TP + FN) if (TP + FN) > 0 else 0\n",
        "        precision[REVERSE_GROUP_MAPPING[c]] = TP / (TP + FP) if (TP + FP) > 0 else 0\n",
        "        npv[REVERSE_GROUP_MAPPING[c]] = TN / (TN + FN) if (TN) > 0 else 0\n",
        "\n",
        "    return {\"recall\": sensitivity, \"precision\": precision, \"negative predicted value\": npv}"
      ],
      "metadata": {
        "id": "RT0F1oS-lQ8D"
      },
      "execution_count": 47,
      "outputs": []
    },
    {
      "cell_type": "markdown",
      "source": [
        "## Define training and validation metrics"
      ],
      "metadata": {
        "id": "4uOqvA3wsXsk"
      }
    },
    {
      "cell_type": "code",
      "source": [
        "# -- Transform predicted values into one-shot\n",
        "def maximize_index(predicted_values):\n",
        "  max_indices = np.argmax(predicted_values, axis=1)\n",
        "  result = np.zeros_like(predicted_values)\n",
        "  for i in range(result.shape[0]):\n",
        "      result[i, max_indices[i]] = 1\n",
        "  return result"
      ],
      "metadata": {
        "id": "jytEBgf7uCvb"
      },
      "execution_count": 48,
      "outputs": []
    },
    {
      "cell_type": "code",
      "source": [
        "# -- Define train function\n",
        "def train(train_data, model, criterion):\n",
        "    print('Training...')\n",
        "    model.train()\n",
        "    counter = 0\n",
        "    train_running_loss    = 0.0\n",
        "    prediction_list       = []\n",
        "    prediction_proba_list = []\n",
        "    for input_data, label in tqdm(train_data):\n",
        "        # Switch to GPU if available\n",
        "        if torch.cuda.is_available():\n",
        "            input_data, label = input_data.cuda(), label.cuda()\n",
        "        counter += 1\n",
        "        optimizer.zero_grad()\n",
        "        outputs = model(input_data)\n",
        "\n",
        "        # Apply softmax activation to get all the outputs between 0 and 1\n",
        "        outputs_sig  = F.softmax(outputs.data, dim=1).detach().cpu()\n",
        "        prediction_proba_list.append(itertools.chain(*outputs_sig))\n",
        "        prediction_list.append(itertools.chain(maximize_index(outputs_sig.numpy())))\n",
        "\n",
        "        # Loss\n",
        "        loss     = criterion(outputs.cpu(), label.squeeze(-1).cpu())\n",
        "        train_running_loss += loss.item()\n",
        "        # Backpropagation\n",
        "        loss.backward()\n",
        "        # Update optimizer parameters\n",
        "        optimizer.step()\n",
        "    train_loss       = train_running_loss  / counter\n",
        "    return train_loss, prediction_list"
      ],
      "metadata": {
        "id": "pbdbcHhVsLjC"
      },
      "execution_count": 49,
      "outputs": []
    },
    {
      "cell_type": "code",
      "source": [
        "# Define val function\n",
        "def val(val_data, model, criterion):\n",
        "    print('Validating...')\n",
        "    model.eval()\n",
        "    counter = 0\n",
        "    val_running_loss      = 0.0\n",
        "    total                 = 0.0\n",
        "    prediction_list       = []\n",
        "    prediction_proba_list = []\n",
        "    label_list            = []\n",
        "    label_one_hot         = []\n",
        "\n",
        "    with torch.no_grad():\n",
        "      for input_data, label in tqdm(val_data):\n",
        "          # Again, switch to GPU if available\n",
        "          if torch.cuda.is_available():\n",
        "              input_data, label = input_data.cuda(), label.cuda()\n",
        "\n",
        "          label_numpy   = label.detach().cpu().numpy()\n",
        "          for label_ in label_numpy:\n",
        "            label_one_hot_aux = np.zeros(NUM_LABELS)\n",
        "            label_one_hot_aux[label_] = 1\n",
        "            label_one_hot.append(label_one_hot_aux)\n",
        "\n",
        "          label_list.append(label_numpy)\n",
        "          counter += 1\n",
        "          outputs  = model(input_data)\n",
        "\n",
        "          # Apply softmax activation to get all the outputs between 0 and 1\n",
        "          outputs_sig = F.softmax(outputs.data, dim=1).detach().cpu()\n",
        "          prediction_proba_list.append(outputs_sig)\n",
        "          prediction_list.append(maximize_index(outputs_sig.numpy()))\n",
        "          total    += label.size(1)\n",
        "\n",
        "          # Loss\n",
        "          loss     = criterion(outputs.cpu(), label.squeeze(-1).cpu())\n",
        "          val_running_loss += loss.item()\n",
        "\n",
        "      val_loss     = val_running_loss / counter\n",
        "      # Get Sensitivity/Precision/NPV\n",
        "      prediction_list = list(itertools.chain(*prediction_list))\n",
        "      label_list      = list(itertools.chain(*label_list))\n",
        "      prediction_proba_list = list(itertools.chain(*prediction_proba_list))\n",
        "      metric_dict  = get_metrics(label_one_hot, prediction_list)\n",
        "    return val_loss, prediction_list, prediction_proba_list, metric_dict"
      ],
      "metadata": {
        "id": "6zH7coHXuno9"
      },
      "execution_count": 50,
      "outputs": []
    },
    {
      "cell_type": "markdown",
      "source": [
        "### Define Main loop"
      ],
      "metadata": {
        "id": "ZFW_BmDPAIZw"
      }
    },
    {
      "cell_type": "code",
      "source": [
        "!mkdir $MODELS_PATH"
      ],
      "metadata": {
        "colab": {
          "base_uri": "https://localhost:8080/"
        },
        "id": "YLi0JLOvwihn",
        "outputId": "bc012b4c-0699-484d-9be3-34c250066840"
      },
      "execution_count": 51,
      "outputs": [
        {
          "output_type": "stream",
          "name": "stdout",
          "text": [
            "mkdir: cannot create directory ‘/content/drive/MyDrive/Personal/CentricSoftware/models/’: File exists\n"
          ]
        }
      ]
    },
    {
      "cell_type": "code",
      "source": [
        "# start the training and validation\n",
        "train_loss     = []\n",
        "valid_loss     = []\n",
        "total_train_predictions = []\n",
        "total_val_predictions   = []\n",
        "\n",
        "best_val_loss = float('inf')\n",
        "best_val_auc  = float(0)\n",
        "\n",
        "patient_counter = 0\n",
        "\n",
        "if torch.cuda.is_available():\n",
        "    model = model.cuda()\n",
        "\n",
        "for epoch in range(EPOCHS):\n",
        "    print(f\"Epoch {epoch+1} of {EPOCHS}\")\n",
        "    train_epoch_loss, train_predictions = train(\n",
        "        train_loader, model, train_criterion\n",
        "    )\n",
        "    val_epoch_loss, val_predictions, val_predictions_proba, val_metric_dict = val(\n",
        "        val_loader, model, val_criterion\n",
        "    )\n",
        "\n",
        "    # Call ReduceLR Callback (after validation step)\n",
        "    scheduler.step(val_epoch_loss)\n",
        "\n",
        "    if best_val_loss - val_epoch_loss >= LOSS_IMPROVE:\n",
        "        print(\"Val loss has improved. From {} to {}. Saving model...\".format(best_val_loss, val_epoch_loss))\n",
        "        best_val_loss   = val_epoch_loss\n",
        "        patient_counter = 0\n",
        "        torch.save(model, MODEL_NAME)\n",
        "    else:\n",
        "        print(\"Val loss did not improve\")\n",
        "        patient_counter+=1\n",
        "        if patient_counter == PATIENT:\n",
        "            break\n",
        "\n",
        "    train_loss.append(train_epoch_loss)\n",
        "    valid_loss.append(val_epoch_loss)\n",
        "    total_train_predictions.append(train_predictions)\n",
        "    total_val_predictions.append(val_predictions)\n",
        "    print(f\"Train Loss: {train_epoch_loss:.4f}\")\n",
        "    print(f'Val Loss: {val_epoch_loss:.4f}')\n",
        "    for k in val_metric_dict.keys():\n",
        "      print(k)\n",
        "      print(\"--------\")\n",
        "      for k_aux in val_metric_dict[k].keys():\n",
        "        print(k_aux + ': ' + str(np.round(val_metric_dict[k][k_aux], 2)))\n",
        "      print(\"-----------------------\")\n",
        "    print()\n",
        "    print(\"-\"*80)"
      ],
      "metadata": {
        "colab": {
          "base_uri": "https://localhost:8080/"
        },
        "id": "mXJzPuTey45a",
        "outputId": "58f3bb53-7c54-4bef-838b-4b515ffdc476"
      },
      "execution_count": 52,
      "outputs": [
        {
          "output_type": "stream",
          "name": "stdout",
          "text": [
            "Epoch 1 of 15\n",
            "Training...\n"
          ]
        },
        {
          "output_type": "stream",
          "name": "stderr",
          "text": [
            "\r  0%|          | 0/3000 [00:00<?, ?it/s]The default value of the antialias parameter of all the resizing transforms (Resize(), RandomResizedCrop(), etc.) will change from None to True in v0.17, in order to be consistent across the PIL and Tensor backends. To suppress this warning, directly pass antialias=True (recommended, future default), antialias=None (current default, which means False for Tensors and True for PIL), or antialias=False (only works on Tensors - PIL will still use antialiasing). This also applies if you are using the inference transforms from the models weights: update the call to weights.transforms(antialias=True).\n",
            "The default value of the antialias parameter of all the resizing transforms (Resize(), RandomResizedCrop(), etc.) will change from None to True in v0.17, in order to be consistent across the PIL and Tensor backends. To suppress this warning, directly pass antialias=True (recommended, future default), antialias=None (current default, which means False for Tensors and True for PIL), or antialias=False (only works on Tensors - PIL will still use antialiasing). This also applies if you are using the inference transforms from the models weights: update the call to weights.transforms(antialias=True).\n",
            "100%|██████████| 3000/3000 [03:49<00:00, 13.05it/s]\n"
          ]
        },
        {
          "output_type": "stream",
          "name": "stdout",
          "text": [
            "Validating...\n"
          ]
        },
        {
          "output_type": "stream",
          "name": "stderr",
          "text": [
            "\r  0%|          | 0/750 [00:00<?, ?it/s]The default value of the antialias parameter of all the resizing transforms (Resize(), RandomResizedCrop(), etc.) will change from None to True in v0.17, in order to be consistent across the PIL and Tensor backends. To suppress this warning, directly pass antialias=True (recommended, future default), antialias=None (current default, which means False for Tensors and True for PIL), or antialias=False (only works on Tensors - PIL will still use antialiasing). This also applies if you are using the inference transforms from the models weights: update the call to weights.transforms(antialias=True).\n",
            "The default value of the antialias parameter of all the resizing transforms (Resize(), RandomResizedCrop(), etc.) will change from None to True in v0.17, in order to be consistent across the PIL and Tensor backends. To suppress this warning, directly pass antialias=True (recommended, future default), antialias=None (current default, which means False for Tensors and True for PIL), or antialias=False (only works on Tensors - PIL will still use antialiasing). This also applies if you are using the inference transforms from the models weights: update the call to weights.transforms(antialias=True).\n",
            "100%|██████████| 750/750 [00:39<00:00, 19.04it/s]\n"
          ]
        },
        {
          "output_type": "stream",
          "name": "stdout",
          "text": [
            "Val loss has improved. From inf to 0.0666118935753475. Saving model...\n",
            "Train Loss: 0.1247\n",
            "Val Loss: 0.0666\n",
            "recall\n",
            "--------\n",
            "Upper part: 0.97\n",
            "Bottom part: 0.98\n",
            "One piece: 0.94\n",
            "Footwear: 1.0\n",
            "Bags: 0.99\n",
            "-----------------------\n",
            "precision\n",
            "--------\n",
            "Upper part: 0.98\n",
            "Bottom part: 0.99\n",
            "One piece: 0.89\n",
            "Footwear: 1.0\n",
            "Bags: 0.98\n",
            "-----------------------\n",
            "negative predicted value\n",
            "--------\n",
            "Upper part: 0.98\n",
            "Bottom part: 1.0\n",
            "One piece: 0.99\n",
            "Footwear: 1.0\n",
            "Bags: 1.0\n",
            "-----------------------\n",
            "\n",
            "--------------------------------------------------------------------------------\n",
            "Epoch 2 of 15\n",
            "Training...\n"
          ]
        },
        {
          "output_type": "stream",
          "name": "stderr",
          "text": [
            "\r  0%|          | 0/3000 [00:00<?, ?it/s]The default value of the antialias parameter of all the resizing transforms (Resize(), RandomResizedCrop(), etc.) will change from None to True in v0.17, in order to be consistent across the PIL and Tensor backends. To suppress this warning, directly pass antialias=True (recommended, future default), antialias=None (current default, which means False for Tensors and True for PIL), or antialias=False (only works on Tensors - PIL will still use antialiasing). This also applies if you are using the inference transforms from the models weights: update the call to weights.transforms(antialias=True).\n",
            "The default value of the antialias parameter of all the resizing transforms (Resize(), RandomResizedCrop(), etc.) will change from None to True in v0.17, in order to be consistent across the PIL and Tensor backends. To suppress this warning, directly pass antialias=True (recommended, future default), antialias=None (current default, which means False for Tensors and True for PIL), or antialias=False (only works on Tensors - PIL will still use antialiasing). This also applies if you are using the inference transforms from the models weights: update the call to weights.transforms(antialias=True).\n",
            "100%|██████████| 3000/3000 [03:48<00:00, 13.12it/s]\n"
          ]
        },
        {
          "output_type": "stream",
          "name": "stdout",
          "text": [
            "Validating...\n"
          ]
        },
        {
          "output_type": "stream",
          "name": "stderr",
          "text": [
            "\r  0%|          | 0/750 [00:00<?, ?it/s]The default value of the antialias parameter of all the resizing transforms (Resize(), RandomResizedCrop(), etc.) will change from None to True in v0.17, in order to be consistent across the PIL and Tensor backends. To suppress this warning, directly pass antialias=True (recommended, future default), antialias=None (current default, which means False for Tensors and True for PIL), or antialias=False (only works on Tensors - PIL will still use antialiasing). This also applies if you are using the inference transforms from the models weights: update the call to weights.transforms(antialias=True).\n",
            "The default value of the antialias parameter of all the resizing transforms (Resize(), RandomResizedCrop(), etc.) will change from None to True in v0.17, in order to be consistent across the PIL and Tensor backends. To suppress this warning, directly pass antialias=True (recommended, future default), antialias=None (current default, which means False for Tensors and True for PIL), or antialias=False (only works on Tensors - PIL will still use antialiasing). This also applies if you are using the inference transforms from the models weights: update the call to weights.transforms(antialias=True).\n",
            "100%|██████████| 750/750 [00:40<00:00, 18.49it/s]\n"
          ]
        },
        {
          "output_type": "stream",
          "name": "stdout",
          "text": [
            "Val loss has improved. From 0.0666118935753475 to 0.058634043464126685. Saving model...\n",
            "Train Loss: 0.0751\n",
            "Val Loss: 0.0586\n",
            "recall\n",
            "--------\n",
            "Upper part: 0.97\n",
            "Bottom part: 0.99\n",
            "One piece: 0.96\n",
            "Footwear: 1.0\n",
            "Bags: 0.99\n",
            "-----------------------\n",
            "precision\n",
            "--------\n",
            "Upper part: 0.99\n",
            "Bottom part: 1.0\n",
            "One piece: 0.88\n",
            "Footwear: 1.0\n",
            "Bags: 0.99\n",
            "-----------------------\n",
            "negative predicted value\n",
            "--------\n",
            "Upper part: 0.98\n",
            "Bottom part: 1.0\n",
            "One piece: 1.0\n",
            "Footwear: 1.0\n",
            "Bags: 1.0\n",
            "-----------------------\n",
            "\n",
            "--------------------------------------------------------------------------------\n",
            "Epoch 3 of 15\n",
            "Training...\n"
          ]
        },
        {
          "output_type": "stream",
          "name": "stderr",
          "text": [
            "\r  0%|          | 0/3000 [00:00<?, ?it/s]The default value of the antialias parameter of all the resizing transforms (Resize(), RandomResizedCrop(), etc.) will change from None to True in v0.17, in order to be consistent across the PIL and Tensor backends. To suppress this warning, directly pass antialias=True (recommended, future default), antialias=None (current default, which means False for Tensors and True for PIL), or antialias=False (only works on Tensors - PIL will still use antialiasing). This also applies if you are using the inference transforms from the models weights: update the call to weights.transforms(antialias=True).\n",
            "The default value of the antialias parameter of all the resizing transforms (Resize(), RandomResizedCrop(), etc.) will change from None to True in v0.17, in order to be consistent across the PIL and Tensor backends. To suppress this warning, directly pass antialias=True (recommended, future default), antialias=None (current default, which means False for Tensors and True for PIL), or antialias=False (only works on Tensors - PIL will still use antialiasing). This also applies if you are using the inference transforms from the models weights: update the call to weights.transforms(antialias=True).\n",
            "100%|██████████| 3000/3000 [03:49<00:00, 13.08it/s]\n"
          ]
        },
        {
          "output_type": "stream",
          "name": "stdout",
          "text": [
            "Validating...\n"
          ]
        },
        {
          "output_type": "stream",
          "name": "stderr",
          "text": [
            "\r  0%|          | 0/750 [00:00<?, ?it/s]The default value of the antialias parameter of all the resizing transforms (Resize(), RandomResizedCrop(), etc.) will change from None to True in v0.17, in order to be consistent across the PIL and Tensor backends. To suppress this warning, directly pass antialias=True (recommended, future default), antialias=None (current default, which means False for Tensors and True for PIL), or antialias=False (only works on Tensors - PIL will still use antialiasing). This also applies if you are using the inference transforms from the models weights: update the call to weights.transforms(antialias=True).\n",
            "The default value of the antialias parameter of all the resizing transforms (Resize(), RandomResizedCrop(), etc.) will change from None to True in v0.17, in order to be consistent across the PIL and Tensor backends. To suppress this warning, directly pass antialias=True (recommended, future default), antialias=None (current default, which means False for Tensors and True for PIL), or antialias=False (only works on Tensors - PIL will still use antialiasing). This also applies if you are using the inference transforms from the models weights: update the call to weights.transforms(antialias=True).\n",
            "100%|██████████| 750/750 [00:39<00:00, 19.06it/s]\n"
          ]
        },
        {
          "output_type": "stream",
          "name": "stdout",
          "text": [
            "Val loss has improved. From 0.058634043464126685 to 0.05202848384490547. Saving model...\n",
            "Train Loss: 0.0619\n",
            "Val Loss: 0.0520\n",
            "recall\n",
            "--------\n",
            "Upper part: 0.95\n",
            "Bottom part: 0.99\n",
            "One piece: 0.97\n",
            "Footwear: 1.0\n",
            "Bags: 0.99\n",
            "-----------------------\n",
            "precision\n",
            "--------\n",
            "Upper part: 0.99\n",
            "Bottom part: 0.99\n",
            "One piece: 0.85\n",
            "Footwear: 1.0\n",
            "Bags: 0.99\n",
            "-----------------------\n",
            "negative predicted value\n",
            "--------\n",
            "Upper part: 0.97\n",
            "Bottom part: 1.0\n",
            "One piece: 1.0\n",
            "Footwear: 1.0\n",
            "Bags: 1.0\n",
            "-----------------------\n",
            "\n",
            "--------------------------------------------------------------------------------\n",
            "Epoch 4 of 15\n",
            "Training...\n"
          ]
        },
        {
          "output_type": "stream",
          "name": "stderr",
          "text": [
            "\r  0%|          | 0/3000 [00:00<?, ?it/s]The default value of the antialias parameter of all the resizing transforms (Resize(), RandomResizedCrop(), etc.) will change from None to True in v0.17, in order to be consistent across the PIL and Tensor backends. To suppress this warning, directly pass antialias=True (recommended, future default), antialias=None (current default, which means False for Tensors and True for PIL), or antialias=False (only works on Tensors - PIL will still use antialiasing). This also applies if you are using the inference transforms from the models weights: update the call to weights.transforms(antialias=True).\n",
            "The default value of the antialias parameter of all the resizing transforms (Resize(), RandomResizedCrop(), etc.) will change from None to True in v0.17, in order to be consistent across the PIL and Tensor backends. To suppress this warning, directly pass antialias=True (recommended, future default), antialias=None (current default, which means False for Tensors and True for PIL), or antialias=False (only works on Tensors - PIL will still use antialiasing). This also applies if you are using the inference transforms from the models weights: update the call to weights.transforms(antialias=True).\n",
            "100%|██████████| 3000/3000 [03:49<00:00, 13.09it/s]\n"
          ]
        },
        {
          "output_type": "stream",
          "name": "stdout",
          "text": [
            "Validating...\n"
          ]
        },
        {
          "output_type": "stream",
          "name": "stderr",
          "text": [
            "\r  0%|          | 0/750 [00:00<?, ?it/s]The default value of the antialias parameter of all the resizing transforms (Resize(), RandomResizedCrop(), etc.) will change from None to True in v0.17, in order to be consistent across the PIL and Tensor backends. To suppress this warning, directly pass antialias=True (recommended, future default), antialias=None (current default, which means False for Tensors and True for PIL), or antialias=False (only works on Tensors - PIL will still use antialiasing). This also applies if you are using the inference transforms from the models weights: update the call to weights.transforms(antialias=True).\n",
            "The default value of the antialias parameter of all the resizing transforms (Resize(), RandomResizedCrop(), etc.) will change from None to True in v0.17, in order to be consistent across the PIL and Tensor backends. To suppress this warning, directly pass antialias=True (recommended, future default), antialias=None (current default, which means False for Tensors and True for PIL), or antialias=False (only works on Tensors - PIL will still use antialiasing). This also applies if you are using the inference transforms from the models weights: update the call to weights.transforms(antialias=True).\n",
            "100%|██████████| 750/750 [00:40<00:00, 18.40it/s]\n"
          ]
        },
        {
          "output_type": "stream",
          "name": "stdout",
          "text": [
            "Val loss did not improve\n",
            "Train Loss: 0.0563\n",
            "Val Loss: 0.0589\n",
            "recall\n",
            "--------\n",
            "Upper part: 0.94\n",
            "Bottom part: 1.0\n",
            "One piece: 0.97\n",
            "Footwear: 1.0\n",
            "Bags: 0.99\n",
            "-----------------------\n",
            "precision\n",
            "--------\n",
            "Upper part: 0.99\n",
            "Bottom part: 0.98\n",
            "One piece: 0.82\n",
            "Footwear: 1.0\n",
            "Bags: 0.99\n",
            "-----------------------\n",
            "negative predicted value\n",
            "--------\n",
            "Upper part: 0.96\n",
            "Bottom part: 1.0\n",
            "One piece: 1.0\n",
            "Footwear: 1.0\n",
            "Bags: 1.0\n",
            "-----------------------\n",
            "\n",
            "--------------------------------------------------------------------------------\n",
            "Epoch 5 of 15\n",
            "Training...\n"
          ]
        },
        {
          "output_type": "stream",
          "name": "stderr",
          "text": [
            "\r  0%|          | 0/3000 [00:00<?, ?it/s]The default value of the antialias parameter of all the resizing transforms (Resize(), RandomResizedCrop(), etc.) will change from None to True in v0.17, in order to be consistent across the PIL and Tensor backends. To suppress this warning, directly pass antialias=True (recommended, future default), antialias=None (current default, which means False for Tensors and True for PIL), or antialias=False (only works on Tensors - PIL will still use antialiasing). This also applies if you are using the inference transforms from the models weights: update the call to weights.transforms(antialias=True).\n",
            "The default value of the antialias parameter of all the resizing transforms (Resize(), RandomResizedCrop(), etc.) will change from None to True in v0.17, in order to be consistent across the PIL and Tensor backends. To suppress this warning, directly pass antialias=True (recommended, future default), antialias=None (current default, which means False for Tensors and True for PIL), or antialias=False (only works on Tensors - PIL will still use antialiasing). This also applies if you are using the inference transforms from the models weights: update the call to weights.transforms(antialias=True).\n",
            "100%|██████████| 3000/3000 [03:50<00:00, 13.03it/s]\n"
          ]
        },
        {
          "output_type": "stream",
          "name": "stdout",
          "text": [
            "Validating...\n"
          ]
        },
        {
          "output_type": "stream",
          "name": "stderr",
          "text": [
            "\r  0%|          | 0/750 [00:00<?, ?it/s]The default value of the antialias parameter of all the resizing transforms (Resize(), RandomResizedCrop(), etc.) will change from None to True in v0.17, in order to be consistent across the PIL and Tensor backends. To suppress this warning, directly pass antialias=True (recommended, future default), antialias=None (current default, which means False for Tensors and True for PIL), or antialias=False (only works on Tensors - PIL will still use antialiasing). This also applies if you are using the inference transforms from the models weights: update the call to weights.transforms(antialias=True).\n",
            "The default value of the antialias parameter of all the resizing transforms (Resize(), RandomResizedCrop(), etc.) will change from None to True in v0.17, in order to be consistent across the PIL and Tensor backends. To suppress this warning, directly pass antialias=True (recommended, future default), antialias=None (current default, which means False for Tensors and True for PIL), or antialias=False (only works on Tensors - PIL will still use antialiasing). This also applies if you are using the inference transforms from the models weights: update the call to weights.transforms(antialias=True).\n",
            "100%|██████████| 750/750 [00:40<00:00, 18.37it/s]\n"
          ]
        },
        {
          "output_type": "stream",
          "name": "stdout",
          "text": [
            "Val loss did not improve\n",
            "Train Loss: 0.0574\n",
            "Val Loss: 0.0521\n",
            "recall\n",
            "--------\n",
            "Upper part: 0.98\n",
            "Bottom part: 0.99\n",
            "One piece: 0.95\n",
            "Footwear: 1.0\n",
            "Bags: 0.99\n",
            "-----------------------\n",
            "precision\n",
            "--------\n",
            "Upper part: 0.99\n",
            "Bottom part: 0.99\n",
            "One piece: 0.91\n",
            "Footwear: 1.0\n",
            "Bags: 0.99\n",
            "-----------------------\n",
            "negative predicted value\n",
            "--------\n",
            "Upper part: 0.98\n",
            "Bottom part: 1.0\n",
            "One piece: 0.99\n",
            "Footwear: 1.0\n",
            "Bags: 1.0\n",
            "-----------------------\n",
            "\n",
            "--------------------------------------------------------------------------------\n",
            "Epoch 6 of 15\n",
            "Training...\n"
          ]
        },
        {
          "output_type": "stream",
          "name": "stderr",
          "text": [
            "\r  0%|          | 0/3000 [00:00<?, ?it/s]The default value of the antialias parameter of all the resizing transforms (Resize(), RandomResizedCrop(), etc.) will change from None to True in v0.17, in order to be consistent across the PIL and Tensor backends. To suppress this warning, directly pass antialias=True (recommended, future default), antialias=None (current default, which means False for Tensors and True for PIL), or antialias=False (only works on Tensors - PIL will still use antialiasing). This also applies if you are using the inference transforms from the models weights: update the call to weights.transforms(antialias=True).\n",
            "The default value of the antialias parameter of all the resizing transforms (Resize(), RandomResizedCrop(), etc.) will change from None to True in v0.17, in order to be consistent across the PIL and Tensor backends. To suppress this warning, directly pass antialias=True (recommended, future default), antialias=None (current default, which means False for Tensors and True for PIL), or antialias=False (only works on Tensors - PIL will still use antialiasing). This also applies if you are using the inference transforms from the models weights: update the call to weights.transforms(antialias=True).\n",
            "100%|██████████| 3000/3000 [03:50<00:00, 13.04it/s]\n"
          ]
        },
        {
          "output_type": "stream",
          "name": "stdout",
          "text": [
            "Validating...\n"
          ]
        },
        {
          "output_type": "stream",
          "name": "stderr",
          "text": [
            "\r  0%|          | 0/750 [00:00<?, ?it/s]The default value of the antialias parameter of all the resizing transforms (Resize(), RandomResizedCrop(), etc.) will change from None to True in v0.17, in order to be consistent across the PIL and Tensor backends. To suppress this warning, directly pass antialias=True (recommended, future default), antialias=None (current default, which means False for Tensors and True for PIL), or antialias=False (only works on Tensors - PIL will still use antialiasing). This also applies if you are using the inference transforms from the models weights: update the call to weights.transforms(antialias=True).\n",
            "The default value of the antialias parameter of all the resizing transforms (Resize(), RandomResizedCrop(), etc.) will change from None to True in v0.17, in order to be consistent across the PIL and Tensor backends. To suppress this warning, directly pass antialias=True (recommended, future default), antialias=None (current default, which means False for Tensors and True for PIL), or antialias=False (only works on Tensors - PIL will still use antialiasing). This also applies if you are using the inference transforms from the models weights: update the call to weights.transforms(antialias=True).\n",
            "100%|██████████| 750/750 [00:39<00:00, 18.89it/s]\n"
          ]
        },
        {
          "output_type": "stream",
          "name": "stdout",
          "text": [
            "Val loss did not improve\n"
          ]
        }
      ]
    },
    {
      "cell_type": "markdown",
      "source": [
        "## Test inference"
      ],
      "metadata": {
        "id": "rXSpqcZRsnyw"
      }
    },
    {
      "cell_type": "code",
      "source": [
        "best_model = torch.load(MODEL_NAME)"
      ],
      "metadata": {
        "id": "eYl_GLI74Nz2"
      },
      "execution_count": 53,
      "outputs": []
    },
    {
      "cell_type": "code",
      "source": [
        "# -- Use val function for test data\n",
        "test_epoch_loss, test_predictions, test_predictions_proba, test_metric_dict = val(\n",
        "        test_loader, best_model, val_criterion\n",
        ")\n",
        "\n",
        "for k in test_metric_dict.keys():\n",
        "  print(k)\n",
        "  print(\"--------\")\n",
        "  for k_aux in test_metric_dict[k].keys():\n",
        "    print(k_aux + ': ' + str(np.round(test_metric_dict[k][k_aux], 2)))\n",
        "  print(\"-----------------------\")"
      ],
      "metadata": {
        "colab": {
          "base_uri": "https://localhost:8080/"
        },
        "id": "n57aJsEAtWf-",
        "outputId": "4f878f3a-1ddf-4f04-8b8b-5daefcef456d"
      },
      "execution_count": 54,
      "outputs": [
        {
          "output_type": "stream",
          "name": "stdout",
          "text": [
            "Validating...\n"
          ]
        },
        {
          "output_type": "stream",
          "name": "stderr",
          "text": [
            "\r  0%|          | 0/625 [00:00<?, ?it/s]The default value of the antialias parameter of all the resizing transforms (Resize(), RandomResizedCrop(), etc.) will change from None to True in v0.17, in order to be consistent across the PIL and Tensor backends. To suppress this warning, directly pass antialias=True (recommended, future default), antialias=None (current default, which means False for Tensors and True for PIL), or antialias=False (only works on Tensors - PIL will still use antialiasing). This also applies if you are using the inference transforms from the models weights: update the call to weights.transforms(antialias=True).\n",
            "The default value of the antialias parameter of all the resizing transforms (Resize(), RandomResizedCrop(), etc.) will change from None to True in v0.17, in order to be consistent across the PIL and Tensor backends. To suppress this warning, directly pass antialias=True (recommended, future default), antialias=None (current default, which means False for Tensors and True for PIL), or antialias=False (only works on Tensors - PIL will still use antialiasing). This also applies if you are using the inference transforms from the models weights: update the call to weights.transforms(antialias=True).\n",
            "100%|██████████| 625/625 [00:33<00:00, 18.72it/s]\n"
          ]
        },
        {
          "output_type": "stream",
          "name": "stdout",
          "text": [
            "recall\n",
            "--------\n",
            "Upper part: 0.96\n",
            "Bottom part: 0.99\n",
            "One piece: 0.96\n",
            "Footwear: 1.0\n",
            "Bags: 0.99\n",
            "-----------------------\n",
            "precision\n",
            "--------\n",
            "Upper part: 0.99\n",
            "Bottom part: 0.99\n",
            "One piece: 0.86\n",
            "Footwear: 1.0\n",
            "Bags: 0.99\n",
            "-----------------------\n",
            "negative predicted value\n",
            "--------\n",
            "Upper part: 0.97\n",
            "Bottom part: 1.0\n",
            "One piece: 1.0\n",
            "Footwear: 1.0\n",
            "Bags: 1.0\n",
            "-----------------------\n"
          ]
        }
      ]
    },
    {
      "cell_type": "markdown",
      "source": [
        "### Confussion matrix"
      ],
      "metadata": {
        "id": "Z72r_tnzuY_8"
      }
    },
    {
      "cell_type": "code",
      "source": [
        "real = list(y_test_df['label'])\n",
        "pred = [np.argmax(pred) for pred in test_predictions]\n",
        "\n",
        "cm   = metrics.confusion_matrix(real, pred, labels=list(REVERSE_GROUP_MAPPING.keys()))\n",
        "disp = metrics.ConfusionMatrixDisplay(confusion_matrix=cm, display_labels=GROUP_MAPPING.keys())\n",
        "fig, ax = plt.subplots(figsize=(7,6))\n",
        "disp.plot(ax=ax)\n",
        "plt.show()"
      ],
      "metadata": {
        "colab": {
          "base_uri": "https://localhost:8080/",
          "height": 528
        },
        "id": "zyeS_gqq2IA0",
        "outputId": "e59116d6-9007-478f-dcfc-c436aea55f8e"
      },
      "execution_count": 55,
      "outputs": [
        {
          "output_type": "display_data",
          "data": {
            "text/plain": [
              "<Figure size 700x600 with 2 Axes>"
            ],
            "image/png": "[encoded data removed]"
          },
          "metadata": {}
        }
      ]
    },
    {
      "cell_type": "markdown",
      "source": [
        "## Slot for NOTES"
      ],
      "metadata": {
        "id": "GRRCeaXS4VOR"
      }
    },
    {
      "cell_type": "markdown",
      "source": [
        "* 02_zalando_image_classification_mobilenet_v2_baseline_non_layers_frozen:\n",
        "  * \"One piece\" precision has improved\n",
        "  * \"One piece\" FP has been reduced"
      ],
      "metadata": {
        "id": "qOeStvBZ4YUq"
      }
    },
    {
      "cell_type": "markdown",
      "source": [
        "## Error analysis"
      ],
      "metadata": {
        "id": "fomYf_WH5tgt"
      }
    },
    {
      "cell_type": "code",
      "source": [
        "probabilities = [float(torch.max(proba)) for proba in test_predictions_proba]\n",
        "\n",
        "y_test_df['pred_label']   = list(map(lambda x: REVERSE_GROUP_MAPPING[x], pred))\n",
        "y_test_df['str_label']    = y_test_df['label'].apply(lambda x: REVERSE_GROUP_MAPPING[x])\n",
        "y_test_df['proba_label']  = probabilities\n",
        "\n",
        "y_test_df"
      ],
      "metadata": {
        "colab": {
          "base_uri": "https://localhost:8080/",
          "height": 424
        },
        "id": "6lB-UaHm5utW",
        "outputId": "5702ee1d-bd2d-4047-d4aa-0dd4e40e637f"
      },
      "execution_count": 56,
      "outputs": [
        {
          "output_type": "execute_result",
          "data": {
            "text/plain": [
              "      index  label   pred_label    str_label  proba_label\n",
              "0         0      3     Footwear     Footwear     0.999972\n",
              "1         1      0   Upper part   Upper part     0.998385\n",
              "2         2      1  Bottom part  Bottom part     0.999728\n",
              "3         3      1  Bottom part  Bottom part     0.999854\n",
              "4         4      0   Upper part   Upper part     0.998422\n",
              "...     ...    ...          ...          ...          ...\n",
              "9995   9995      3     Footwear     Footwear     0.999927\n",
              "9996   9996      1  Bottom part  Bottom part     0.999469\n",
              "9997   9997      4         Bags         Bags     0.999914\n",
              "9998   9998      1  Bottom part  Bottom part     0.999611\n",
              "9999   9999      3     Footwear     Footwear     0.996512\n",
              "\n",
              "[10000 rows x 5 columns]"
            ],
            "text/html": [
              "\n",
              "  <div id=\"df-6bdb08b7-3320-4c98-a647-5ee6e098328e\" class=\"colab-df-container\">\n",
              "    <div>\n",
              "<style scoped>\n",
              "    .dataframe tbody tr th:only-of-type {\n",
              "        vertical-align: middle;\n",
              "    }\n",
              "\n",
              "    .dataframe tbody tr th {\n",
              "        vertical-align: top;\n",
              "    }\n",
              "\n",
              "    .dataframe thead th {\n",
              "        text-align: right;\n",
              "    }\n",
              "</style>\n",
              "<table border=\"1\" class=\"dataframe\">\n",
              "  <thead>\n",
              "    <tr style=\"text-align: right;\">\n",
              "      <th></th>\n",
              "      <th>index</th>\n",
              "      <th>label</th>\n",
              "      <th>pred_label</th>\n",
              "      <th>str_label</th>\n",
              "      <th>proba_label</th>\n",
              "    </tr>\n",
              "  </thead>\n",
              "  <tbody>\n",
              "    <tr>\n",
              "      <th>0</th>\n",
              "      <td>0</td>\n",
              "      <td>3</td>\n",
              "      <td>Footwear</td>\n",
              "      <td>Footwear</td>\n",
              "      <td>0.999972</td>\n",
              "    </tr>\n",
              "    <tr>\n",
              "      <th>1</th>\n",
              "      <td>1</td>\n",
              "      <td>0</td>\n",
              "      <td>Upper part</td>\n",
              "      <td>Upper part</td>\n",
              "      <td>0.998385</td>\n",
              "    </tr>\n",
              "    <tr>\n",
              "      <th>2</th>\n",
              "      <td>2</td>\n",
              "      <td>1</td>\n",
              "      <td>Bottom part</td>\n",
              "      <td>Bottom part</td>\n",
              "      <td>0.999728</td>\n",
              "    </tr>\n",
              "    <tr>\n",
              "      <th>3</th>\n",
              "      <td>3</td>\n",
              "      <td>1</td>\n",
              "      <td>Bottom part</td>\n",
              "      <td>Bottom part</td>\n",
              "      <td>0.999854</td>\n",
              "    </tr>\n",
              "    <tr>\n",
              "      <th>4</th>\n",
              "      <td>4</td>\n",
              "      <td>0</td>\n",
              "      <td>Upper part</td>\n",
              "      <td>Upper part</td>\n",
              "      <td>0.998422</td>\n",
              "    </tr>\n",
              "    <tr>\n",
              "      <th>...</th>\n",
              "      <td>...</td>\n",
              "      <td>...</td>\n",
              "      <td>...</td>\n",
              "      <td>...</td>\n",
              "      <td>...</td>\n",
              "    </tr>\n",
              "    <tr>\n",
              "      <th>9995</th>\n",
              "      <td>9995</td>\n",
              "      <td>3</td>\n",
              "      <td>Footwear</td>\n",
              "      <td>Footwear</td>\n",
              "      <td>0.999927</td>\n",
              "    </tr>\n",
              "    <tr>\n",
              "      <th>9996</th>\n",
              "      <td>9996</td>\n",
              "      <td>1</td>\n",
              "      <td>Bottom part</td>\n",
              "      <td>Bottom part</td>\n",
              "      <td>0.999469</td>\n",
              "    </tr>\n",
              "    <tr>\n",
              "      <th>9997</th>\n",
              "      <td>9997</td>\n",
              "      <td>4</td>\n",
              "      <td>Bags</td>\n",
              "      <td>Bags</td>\n",
              "      <td>0.999914</td>\n",
              "    </tr>\n",
              "    <tr>\n",
              "      <th>9998</th>\n",
              "      <td>9998</td>\n",
              "      <td>1</td>\n",
              "      <td>Bottom part</td>\n",
              "      <td>Bottom part</td>\n",
              "      <td>0.999611</td>\n",
              "    </tr>\n",
              "    <tr>\n",
              "      <th>9999</th>\n",
              "      <td>9999</td>\n",
              "      <td>3</td>\n",
              "      <td>Footwear</td>\n",
              "      <td>Footwear</td>\n",
              "      <td>0.996512</td>\n",
              "    </tr>\n",
              "  </tbody>\n",
              "</table>\n",
              "<p>10000 rows × 5 columns</p>\n",
              "</div>\n",
              "    <div class=\"colab-df-buttons\">\n",
              "\n",
              "  <div class=\"colab-df-container\">\n",
              "    <button class=\"colab-df-convert\" onclick=\"convertToInteractive('df-6bdb08b7-3320-4c98-a647-5ee6e098328e')\"\n",
              "            title=\"Convert this dataframe to an interactive table.\"\n",
              "            style=\"display:none;\">\n",
              "\n",
              "  <svg xmlns=\"http://www.w3.org/2000/svg\" height=\"24px\" viewBox=\"0 -960 960 960\">\n",
              "    <path d=\"M120-120v-720h720v720H120Zm60-500h600v-160H180v160Zm220 220h160v-160H400v160Zm0 220h160v-160H400v160ZM180-400h160v-160H180v160Zm440 0h160v-160H620v160ZM180-180h160v-160H180v160Zm440 0h160v-160H620v160Z\"/>\n",
              "  </svg>\n",
              "    </button>\n",
              "\n",
              "  <style>\n",
              "    .colab-df-container {\n",
              "      display:flex;\n",
              "      gap: 12px;\n",
              "    }\n",
              "\n",
              "    .colab-df-convert {\n",
              "      background-color: #E8F0FE;\n",
              "      border: none;\n",
              "      border-radius: 50%;\n",
              "      cursor: pointer;\n",
              "      display: none;\n",
              "      fill: #1967D2;\n",
              "      height: 32px;\n",
              "      padding: 0 0 0 0;\n",
              "      width: 32px;\n",
              "    }\n",
              "\n",
              "    .colab-df-convert:hover {\n",
              "      background-color: #E2EBFA;\n",
              "      box-shadow: 0px 1px 2px rgba(60, 64, 67, 0.3), 0px 1px 3px 1px rgba(60, 64, 67, 0.15);\n",
              "      fill: #174EA6;\n",
              "    }\n",
              "\n",
              "    .colab-df-buttons div {\n",
              "      margin-bottom: 4px;\n",
              "    }\n",
              "\n",
              "    [theme=dark] .colab-df-convert {\n",
              "      background-color: #3B4455;\n",
              "      fill: #D2E3FC;\n",
              "    }\n",
              "\n",
              "    [theme=dark] .colab-df-convert:hover {\n",
              "      background-color: #434B5C;\n",
              "      box-shadow: 0px 1px 3px 1px rgba(0, 0, 0, 0.15);\n",
              "      filter: drop-shadow(0px 1px 2px rgba(0, 0, 0, 0.3));\n",
              "      fill: #FFFFFF;\n",
              "    }\n",
              "  </style>\n",
              "\n",
              "    <script>\n",
              "      const buttonEl =\n",
              "        document.querySelector('#df-6bdb08b7-3320-4c98-a647-5ee6e098328e button.colab-df-convert');\n",
              "      buttonEl.style.display =\n",
              "        google.colab.kernel.accessAllowed ? 'block' : 'none';\n",
              "\n",
              "      async function convertToInteractive(key) {\n",
              "        const element = document.querySelector('#df-6bdb08b7-3320-4c98-a647-5ee6e098328e');\n",
              "        const dataTable =\n",
              "          await google.colab.kernel.invokeFunction('convertToInteractive',\n",
              "                                                    [key], {});\n",
              "        if (!dataTable) return;\n",
              "\n",
              "        const docLinkHtml = 'Like what you see? Visit the ' +\n",
              "          '<a target=\"_blank\" href=https://colab.research.google.com/notebooks/data_table.ipynb>data table notebook</a>'\n",
              "          + ' to learn more about interactive tables.';\n",
              "        element.innerHTML = '';\n",
              "        dataTable['output_type'] = 'display_data';\n",
              "        await google.colab.output.renderOutput(dataTable, element);\n",
              "        const docLink = document.createElement('div');\n",
              "        docLink.innerHTML = docLinkHtml;\n",
              "        element.appendChild(docLink);\n",
              "      }\n",
              "    </script>\n",
              "  </div>\n",
              "\n",
              "\n",
              "<div id=\"df-f6a2c827-0bba-427c-95a5-5009869b8937\">\n",
              "  <button class=\"colab-df-quickchart\" onclick=\"quickchart('df-f6a2c827-0bba-427c-95a5-5009869b8937')\"\n",
              "            title=\"Suggest charts.\"\n",
              "            style=\"display:none;\">\n",
              "\n",
              "<svg xmlns=\"http://www.w3.org/2000/svg\" height=\"24px\"viewBox=\"0 0 24 24\"\n",
              "     width=\"24px\">\n",
              "    <g>\n",
              "        <path d=\"M19 3H5c-1.1 0-2 .9-2 2v14c0 1.1.9 2 2 2h14c1.1 0 2-.9 2-2V5c0-1.1-.9-2-2-2zM9 17H7v-7h2v7zm4 0h-2V7h2v10zm4 0h-2v-4h2v4z\"/>\n",
              "    </g>\n",
              "</svg>\n",
              "  </button>\n",
              "\n",
              "<style>\n",
              "  .colab-df-quickchart {\n",
              "      --bg-color: #E8F0FE;\n",
              "      --fill-color: #1967D2;\n",
              "      --hover-bg-color: #E2EBFA;\n",
              "      --hover-fill-color: #174EA6;\n",
              "      --disabled-fill-color: #AAA;\n",
              "      --disabled-bg-color: #DDD;\n",
              "  }\n",
              "\n",
              "  [theme=dark] .colab-df-quickchart {\n",
              "      --bg-color: #3B4455;\n",
              "      --fill-color: #D2E3FC;\n",
              "      --hover-bg-color: #434B5C;\n",
              "      --hover-fill-color: #FFFFFF;\n",
              "      --disabled-bg-color: #3B4455;\n",
              "      --disabled-fill-color: #666;\n",
              "  }\n",
              "\n",
              "  .colab-df-quickchart {\n",
              "    background-color: var(--bg-color);\n",
              "    border: none;\n",
              "    border-radius: 50%;\n",
              "    cursor: pointer;\n",
              "    display: none;\n",
              "    fill: var(--fill-color);\n",
              "    height: 32px;\n",
              "    padding: 0;\n",
              "    width: 32px;\n",
              "  }\n",
              "\n",
              "  .colab-df-quickchart:hover {\n",
              "    background-color: var(--hover-bg-color);\n",
              "    box-shadow: 0 1px 2px rgba(60, 64, 67, 0.3), 0 1px 3px 1px rgba(60, 64, 67, 0.15);\n",
              "    fill: var(--button-hover-fill-color);\n",
              "  }\n",
              "\n",
              "  .colab-df-quickchart-complete:disabled,\n",
              "  .colab-df-quickchart-complete:disabled:hover {\n",
              "    background-color: var(--disabled-bg-color);\n",
              "    fill: var(--disabled-fill-color);\n",
              "    box-shadow: none;\n",
              "  }\n",
              "\n",
              "  .colab-df-spinner {\n",
              "    border: 2px solid var(--fill-color);\n",
              "    border-color: transparent;\n",
              "    border-bottom-color: var(--fill-color);\n",
              "    animation:\n",
              "      spin 1s steps(1) infinite;\n",
              "  }\n",
              "\n",
              "  @keyframes spin {\n",
              "    0% {\n",
              "      border-color: transparent;\n",
              "      border-bottom-color: var(--fill-color);\n",
              "      border-left-color: var(--fill-color);\n",
              "    }\n",
              "    20% {\n",
              "      border-color: transparent;\n",
              "      border-left-color: var(--fill-color);\n",
              "      border-top-color: var(--fill-color);\n",
              "    }\n",
              "    30% {\n",
              "      border-color: transparent;\n",
              "      border-left-color: var(--fill-color);\n",
              "      border-top-color: var(--fill-color);\n",
              "      border-right-color: var(--fill-color);\n",
              "    }\n",
              "    40% {\n",
              "      border-color: transparent;\n",
              "      border-right-color: var(--fill-color);\n",
              "      border-top-color: var(--fill-color);\n",
              "    }\n",
              "    60% {\n",
              "      border-color: transparent;\n",
              "      border-right-color: var(--fill-color);\n",
              "    }\n",
              "    80% {\n",
              "      border-color: transparent;\n",
              "      border-right-color: var(--fill-color);\n",
              "      border-bottom-color: var(--fill-color);\n",
              "    }\n",
              "    90% {\n",
              "      border-color: transparent;\n",
              "      border-bottom-color: var(--fill-color);\n",
              "    }\n",
              "  }\n",
              "</style>\n",
              "\n",
              "  <script>\n",
              "    async function quickchart(key) {\n",
              "      const quickchartButtonEl =\n",
              "        document.querySelector('#' + key + ' button');\n",
              "      quickchartButtonEl.disabled = true;  // To prevent multiple clicks.\n",
              "      quickchartButtonEl.classList.add('colab-df-spinner');\n",
              "      try {\n",
              "        const charts = await google.colab.kernel.invokeFunction(\n",
              "            'suggestCharts', [key], {});\n",
              "      } catch (error) {\n",
              "        console.error('Error during call to suggestCharts:', error);\n",
              "      }\n",
              "      quickchartButtonEl.classList.remove('colab-df-spinner');\n",
              "      quickchartButtonEl.classList.add('colab-df-quickchart-complete');\n",
              "    }\n",
              "    (() => {\n",
              "      let quickchartButtonEl =\n",
              "        document.querySelector('#df-f6a2c827-0bba-427c-95a5-5009869b8937 button');\n",
              "      quickchartButtonEl.style.display =\n",
              "        google.colab.kernel.accessAllowed ? 'block' : 'none';\n",
              "    })();\n",
              "  </script>\n",
              "</div>\n",
              "    </div>\n",
              "  </div>\n"
            ]
          },
          "metadata": {},
          "execution_count": 56
        }
      ]
    },
    {
      "cell_type": "markdown",
      "source": [
        "* 02_zalando_image_classification_mobilenet_v2_baseline_non_layers_frozen: model still confuse One piece clothes with Upper part ones"
      ],
      "metadata": {
        "id": "xEchzRGB6npg"
      }
    },
    {
      "cell_type": "code",
      "source": [
        "y_test_df[(y_test_df['str_label'] == 'Upper part') &\\\n",
        "          (y_test_df['pred_label'] == 'One piece') &\\\n",
        "          (y_test_df['proba_label'] < 0.5)].sort_values('proba_label', ascending=True)"
      ],
      "metadata": {
        "colab": {
          "base_uri": "https://localhost:8080/",
          "height": 112
        },
        "id": "BEdnCxg27gWJ",
        "outputId": "746e74ed-8b6f-408d-cfeb-6b822810e439"
      },
      "execution_count": 57,
      "outputs": [
        {
          "output_type": "execute_result",
          "data": {
            "text/plain": [
              "      index  label pred_label   str_label  proba_label\n",
              "3880   3880      0  One piece  Upper part     0.436852\n",
              "3230   3230      0  One piece  Upper part     0.495911"
            ],
            "text/html": [
              "\n",
              "  <div id=\"df-12334003-eb3b-4bf4-9c3f-c086c58db57d\" class=\"colab-df-container\">\n",
              "    <div>\n",
              "<style scoped>\n",
              "    .dataframe tbody tr th:only-of-type {\n",
              "        vertical-align: middle;\n",
              "    }\n",
              "\n",
              "    .dataframe tbody tr th {\n",
              "        vertical-align: top;\n",
              "    }\n",
              "\n",
              "    .dataframe thead th {\n",
              "        text-align: right;\n",
              "    }\n",
              "</style>\n",
              "<table border=\"1\" class=\"dataframe\">\n",
              "  <thead>\n",
              "    <tr style=\"text-align: right;\">\n",
              "      <th></th>\n",
              "      <th>index</th>\n",
              "      <th>label</th>\n",
              "      <th>pred_label</th>\n",
              "      <th>str_label</th>\n",
              "      <th>proba_label</th>\n",
              "    </tr>\n",
              "  </thead>\n",
              "  <tbody>\n",
              "    <tr>\n",
              "      <th>3880</th>\n",
              "      <td>3880</td>\n",
              "      <td>0</td>\n",
              "      <td>One piece</td>\n",
              "      <td>Upper part</td>\n",
              "      <td>0.436852</td>\n",
              "    </tr>\n",
              "    <tr>\n",
              "      <th>3230</th>\n",
              "      <td>3230</td>\n",
              "      <td>0</td>\n",
              "      <td>One piece</td>\n",
              "      <td>Upper part</td>\n",
              "      <td>0.495911</td>\n",
              "    </tr>\n",
              "  </tbody>\n",
              "</table>\n",
              "</div>\n",
              "    <div class=\"colab-df-buttons\">\n",
              "\n",
              "  <div class=\"colab-df-container\">\n",
              "    <button class=\"colab-df-convert\" onclick=\"convertToInteractive('df-12334003-eb3b-4bf4-9c3f-c086c58db57d')\"\n",
              "            title=\"Convert this dataframe to an interactive table.\"\n",
              "            style=\"display:none;\">\n",
              "\n",
              "  <svg xmlns=\"http://www.w3.org/2000/svg\" height=\"24px\" viewBox=\"0 -960 960 960\">\n",
              "    <path d=\"M120-120v-720h720v720H120Zm60-500h600v-160H180v160Zm220 220h160v-160H400v160Zm0 220h160v-160H400v160ZM180-400h160v-160H180v160Zm440 0h160v-160H620v160ZM180-180h160v-160H180v160Zm440 0h160v-160H620v160Z\"/>\n",
              "  </svg>\n",
              "    </button>\n",
              "\n",
              "  <style>\n",
              "    .colab-df-container {\n",
              "      display:flex;\n",
              "      gap: 12px;\n",
              "    }\n",
              "\n",
              "    .colab-df-convert {\n",
              "      background-color: #E8F0FE;\n",
              "      border: none;\n",
              "      border-radius: 50%;\n",
              "      cursor: pointer;\n",
              "      display: none;\n",
              "      fill: #1967D2;\n",
              "      height: 32px;\n",
              "      padding: 0 0 0 0;\n",
              "      width: 32px;\n",
              "    }\n",
              "\n",
              "    .colab-df-convert:hover {\n",
              "      background-color: #E2EBFA;\n",
              "      box-shadow: 0px 1px 2px rgba(60, 64, 67, 0.3), 0px 1px 3px 1px rgba(60, 64, 67, 0.15);\n",
              "      fill: #174EA6;\n",
              "    }\n",
              "\n",
              "    .colab-df-buttons div {\n",
              "      margin-bottom: 4px;\n",
              "    }\n",
              "\n",
              "    [theme=dark] .colab-df-convert {\n",
              "      background-color: #3B4455;\n",
              "      fill: #D2E3FC;\n",
              "    }\n",
              "\n",
              "    [theme=dark] .colab-df-convert:hover {\n",
              "      background-color: #434B5C;\n",
              "      box-shadow: 0px 1px 3px 1px rgba(0, 0, 0, 0.15);\n",
              "      filter: drop-shadow(0px 1px 2px rgba(0, 0, 0, 0.3));\n",
              "      fill: #FFFFFF;\n",
              "    }\n",
              "  </style>\n",
              "\n",
              "    <script>\n",
              "      const buttonEl =\n",
              "        document.querySelector('#df-12334003-eb3b-4bf4-9c3f-c086c58db57d button.colab-df-convert');\n",
              "      buttonEl.style.display =\n",
              "        google.colab.kernel.accessAllowed ? 'block' : 'none';\n",
              "\n",
              "      async function convertToInteractive(key) {\n",
              "        const element = document.querySelector('#df-12334003-eb3b-4bf4-9c3f-c086c58db57d');\n",
              "        const dataTable =\n",
              "          await google.colab.kernel.invokeFunction('convertToInteractive',\n",
              "                                                    [key], {});\n",
              "        if (!dataTable) return;\n",
              "\n",
              "        const docLinkHtml = 'Like what you see? Visit the ' +\n",
              "          '<a target=\"_blank\" href=https://colab.research.google.com/notebooks/data_table.ipynb>data table notebook</a>'\n",
              "          + ' to learn more about interactive tables.';\n",
              "        element.innerHTML = '';\n",
              "        dataTable['output_type'] = 'display_data';\n",
              "        await google.colab.output.renderOutput(dataTable, element);\n",
              "        const docLink = document.createElement('div');\n",
              "        docLink.innerHTML = docLinkHtml;\n",
              "        element.appendChild(docLink);\n",
              "      }\n",
              "    </script>\n",
              "  </div>\n",
              "\n",
              "\n",
              "<div id=\"df-b475759e-6ce6-4de3-a05d-08fd80d2ca50\">\n",
              "  <button class=\"colab-df-quickchart\" onclick=\"quickchart('df-b475759e-6ce6-4de3-a05d-08fd80d2ca50')\"\n",
              "            title=\"Suggest charts.\"\n",
              "            style=\"display:none;\">\n",
              "\n",
              "<svg xmlns=\"http://www.w3.org/2000/svg\" height=\"24px\"viewBox=\"0 0 24 24\"\n",
              "     width=\"24px\">\n",
              "    <g>\n",
              "        <path d=\"M19 3H5c-1.1 0-2 .9-2 2v14c0 1.1.9 2 2 2h14c1.1 0 2-.9 2-2V5c0-1.1-.9-2-2-2zM9 17H7v-7h2v7zm4 0h-2V7h2v10zm4 0h-2v-4h2v4z\"/>\n",
              "    </g>\n",
              "</svg>\n",
              "  </button>\n",
              "\n",
              "<style>\n",
              "  .colab-df-quickchart {\n",
              "      --bg-color: #E8F0FE;\n",
              "      --fill-color: #1967D2;\n",
              "      --hover-bg-color: #E2EBFA;\n",
              "      --hover-fill-color: #174EA6;\n",
              "      --disabled-fill-color: #AAA;\n",
              "      --disabled-bg-color: #DDD;\n",
              "  }\n",
              "\n",
              "  [theme=dark] .colab-df-quickchart {\n",
              "      --bg-color: #3B4455;\n",
              "      --fill-color: #D2E3FC;\n",
              "      --hover-bg-color: #434B5C;\n",
              "      --hover-fill-color: #FFFFFF;\n",
              "      --disabled-bg-color: #3B4455;\n",
              "      --disabled-fill-color: #666;\n",
              "  }\n",
              "\n",
              "  .colab-df-quickchart {\n",
              "    background-color: var(--bg-color);\n",
              "    border: none;\n",
              "    border-radius: 50%;\n",
              "    cursor: pointer;\n",
              "    display: none;\n",
              "    fill: var(--fill-color);\n",
              "    height: 32px;\n",
              "    padding: 0;\n",
              "    width: 32px;\n",
              "  }\n",
              "\n",
              "  .colab-df-quickchart:hover {\n",
              "    background-color: var(--hover-bg-color);\n",
              "    box-shadow: 0 1px 2px rgba(60, 64, 67, 0.3), 0 1px 3px 1px rgba(60, 64, 67, 0.15);\n",
              "    fill: var(--button-hover-fill-color);\n",
              "  }\n",
              "\n",
              "  .colab-df-quickchart-complete:disabled,\n",
              "  .colab-df-quickchart-complete:disabled:hover {\n",
              "    background-color: var(--disabled-bg-color);\n",
              "    fill: var(--disabled-fill-color);\n",
              "    box-shadow: none;\n",
              "  }\n",
              "\n",
              "  .colab-df-spinner {\n",
              "    border: 2px solid var(--fill-color);\n",
              "    border-color: transparent;\n",
              "    border-bottom-color: var(--fill-color);\n",
              "    animation:\n",
              "      spin 1s steps(1) infinite;\n",
              "  }\n",
              "\n",
              "  @keyframes spin {\n",
              "    0% {\n",
              "      border-color: transparent;\n",
              "      border-bottom-color: var(--fill-color);\n",
              "      border-left-color: var(--fill-color);\n",
              "    }\n",
              "    20% {\n",
              "      border-color: transparent;\n",
              "      border-left-color: var(--fill-color);\n",
              "      border-top-color: var(--fill-color);\n",
              "    }\n",
              "    30% {\n",
              "      border-color: transparent;\n",
              "      border-left-color: var(--fill-color);\n",
              "      border-top-color: var(--fill-color);\n",
              "      border-right-color: var(--fill-color);\n",
              "    }\n",
              "    40% {\n",
              "      border-color: transparent;\n",
              "      border-right-color: var(--fill-color);\n",
              "      border-top-color: var(--fill-color);\n",
              "    }\n",
              "    60% {\n",
              "      border-color: transparent;\n",
              "      border-right-color: var(--fill-color);\n",
              "    }\n",
              "    80% {\n",
              "      border-color: transparent;\n",
              "      border-right-color: var(--fill-color);\n",
              "      border-bottom-color: var(--fill-color);\n",
              "    }\n",
              "    90% {\n",
              "      border-color: transparent;\n",
              "      border-bottom-color: var(--fill-color);\n",
              "    }\n",
              "  }\n",
              "</style>\n",
              "\n",
              "  <script>\n",
              "    async function quickchart(key) {\n",
              "      const quickchartButtonEl =\n",
              "        document.querySelector('#' + key + ' button');\n",
              "      quickchartButtonEl.disabled = true;  // To prevent multiple clicks.\n",
              "      quickchartButtonEl.classList.add('colab-df-spinner');\n",
              "      try {\n",
              "        const charts = await google.colab.kernel.invokeFunction(\n",
              "            'suggestCharts', [key], {});\n",
              "      } catch (error) {\n",
              "        console.error('Error during call to suggestCharts:', error);\n",
              "      }\n",
              "      quickchartButtonEl.classList.remove('colab-df-spinner');\n",
              "      quickchartButtonEl.classList.add('colab-df-quickchart-complete');\n",
              "    }\n",
              "    (() => {\n",
              "      let quickchartButtonEl =\n",
              "        document.querySelector('#df-b475759e-6ce6-4de3-a05d-08fd80d2ca50 button');\n",
              "      quickchartButtonEl.style.display =\n",
              "        google.colab.kernel.accessAllowed ? 'block' : 'none';\n",
              "    })();\n",
              "  </script>\n",
              "</div>\n",
              "    </div>\n",
              "  </div>\n"
            ]
          },
          "metadata": {},
          "execution_count": 57
        }
      ]
    },
    {
      "cell_type": "code",
      "source": [
        "indexes = list(y_test_df[(y_test_df['str_label'] == 'Upper part') &\\\n",
        "                         (y_test_df['pred_label'] == 'One piece') &\\\n",
        "                         (y_test_df['proba_label'] < 0.5)]['index']\n",
        "               )"
      ],
      "metadata": {
        "id": "YMSWxkUf559_"
      },
      "execution_count": 58,
      "outputs": []
    },
    {
      "cell_type": "code",
      "source": [
        "for index_ in indexes:\n",
        "  plt.figure(figsize=(2, 2))\n",
        "  print(\"Image number {}\".format(index_))\n",
        "  image = np.load(NPY_FILES + 'test_image_{:05d}.npy'.format(index_))\n",
        "  plt.imshow(image, cmap='gray', aspect='auto')\n",
        "  plt.axis('off')\n",
        "  plt.show()\n",
        "  print(\"-\" * 20)"
      ],
      "metadata": {
        "colab": {
          "base_uri": "https://localhost:8080/",
          "height": 436
        },
        "id": "2GwqnAbC6cbs",
        "outputId": "54198c50-5a6d-4d01-9fa9-a328f20d53e1"
      },
      "execution_count": 59,
      "outputs": [
        {
          "output_type": "stream",
          "name": "stdout",
          "text": [
            "Image number 3230\n"
          ]
        },
        {
          "output_type": "display_data",
          "data": {
            "text/plain": [
              "<Figure size 200x200 with 1 Axes>"
            ],
            "image/png": "[encoded data removed]"
          },
          "metadata": {}
        },
        {
          "output_type": "stream",
          "name": "stdout",
          "text": [
            "--------------------\n",
            "Image number 3880\n"
          ]
        },
        {
          "output_type": "display_data",
          "data": {
            "text/plain": [
              "<Figure size 200x200 with 1 Axes>"
            ],
            "image/png": "[encoded data removed]"
          },
          "metadata": {}
        },
        {
          "output_type": "stream",
          "name": "stdout",
          "text": [
            "--------------------\n"
          ]
        }
      ]
    },
    {
      "cell_type": "markdown",
      "source": [
        "## ExplainableAI with Shap"
      ],
      "metadata": {
        "id": "2uimPxh4_1N_"
      }
    },
    {
      "cell_type": "markdown",
      "source": [
        "__Define chunk to run exAI with Shap values__"
      ],
      "metadata": {
        "id": "mvJPTiAYidYg"
      }
    },
    {
      "cell_type": "code",
      "source": [
        "# -- Load model\n",
        "best_model = torch.load(MODEL_NAME)\n",
        "if torch.cuda.is_available():\n",
        "  best_model.to('cuda')\n",
        "\n",
        "# -- Define transform functions\n",
        "transform = transforms.Compose([\n",
        "    transforms.ToPILImage(),\n",
        "    transforms.Resize((IMG_SIZE, IMG_SIZE)),\n",
        "    transforms.ToTensor(),\n",
        "    transforms.Normalize((MEAN,), (STD,))\n",
        "])\n",
        "\n",
        "# -- Define predict function\n",
        "def predict(image):\n",
        "    image  = torch.FloatTensor(image)\n",
        "    if torch.cuda.is_available():\n",
        "        image = image.cuda()\n",
        "    output = model(image)\n",
        "    return output\n",
        "\n",
        "# -- 1. Create an explainer with model and image masker\n",
        "# -- 2. Define a masker that is used to mask out partitions of the input image.\n",
        "masker_blur = shap.maskers.Image(\"blur({},{})\".format(IMG_SIZE, IMG_SIZE), (3, IMG_SIZE, IMG_SIZE))\n",
        "\n",
        "# -- Sample with image number 2191 (shirt)\n",
        "explainer  = shap.Explainer(predict, masker_blur)\n",
        "image_list = []\n",
        "for index_ in indexes:\n",
        "    if index_ == 3230:\n",
        "      image = np.load(NPY_FILES + 'test_image_{:05d}.npy'.format(index_))\n",
        "      image = torch.FloatTensor(image)\n",
        "      image = transform(image)\n",
        "      image = image.expand(3, image.size(1), image.size(2))\n",
        "      image = torch.unsqueeze(image, 0)  # Añade la dimensión batch\n",
        "      if torch.cuda.is_available():\n",
        "          image = image.cuda()\n",
        "      image_list.append(image)\n",
        "\n",
        "shap_values = explainer(\n",
        "    image_list[0],\n",
        "    max_evals=1000,\n",
        "    batch_size=1,\n",
        "    outputs=shap.Explanation.argsort.flip[:1],\n",
        ")"
      ],
      "metadata": {
        "colab": {
          "base_uri": "https://localhost:8080/",
          "height": 35,
          "referenced_widgets": [
            "bf5ca3ad81604f62bb8074e8c5fab969",
            "71917e4a3de1466b88f957635a0de548",
            "8b992b191053498a863dd0ac181456a2",
            "bf044da0d21843279b4f933e68c6c58d",
            "2872e98329ed457eb344d9013f8dd6ee",
            "6882d8e7d3ea426e905d488c214b789b",
            "17e4da334cc7471e88c8625a9161950a",
            "01515f7852aa45bead31971425d042cc",
            "c801f16a5bc2403fb36ce77358da8c48",
            "ea292e6b582742d8be21a895f0a7e62c",
            "ae4bb25c3a9b469e95555c2993d06864"
          ]
        },
        "id": "4ZRZAoDPAXKr",
        "outputId": "54304095-2743-4ca2-dbaa-c92b602b4784"
      },
      "execution_count": 60,
      "outputs": [
        {
          "output_type": "display_data",
          "data": {
            "text/plain": [
              "  0%|          | 0/998 [00:00<?, ?it/s]"
            ],
            "application/vnd.jupyter.widget-view+json": {
              "version_major": 2,
              "version_minor": 0,
              "model_id": "bf5ca3ad81604f62bb8074e8c5fab969"
            }
          },
          "metadata": {}
        },
        {
          "output_type": "stream",
          "name": "stderr",
          "text": [
            "PartitionExplainer explainer: 2it [01:34, 94.51s/it]               \n"
          ]
        }
      ]
    },
    {
      "cell_type": "code",
      "source": [
        "# -- Define inverse transform function (to \"unstandardize data\")\n",
        "inv_transform = [\n",
        "    transforms.Normalize(\n",
        "        mean=(-1 * np.array(MEAN) / np.array(STD)).tolist(),\n",
        "        std=(1 / np.array(STD)).tolist(),\n",
        "    )\n",
        "]\n",
        "shap_values_data = np.moveaxis((shap_values.data * STD + MEAN).cpu().numpy()[0], 0, -1)\n",
        "shap_values_values = [np.moveaxis(val, 0, -1) for val in np.moveaxis(shap_values.values[0], -1, 0)]"
      ],
      "metadata": {
        "id": "jaDtbk8CO7N3"
      },
      "execution_count": 61,
      "outputs": []
    },
    {
      "cell_type": "code",
      "source": [
        "shap.image_plot(\n",
        "    shap_values=shap_values_values,\n",
        "    pixel_values=shap_values_data,\n",
        "    labels=shap_values.output_names\n",
        ")"
      ],
      "metadata": {
        "colab": {
          "base_uri": "https://localhost:8080/",
          "height": 387
        },
        "id": "lvAR4AeQMMa_",
        "outputId": "eb697af2-a4ff-4f30-ed13-b677c6eee893"
      },
      "execution_count": 62,
      "outputs": [
        {
          "output_type": "display_data",
          "data": {
            "text/plain": [
              "<Figure size 600x500 with 3 Axes>"
            ],
            "image/png": "[encoded data removed]"
          },
          "metadata": {}
        }
      ]
    },
    {
      "cell_type": "markdown",
      "source": [
        "## Conclusions for next experiments"
      ],
      "metadata": {
        "id": "9nuA6Okli-lW"
      }
    },
    {
      "cell_type": "markdown",
      "source": [
        "* __After finetuning all layers, results have improved: specially with \"One Piece\" clothes__"
      ],
      "metadata": {
        "id": "BJApbkxejDOw"
      }
    },
    {
      "cell_type": "markdown",
      "source": [
        "|                  | recall | precision | negative predicted value | model |\n",
        "|------------------|-------|-----------|--------------------------| -------- |\n",
        "| Upper part       | 0.91  | 0.96      | 0.94                     | MobileNetV2 baseline (no img aug) - frozen layers |\n",
        "|        | 0.89  | 0.94      | 0.93                     | MobileNetV2 baseline (best img aug) - frozen layers |\n",
        "|        | __0.96__  | __0.99__     | __0.97__                     | MobileNetV2 baseline (no img aug) - non frozen layers |\n",
        "\n",
        "|                  | recall | precision | negative predicted value | model |\n",
        "|------------------|-------|-----------|--------------------------| -------- |\n",
        "| Bottom part      | 0.96  | 0.97      | 1.0                      | MobileNetV2 baseline (no img aug) - frozen layers |\n",
        "|     | 0.94  | 0.95      | 0.99                      | MobileNetV2 baseline (best img aug) - frozen layers |\n",
        "|       | __0.99__  | __0.99__      | __1.0__                      | MobileNetV2 baseline (no img aug) - non frozen layers |\n",
        "\n",
        "|                  | recall | precision | negative predicted value | model |\n",
        "|------------------|-------|-----------|--------------------------| -------- |\n",
        "| One piece        | 0.88  | 0.73      | 0.99                     | MobileNetV2 baseline (no img aug) - frozen layers |\n",
        "|        | 0.8  | 0.67      | 0.98                     | MobileNetV2 baseline (best img aug) - frozen layers |\n",
        "|        | __0.96__  | __0.86__      | __1.0__                     | MobileNetV2 baseline (no img aug) - non frozen layers |\n",
        "\n",
        "|                  | recall | precision | negative predicted value | model |\n",
        "|------------------|-------|-----------|--------------------------| -------- |\n",
        "| Footwear         | 0.99  | 0.99      | 1.0                      | MobileNetV2 baseline (no img aug) - frozen layers |\n",
        "|         | 0.98  | 0.99      | 0.99                      | MobileNetV2 baseline (best img aug) - frozen layers |\n",
        "|         | __1.0__  | __1.0__      | __1.0__                      | MobileNetV2 baseline (no img aug) - non frozen layers |\n",
        "\n",
        "|                  | recall | precision | negative predicted value | model |\n",
        "|------------------|-------|-----------|--------------------------| -------- |\n",
        "| Bags             | 0.96  | 0.92      | 1.0                      | MobileNetV2 baseline (no img aug) - frozen layers |\n",
        "|             | 0.92  | 0.89      | 0.99                      | MobileNetV2 baseline (best img aug) - frozen layers |\n",
        "|             | __0.99__  | __0.99__      | __1.0__                      | MobileNetV2 baseline (no img aug) - non frozen layers |\n",
        "\n",
        "* __Baseline model achieves better results if we trained all weights__\n",
        "\n",
        "* __Performance with best MobileNetV2 (no image augmentation + non frozen layers)__\n",
        "\n",
        "|                  | number of parameters | model size (MB) | test inference time (seconds) |\n",
        "|------------------|-------|-----------|--------------------------|\n",
        "| MobilenetV2 - baseline | 2230277 | 8.8 MB | 37.6 sec |\n",
        "| MobilenetV2 - baseline - no frozen layers | 2230277 | 8.8 MB | 37.3 sec |\n",
        "\n",
        "* __Final experiment: What if we fine-tune a smaller version? E.g: MobileNetV3__"
      ],
      "metadata": {
        "id": "xHX23E4OPxvr"
      }
    },
    {
      "cell_type": "code",
      "source": [
        "# Define test-inference function\n",
        "def simple_test(test_data, model):\n",
        "    print('Validating...')\n",
        "    model.eval()\n",
        "    prediction_proba_list = []\n",
        "    label_list = []\n",
        "    prediction_list = []\n",
        "    with torch.no_grad():\n",
        "      for input_data, label in tqdm(test_data):\n",
        "          # Again, switch to GPU if available\n",
        "          if torch.cuda.is_available():\n",
        "              input_data, label = input_data.cuda(), label.cuda()\n",
        "\n",
        "          label_numpy = label.detach().cpu().numpy()\n",
        "          label_list.append(label_numpy)\n",
        "\n",
        "          outputs  = model(input_data)\n",
        "\n",
        "          # Apply softmax activation to get all the outputs between 0 and 1\n",
        "          outputs_sig = F.softmax(outputs.data, dim=1).detach().cpu()\n",
        "          prediction_list.append(maximize_index(outputs_sig.numpy()))\n",
        "      # Get Sensitivity/Precision/NPV\n",
        "      prediction_list = list(itertools.chain(*prediction_list))\n",
        "      label_list      = list(itertools.chain(*label_list))\n",
        "\n",
        "best_model = torch.load(MODEL_NAME)"
      ],
      "metadata": {
        "id": "-DL7TVmDdT-l"
      },
      "execution_count": 64,
      "outputs": []
    },
    {
      "cell_type": "code",
      "source": [
        "%%time\n",
        "# -- Sample inference-test function\n",
        "simple_test(\n",
        "        test_loader, best_model\n",
        ")"
      ],
      "metadata": {
        "colab": {
          "base_uri": "https://localhost:8080/"
        },
        "id": "yorWE1Sp5YOB",
        "outputId": "8b8c7385-9bb1-4c77-b817-d6ba9099c477"
      },
      "execution_count": 65,
      "outputs": [
        {
          "output_type": "stream",
          "name": "stdout",
          "text": [
            "Validating...\n"
          ]
        },
        {
          "output_type": "stream",
          "name": "stderr",
          "text": [
            "\r  0%|          | 0/625 [00:00<?, ?it/s]The default value of the antialias parameter of all the resizing transforms (Resize(), RandomResizedCrop(), etc.) will change from None to True in v0.17, in order to be consistent across the PIL and Tensor backends. To suppress this warning, directly pass antialias=True (recommended, future default), antialias=None (current default, which means False for Tensors and True for PIL), or antialias=False (only works on Tensors - PIL will still use antialiasing). This also applies if you are using the inference transforms from the models weights: update the call to weights.transforms(antialias=True).\n",
            "The default value of the antialias parameter of all the resizing transforms (Resize(), RandomResizedCrop(), etc.) will change from None to True in v0.17, in order to be consistent across the PIL and Tensor backends. To suppress this warning, directly pass antialias=True (recommended, future default), antialias=None (current default, which means False for Tensors and True for PIL), or antialias=False (only works on Tensors - PIL will still use antialiasing). This also applies if you are using the inference transforms from the models weights: update the call to weights.transforms(antialias=True).\n",
            "100%|██████████| 625/625 [00:37<00:00, 16.75it/s]"
          ]
        },
        {
          "output_type": "stream",
          "name": "stdout",
          "text": [
            "CPU times: user 11.7 s, sys: 2.22 s, total: 13.9 s\n",
            "Wall time: 37.3 s\n"
          ]
        },
        {
          "output_type": "stream",
          "name": "stderr",
          "text": [
            "\n"
          ]
        }
      ]
    },
    {
      "cell_type": "code",
      "source": [
        "params = sum([np.prod(p.size()) for p in best_model.parameters()])\n",
        "params"
      ],
      "metadata": {
        "colab": {
          "base_uri": "https://localhost:8080/"
        },
        "id": "Zj-ZnCcKfgxi",
        "outputId": "c430e674-bfaf-432f-faac-1620043e2795"
      },
      "execution_count": 44,
      "outputs": [
        {
          "output_type": "execute_result",
          "data": {
            "text/plain": [
              "2230277"
            ]
          },
          "metadata": {},
          "execution_count": 44
        }
      ]
    }
  ]
}