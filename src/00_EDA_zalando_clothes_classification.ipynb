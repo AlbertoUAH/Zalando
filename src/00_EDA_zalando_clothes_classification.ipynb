{
  "nbformat": 4,
  "nbformat_minor": 0,
  "metadata": {
    "colab": {
      "provenance": []
    },
    "kernelspec": {
      "name": "python3",
      "display_name": "Python 3"
    },
    "language_info": {
      "name": "python"
    }
  },
  "cells": [
    {
      "cell_type": "markdown",
      "source": [
        "# Zalando Clother Classification - Exploratory Data Analysis (EDA)\n",
        "\n",
        "__Author: Fernández Hernández, Alberto__\n",
        "\n",
        "__Date: 2023 - 10 - 25__"
      ],
      "metadata": {
        "id": "izQugB3tG8ar"
      }
    },
    {
      "cell_type": "code",
      "execution_count": null,
      "metadata": {
        "id": "Rc3PTfDJGqCY"
      },
      "outputs": [],
      "source": [
        "# -- Libraries\n",
        "from   tqdm              import tqdm\n",
        "import matplotlib.pyplot as plt\n",
        "import numpy             as np\n",
        "import pandas            as pd\n",
        "import math\n",
        "import gzip\n",
        "import os"
      ]
    },
    {
      "cell_type": "code",
      "source": [
        "# -- Constants\n",
        "MAIN_PATH     = '/content/drive/MyDrive/Personal/CentricSoftware'\n",
        "LABEL_MAPPING = {\n",
        "    0: \"T-shirt/top\",\n",
        "    1: \"Trouser\",\n",
        "    2: \"Pullover\",\n",
        "    3: \"Dress\",\n",
        "    4: \"Coat\",\n",
        "    5: \"Sandal\",\n",
        "    6: \"Shirt\",\n",
        "    7: \"Sneaker\",\n",
        "    8: \"Bag\",\n",
        "    9: \"Ankle boot\"\n",
        "}\n",
        "\n",
        "CATEGORY_MAPPING = {\n",
        "    \"T-shirt/top\": \"Upper part\",\n",
        "    \"Pullover\": \"Upper part\",\n",
        "    \"Coat\": \"Upper part\",\n",
        "    \"Shirt\": \"Upper part\",\n",
        "    \"Trouser\": \"Bottom part\",\n",
        "    \"Dress\": \"One piece\",\n",
        "    \"Sandal\": \"Footwear\",\n",
        "    \"Sneaker\": \"Footwear\",\n",
        "    \"Ankle boot\": \"Footwear\",\n",
        "    \"Bag\": \"Bags\"\n",
        "}"
      ],
      "metadata": {
        "id": "GpIOZwPLJGLT"
      },
      "execution_count": null,
      "outputs": []
    },
    {
      "cell_type": "code",
      "source": [
        "f=gzip.open('/content/drive/MyDrive/Personal/CentricSoftware/t10k-images-idx3-ubyte.gz','rb')\n",
        "file_content=f.read()"
      ],
      "metadata": {
        "id": "5PmiMfbmJSLl"
      },
      "execution_count": null,
      "outputs": []
    },
    {
      "cell_type": "code",
      "source": [
        "def load_mnist(path, kind='train'):\n",
        "    \"\"\"Load MNIST data from `path`\"\"\"\n",
        "    labels_path = os.path.join(path,\n",
        "                               '%s-labels-idx1-ubyte.gz'\n",
        "                               % kind)\n",
        "    images_path = os.path.join(path,\n",
        "                               '%s-images-idx3-ubyte.gz'\n",
        "                               % kind)\n",
        "\n",
        "    with gzip.open(labels_path, 'rb') as lbpath:\n",
        "        labels = np.frombuffer(lbpath.read(), dtype=np.uint8,\n",
        "                               offset=8)\n",
        "\n",
        "    with gzip.open(images_path, 'rb') as imgpath:\n",
        "        images = np.frombuffer(imgpath.read(), dtype=np.uint8,\n",
        "                               offset=16).reshape(len(labels), 784)\n",
        "\n",
        "    return images, labels"
      ],
      "metadata": {
        "id": "3_Z1P890JU6t"
      },
      "execution_count": null,
      "outputs": []
    },
    {
      "cell_type": "markdown",
      "source": [
        "# Load data"
      ],
      "metadata": {
        "id": "Z8Y1FTifLwge"
      }
    },
    {
      "cell_type": "code",
      "source": [
        "X_train, y_train = load_mnist('/content/drive/MyDrive/Personal/CentricSoftware', kind='train')\n",
        "\n",
        "X_train          = np.reshape(X_train, (X_train.shape[0],\n",
        "                                        int(math.sqrt(X_train.shape[1])),\n",
        "                                        int(math.sqrt(X_train.shape[1]))\n",
        "                                        )\n",
        "                   )\n",
        "\n",
        "X_test, y_test   = load_mnist('/content/drive/MyDrive/Personal/CentricSoftware', kind='t10k')\n",
        "\n",
        "X_test           = np.reshape(X_test, (X_test.shape[0],\n",
        "                                        int(math.sqrt(X_test.shape[1])),\n",
        "                                        int(math.sqrt(X_test.shape[1]))\n",
        "                                        )\n",
        "                   )"
      ],
      "metadata": {
        "id": "d1FyzHaoJ7vE"
      },
      "execution_count": null,
      "outputs": []
    },
    {
      "cell_type": "markdown",
      "source": [
        "__Sample with train data__"
      ],
      "metadata": {
        "id": "3DbHYjsuL-ow"
      }
    },
    {
      "cell_type": "code",
      "source": [
        "for i in range(0, 5):\n",
        "  print(\"Image nº {}\".format(i))\n",
        "  plt.imshow(X_train[i,:,:], cmap='gray')\n",
        "  plt.axis('off')\n",
        "  plt.show()\n",
        "  print(\"\\n\")"
      ],
      "metadata": {
        "colab": {
          "base_uri": "https://localhost:8080/",
          "height": 1000
        },
        "id": "ciglZGqVLYrs",
        "outputId": "210629a0-d122-4126-a126-0744652fcda5"
      },
      "execution_count": null,
      "outputs": [
        {
          "output_type": "stream",
          "name": "stdout",
          "text": [
            "Image nº 0\n"
          ]
        },
        {
          "output_type": "display_data",
          "data": {
            "text/plain": [
              "<Figure size 640x480 with 1 Axes>"
            ],
            "image/png": "[encoded data removed]"
          },
          "metadata": {}
        },
        {
          "output_type": "stream",
          "name": "stdout",
          "text": [
            "\n",
            "\n",
            "Image nº 1\n"
          ]
        },
        {
          "output_type": "display_data",
          "data": {
            "text/plain": [
              "<Figure size 640x480 with 1 Axes>"
            ],
            "image/png": "[encoded data removed]"
          },
          "metadata": {}
        },
        {
          "output_type": "stream",
          "name": "stdout",
          "text": [
            "\n",
            "\n",
            "Image nº 2\n"
          ]
        },
        {
          "output_type": "display_data",
          "data": {
            "text/plain": [
              "<Figure size 640x480 with 1 Axes>"
            ],
            "image/png": "[encoded data removed]"
          },
          "metadata": {}
        },
        {
          "output_type": "stream",
          "name": "stdout",
          "text": [
            "\n",
            "\n",
            "Image nº 3\n"
          ]
        },
        {
          "output_type": "display_data",
          "data": {
            "text/plain": [
              "<Figure size 640x480 with 1 Axes>"
            ],
            "image/png": "[encoded data removed]"
          },
          "metadata": {}
        },
        {
          "output_type": "stream",
          "name": "stdout",
          "text": [
            "\n",
            "\n",
            "Image nº 4\n"
          ]
        },
        {
          "output_type": "display_data",
          "data": {
            "text/plain": [
              "<Figure size 640x480 with 1 Axes>"
            ],
            "image/png": "[encoded data removed]"
          },
          "metadata": {}
        },
        {
          "output_type": "stream",
          "name": "stdout",
          "text": [
            "\n",
            "\n"
          ]
        }
      ]
    },
    {
      "cell_type": "markdown",
      "source": [
        "__Sample with test data__"
      ],
      "metadata": {
        "id": "vowG_8qeMAOs"
      }
    },
    {
      "cell_type": "code",
      "source": [
        "for i in range(0, 5):\n",
        "  print(\"Image nº {}\".format(i))\n",
        "  plt.imshow(X_test[i,:,:], cmap='gray')\n",
        "  plt.axis('off')\n",
        "  plt.show()\n",
        "  print(\"\\n\")"
      ],
      "metadata": {
        "colab": {
          "base_uri": "https://localhost:8080/",
          "height": 1000
        },
        "id": "q-UDDAuFLfKh",
        "outputId": "46980901-db64-4e53-8b92-5cb889b6f213"
      },
      "execution_count": null,
      "outputs": [
        {
          "output_type": "stream",
          "name": "stdout",
          "text": [
            "Image nº 0\n"
          ]
        },
        {
          "output_type": "display_data",
          "data": {
            "text/plain": [
              "<Figure size 640x480 with 1 Axes>"
            ],
            "image/png": "[encoded data removed]"
          },
          "metadata": {}
        },
        {
          "output_type": "stream",
          "name": "stdout",
          "text": [
            "\n",
            "\n",
            "Image nº 1\n"
          ]
        },
        {
          "output_type": "display_data",
          "data": {
            "text/plain": [
              "<Figure size 640x480 with 1 Axes>"
            ],
            "image/png": "[encoded data removed]"
          },
          "metadata": {}
        },
        {
          "output_type": "stream",
          "name": "stdout",
          "text": [
            "\n",
            "\n",
            "Image nº 2\n"
          ]
        },
        {
          "output_type": "display_data",
          "data": {
            "text/plain": [
              "<Figure size 640x480 with 1 Axes>"
            ],
            "image/png": "[encoded data removed]"
          },
          "metadata": {}
        },
        {
          "output_type": "stream",
          "name": "stdout",
          "text": [
            "\n",
            "\n",
            "Image nº 3\n"
          ]
        },
        {
          "output_type": "display_data",
          "data": {
            "text/plain": [
              "<Figure size 640x480 with 1 Axes>"
            ],
            "image/png": "[encoded data removed]"
          },
          "metadata": {}
        },
        {
          "output_type": "stream",
          "name": "stdout",
          "text": [
            "\n",
            "\n",
            "Image nº 4\n"
          ]
        },
        {
          "output_type": "display_data",
          "data": {
            "text/plain": [
              "<Figure size 640x480 with 1 Axes>"
            ],
            "image/png": "[encoded data removed]"
          },
          "metadata": {}
        },
        {
          "output_type": "stream",
          "name": "stdout",
          "text": [
            "\n",
            "\n"
          ]
        }
      ]
    },
    {
      "cell_type": "markdown",
      "source": [
        "# Exploratory Data Analysis"
      ],
      "metadata": {
        "id": "uuaW--UNMMqz"
      }
    },
    {
      "cell_type": "markdown",
      "source": [
        "## 1. Label frequency"
      ],
      "metadata": {
        "id": "ehCjAAzAMOzg"
      }
    },
    {
      "cell_type": "code",
      "source": [
        "# -- Train labels\n",
        "y_train_df = pd.DataFrame({'label': y_train})\n",
        "y_train_df['label_str'] = y_train_df['label'].map(LABEL_MAPPING)\n",
        "y_train_df['label_str'].value_counts()"
      ],
      "metadata": {
        "colab": {
          "base_uri": "https://localhost:8080/"
        },
        "id": "9pMb1RVhMDYS",
        "outputId": "c2a3f07c-6e5a-455e-e1b0-c335c8ffcf4b"
      },
      "execution_count": null,
      "outputs": [
        {
          "output_type": "execute_result",
          "data": {
            "text/plain": [
              "Ankle boot     6000\n",
              "T-shirt/top    6000\n",
              "Dress          6000\n",
              "Pullover       6000\n",
              "Sneaker        6000\n",
              "Sandal         6000\n",
              "Trouser        6000\n",
              "Shirt          6000\n",
              "Coat           6000\n",
              "Bag            6000\n",
              "Name: label_str, dtype: int64"
            ]
          },
          "metadata": {},
          "execution_count": 6
        }
      ]
    },
    {
      "cell_type": "code",
      "source": [
        "# -- Test labels\n",
        "y_test_df = pd.DataFrame({'label': y_test})\n",
        "y_test_df['label_str'] = y_test_df['label'].map(LABEL_MAPPING)\n",
        "y_test_df['label_str'].value_counts()"
      ],
      "metadata": {
        "colab": {
          "base_uri": "https://localhost:8080/"
        },
        "id": "y0LB9RqGMR29",
        "outputId": "3de77d48-6faf-408a-a72d-73151b9fe74a"
      },
      "execution_count": null,
      "outputs": [
        {
          "output_type": "execute_result",
          "data": {
            "text/plain": [
              "Ankle boot     1000\n",
              "Pullover       1000\n",
              "Trouser        1000\n",
              "Shirt          1000\n",
              "Coat           1000\n",
              "Sandal         1000\n",
              "Sneaker        1000\n",
              "Dress          1000\n",
              "Bag            1000\n",
              "T-shirt/top    1000\n",
              "Name: label_str, dtype: int64"
            ]
          },
          "metadata": {},
          "execution_count": 7
        }
      ]
    },
    {
      "cell_type": "markdown",
      "source": [
        "__NOTE: both datasets are balanced, in terms of original labels__"
      ],
      "metadata": {
        "id": "OFqIN_YqOg_h"
      }
    },
    {
      "cell_type": "code",
      "source": [
        "y_train_df['category'] = y_train_df['label_str'].map(CATEGORY_MAPPING)\n",
        "y_test_df['category']  = y_test_df['label_str'].map(CATEGORY_MAPPING)\n",
        "y_train_df['category'].value_counts()"
      ],
      "metadata": {
        "colab": {
          "base_uri": "https://localhost:8080/"
        },
        "id": "6qPbLn2iOf5n",
        "outputId": "dcd29084-b01b-41fd-f9fb-ebd4b0088ef5"
      },
      "execution_count": null,
      "outputs": [
        {
          "output_type": "execute_result",
          "data": {
            "text/plain": [
              "Upper part     24000\n",
              "Footwear       18000\n",
              "One piece       6000\n",
              "Bottom part     6000\n",
              "Bags            6000\n",
              "Name: category, dtype: int64"
            ]
          },
          "metadata": {},
          "execution_count": 8
        }
      ]
    },
    {
      "cell_type": "code",
      "source": [
        "y_test_df['category'].value_counts()"
      ],
      "metadata": {
        "colab": {
          "base_uri": "https://localhost:8080/"
        },
        "id": "YTNIo-vCPUPC",
        "outputId": "0573b789-9a9c-4c6c-8b70-7d796bb4c25b"
      },
      "execution_count": null,
      "outputs": [
        {
          "output_type": "execute_result",
          "data": {
            "text/plain": [
              "Upper part     4000\n",
              "Footwear       3000\n",
              "Bottom part    1000\n",
              "One piece      1000\n",
              "Bags           1000\n",
              "Name: category, dtype: int64"
            ]
          },
          "metadata": {},
          "execution_count": 9
        }
      ]
    },
    {
      "cell_type": "markdown",
      "source": [
        "## 2. Duplicated images"
      ],
      "metadata": {
        "id": "4aT01PNK6k8G"
      }
    },
    {
      "cell_type": "code",
      "source": [
        "def duplicated_matrices(list_of_matrices):\n",
        "    unique_matrices = set()\n",
        "    for matriz in tqdm(list_of_matrices):\n",
        "        matriz_hashable = tuple(map(tuple, matriz))\n",
        "        if matriz_hashable in unique_matrices:\n",
        "            return True\n",
        "        unique_matrices.add(matriz_hashable)\n",
        "    return False"
      ],
      "metadata": {
        "id": "CdsziF9P7gwn"
      },
      "execution_count": null,
      "outputs": []
    },
    {
      "cell_type": "code",
      "source": [
        "duplicated_matrices(X_train), duplicated_matrices(X_test)"
      ],
      "metadata": {
        "colab": {
          "base_uri": "https://localhost:8080/"
        },
        "id": "5jiqu1rZ6yOs",
        "outputId": "72d9b28d-8434-409f-858d-43aa72b2d415"
      },
      "execution_count": null,
      "outputs": [
        {
          "output_type": "stream",
          "name": "stderr",
          "text": [
            "  6%|▋         | 3779/60000 [03:12<47:37, 19.67it/s] \n",
            "100%|██████████| 60000/60000 [00:08<00:00, 6817.48it/s]\n",
            "100%|██████████| 10000/10000 [00:00<00:00, 10345.46it/s]\n"
          ]
        },
        {
          "output_type": "execute_result",
          "data": {
            "text/plain": [
              "(False, False)"
            ]
          },
          "metadata": {},
          "execution_count": 68
        }
      ]
    },
    {
      "cell_type": "code",
      "source": [
        "def matrices_to_set(matrix_list):\n",
        "    return {tuple(map(tuple, matrix)) for matrix in tqdm(matrix_list)}\n",
        "\n",
        "X_train_set = matrices_to_set(X_train)\n",
        "X_test_set = matrices_to_set(X_test)\n",
        "\n",
        "if any(X_train_set.intersection(X_test_set)):\n",
        "  print(\"At least one matrix from X_train is in X_test.\")\n",
        "else:\n",
        "  print(\"No duplicated matrices from X_train in X_test\")\n",
        "\n",
        "\n",
        "if any(X_test_set.intersection(X_train_set)):\n",
        "  print(\"At least one matrix from X_test is in X_train.\")\n",
        "else:\n",
        "  print(\"No duplicated matrices from X_test in X_train\")"
      ],
      "metadata": {
        "colab": {
          "base_uri": "https://localhost:8080/"
        },
        "id": "9h3gEzNe8nYO",
        "outputId": "a582150f-ab08-489b-8c58-4f59ae783527"
      },
      "execution_count": null,
      "outputs": [
        {
          "output_type": "stream",
          "name": "stderr",
          "text": [
            "100%|██████████| 60000/60000 [00:06<00:00, 8803.09it/s] \n",
            "100%|██████████| 10000/10000 [00:01<00:00, 5762.50it/s]"
          ]
        },
        {
          "output_type": "stream",
          "name": "stdout",
          "text": [
            "No duplicated matrices from X_train in X_test\n",
            "No duplicated matrices from X_test in X_train\n"
          ]
        },
        {
          "output_type": "stream",
          "name": "stderr",
          "text": [
            "\n"
          ]
        }
      ]
    },
    {
      "cell_type": "code",
      "source": [
        "duplicated_matrices(X_train)"
      ],
      "metadata": {
        "id": "LLOB7vtQ7EEf"
      },
      "execution_count": null,
      "outputs": []
    },
    {
      "cell_type": "markdown",
      "source": [
        "__On the other hand, category distributions are unbalanced__"
      ],
      "metadata": {
        "id": "bs0vuBXpPo0C"
      }
    },
    {
      "cell_type": "code",
      "source": [
        "np.max(X_train)"
      ],
      "metadata": {
        "colab": {
          "base_uri": "https://localhost:8080/"
        },
        "id": "CmV8JX9FPiqd",
        "outputId": "95f599fd-35d3-4849-deb4-ab622f3893f3"
      },
      "execution_count": null,
      "outputs": [
        {
          "output_type": "execute_result",
          "data": {
            "text/plain": [
              "255"
            ]
          },
          "metadata": {},
          "execution_count": 10
        }
      ]
    },
    {
      "cell_type": "code",
      "source": [
        "X_train.shape, y_train.shape"
      ],
      "metadata": {
        "colab": {
          "base_uri": "https://localhost:8080/"
        },
        "id": "YSmjjge4yyEp",
        "outputId": "57e6e285-6e94-4b80-8453-60de713b1ae4"
      },
      "execution_count": null,
      "outputs": [
        {
          "output_type": "execute_result",
          "data": {
            "text/plain": [
              "((60000, 28, 28), (60000,))"
            ]
          },
          "metadata": {},
          "execution_count": 21
        }
      ]
    },
    {
      "cell_type": "code",
      "source": [
        "matrix_dict = {label: [] for label in set(y_train)}\n",
        "for matrix, label in zip(X_train, y_train):\n",
        "  matrix_dict[label].append(matrix)\n",
        "mean_df = pd.DataFrame([{k: np.mean(matrix_dict[k]) for k in matrix_dict.keys()}]).T.reset_index()\n",
        "mean_df.rename(columns={'index': 'label', 0: 'avg_pixel'}, inplace=True)\n",
        "mean_df['label'] = mean_df['label'].map(LABEL_MAPPING)\n",
        "mean_df['label'] = mean_df['label'].map(CATEGORY_MAPPING)"
      ],
      "metadata": {
        "id": "2z9rAcMly51D"
      },
      "execution_count": null,
      "outputs": []
    },
    {
      "cell_type": "code",
      "source": [
        "plt.figure(figsize=(8, 4))\n",
        "plt.bar(mean_df['label'], mean_df['avg_pixel'])\n",
        "plt.title('Avg pixel value per class')\n",
        "plt.xlabel('Label')\n",
        "plt.ylabel('Frequency')\n",
        "plt.show()"
      ],
      "metadata": {
        "id": "UqxS3KjkSGKM",
        "colab": {
          "base_uri": "https://localhost:8080/",
          "height": 410
        },
        "outputId": "03131ee9-f017-4763-ad73-f33c629942fa"
      },
      "execution_count": null,
      "outputs": [
        {
          "output_type": "display_data",
          "data": {
            "text/plain": [
              "<Figure size 800x400 with 1 Axes>"
            ],
            "image/png": "[encoded data removed]"
          },
          "metadata": {}
        }
      ]
    },
    {
      "cell_type": "code",
      "source": [
        "median_df = pd.DataFrame([{k: np.median(matrix_dict[k]) for k in matrix_dict.keys()}]).T.reset_index()\n",
        "median_df.rename(columns={'index': 'label', 0: 'median_pixel'}, inplace=True)\n",
        "median_df['label'] = median_df['label'].map(LABEL_MAPPING)\n",
        "median_df['label'] = median_df['label'].map(CATEGORY_MAPPING)\n",
        "\n",
        "plt.figure(figsize=(8, 4))\n",
        "plt.bar(median_df['label'], median_df['median_pixel'])\n",
        "plt.title('Median pixel value per class')\n",
        "plt.xlabel('Label')\n",
        "plt.ylabel('Frequency')\n",
        "plt.show()"
      ],
      "metadata": {
        "colab": {
          "base_uri": "https://localhost:8080/",
          "height": 410
        },
        "id": "e8ZVbjP6wfZB",
        "outputId": "1ac6d764-fbc7-4921-bcad-22a8a511ad5b"
      },
      "execution_count": null,
      "outputs": [
        {
          "output_type": "display_data",
          "data": {
            "text/plain": [
              "<Figure size 800x400 with 1 Axes>"
            ],
            "image/png": "[encoded data removed]"
          },
          "metadata": {}
        }
      ]
    },
    {
      "cell_type": "markdown",
      "source": [
        "__The data need to be standarized__"
      ],
      "metadata": {
        "id": "lqR8O6wO3smb"
      }
    }
  ]
}