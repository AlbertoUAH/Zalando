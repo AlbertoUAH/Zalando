{
  "nbformat": 4,
  "nbformat_minor": 0,
  "metadata": {
    "colab": {
      "provenance": [],
      "gpuType": "T4"
    },
    "kernelspec": {
      "name": "python3",
      "display_name": "Python 3"
    },
    "language_info": {
      "name": "python"
    },
    "accelerator": "GPU",
    "widgets": {
      "application/vnd.jupyter.widget-state+json": {
        "3d460ba74423477bb0f1a8bdb50090c6": {
          "model_module": "@jupyter-widgets/controls",
          "model_name": "HBoxModel",
          "model_module_version": "1.5.0",
          "state": {
            "_dom_classes": [],
            "_model_module": "@jupyter-widgets/controls",
            "_model_module_version": "1.5.0",
            "_model_name": "HBoxModel",
            "_view_count": null,
            "_view_module": "@jupyter-widgets/controls",
            "_view_module_version": "1.5.0",
            "_view_name": "HBoxView",
            "box_style": "",
            "children": [
              "IPY_MODEL_9562c39748a94056ac1c6bb1d56200f5",
              "IPY_MODEL_5afcfe97bfa742a88a95b9df2234baed",
              "IPY_MODEL_91c1de6702c84e548605affaab70079d"
            ],
            "layout": "IPY_MODEL_43e5395f429a4cfa9855fbb951d0733b"
          }
        },
        "9562c39748a94056ac1c6bb1d56200f5": {
          "model_module": "@jupyter-widgets/controls",
          "model_name": "HTMLModel",
          "model_module_version": "1.5.0",
          "state": {
            "_dom_classes": [],
            "_model_module": "@jupyter-widgets/controls",
            "_model_module_version": "1.5.0",
            "_model_name": "HTMLModel",
            "_view_count": null,
            "_view_module": "@jupyter-widgets/controls",
            "_view_module_version": "1.5.0",
            "_view_name": "HTMLView",
            "description": "",
            "description_tooltip": null,
            "layout": "IPY_MODEL_b07ba9006b3e4c3c9698da366fb7bb6b",
            "placeholder": "​",
            "style": "IPY_MODEL_84fa6a5082d84a07bacb2ba26f06c115",
            "value": ""
          }
        },
        "5afcfe97bfa742a88a95b9df2234baed": {
          "model_module": "@jupyter-widgets/controls",
          "model_name": "FloatProgressModel",
          "model_module_version": "1.5.0",
          "state": {
            "_dom_classes": [],
            "_model_module": "@jupyter-widgets/controls",
            "_model_module_version": "1.5.0",
            "_model_name": "FloatProgressModel",
            "_view_count": null,
            "_view_module": "@jupyter-widgets/controls",
            "_view_module_version": "1.5.0",
            "_view_name": "ProgressView",
            "bar_style": "",
            "description": "",
            "description_tooltip": null,
            "layout": "IPY_MODEL_a6a44487f93f47679e2f226b59d916c6",
            "max": 998,
            "min": 0,
            "orientation": "horizontal",
            "style": "IPY_MODEL_ca5cd313228447e89c262c4d8697f136",
            "value": 998
          }
        },
        "91c1de6702c84e548605affaab70079d": {
          "model_module": "@jupyter-widgets/controls",
          "model_name": "HTMLModel",
          "model_module_version": "1.5.0",
          "state": {
            "_dom_classes": [],
            "_model_module": "@jupyter-widgets/controls",
            "_model_module_version": "1.5.0",
            "_model_name": "HTMLModel",
            "_view_count": null,
            "_view_module": "@jupyter-widgets/controls",
            "_view_module_version": "1.5.0",
            "_view_name": "HTMLView",
            "description": "",
            "description_tooltip": null,
            "layout": "IPY_MODEL_767c72c9d6e34fdf822e1313efad724c",
            "placeholder": "​",
            "style": "IPY_MODEL_aa3ab21b430f49d6964ab756b8a99675",
            "value": " 1000/? [01:07&lt;00:00, 14.57it/s]"
          }
        },
        "43e5395f429a4cfa9855fbb951d0733b": {
          "model_module": "@jupyter-widgets/base",
          "model_name": "LayoutModel",
          "model_module_version": "1.2.0",
          "state": {
            "_model_module": "@jupyter-widgets/base",
            "_model_module_version": "1.2.0",
            "_model_name": "LayoutModel",
            "_view_count": null,
            "_view_module": "@jupyter-widgets/base",
            "_view_module_version": "1.2.0",
            "_view_name": "LayoutView",
            "align_content": null,
            "align_items": null,
            "align_self": null,
            "border": null,
            "bottom": null,
            "display": null,
            "flex": null,
            "flex_flow": null,
            "grid_area": null,
            "grid_auto_columns": null,
            "grid_auto_flow": null,
            "grid_auto_rows": null,
            "grid_column": null,
            "grid_gap": null,
            "grid_row": null,
            "grid_template_areas": null,
            "grid_template_columns": null,
            "grid_template_rows": null,
            "height": null,
            "justify_content": null,
            "justify_items": null,
            "left": null,
            "margin": null,
            "max_height": null,
            "max_width": null,
            "min_height": null,
            "min_width": null,
            "object_fit": null,
            "object_position": null,
            "order": null,
            "overflow": null,
            "overflow_x": null,
            "overflow_y": null,
            "padding": null,
            "right": null,
            "top": null,
            "visibility": "hidden",
            "width": null
          }
        },
        "b07ba9006b3e4c3c9698da366fb7bb6b": {
          "model_module": "@jupyter-widgets/base",
          "model_name": "LayoutModel",
          "model_module_version": "1.2.0",
          "state": {
            "_model_module": "@jupyter-widgets/base",
            "_model_module_version": "1.2.0",
            "_model_name": "LayoutModel",
            "_view_count": null,
            "_view_module": "@jupyter-widgets/base",
            "_view_module_version": "1.2.0",
            "_view_name": "LayoutView",
            "align_content": null,
            "align_items": null,
            "align_self": null,
            "border": null,
            "bottom": null,
            "display": null,
            "flex": null,
            "flex_flow": null,
            "grid_area": null,
            "grid_auto_columns": null,
            "grid_auto_flow": null,
            "grid_auto_rows": null,
            "grid_column": null,
            "grid_gap": null,
            "grid_row": null,
            "grid_template_areas": null,
            "grid_template_columns": null,
            "grid_template_rows": null,
            "height": null,
            "justify_content": null,
            "justify_items": null,
            "left": null,
            "margin": null,
            "max_height": null,
            "max_width": null,
            "min_height": null,
            "min_width": null,
            "object_fit": null,
            "object_position": null,
            "order": null,
            "overflow": null,
            "overflow_x": null,
            "overflow_y": null,
            "padding": null,
            "right": null,
            "top": null,
            "visibility": null,
            "width": null
          }
        },
        "84fa6a5082d84a07bacb2ba26f06c115": {
          "model_module": "@jupyter-widgets/controls",
          "model_name": "DescriptionStyleModel",
          "model_module_version": "1.5.0",
          "state": {
            "_model_module": "@jupyter-widgets/controls",
            "_model_module_version": "1.5.0",
            "_model_name": "DescriptionStyleModel",
            "_view_count": null,
            "_view_module": "@jupyter-widgets/base",
            "_view_module_version": "1.2.0",
            "_view_name": "StyleView",
            "description_width": ""
          }
        },
        "a6a44487f93f47679e2f226b59d916c6": {
          "model_module": "@jupyter-widgets/base",
          "model_name": "LayoutModel",
          "model_module_version": "1.2.0",
          "state": {
            "_model_module": "@jupyter-widgets/base",
            "_model_module_version": "1.2.0",
            "_model_name": "LayoutModel",
            "_view_count": null,
            "_view_module": "@jupyter-widgets/base",
            "_view_module_version": "1.2.0",
            "_view_name": "LayoutView",
            "align_content": null,
            "align_items": null,
            "align_self": null,
            "border": null,
            "bottom": null,
            "display": null,
            "flex": null,
            "flex_flow": null,
            "grid_area": null,
            "grid_auto_columns": null,
            "grid_auto_flow": null,
            "grid_auto_rows": null,
            "grid_column": null,
            "grid_gap": null,
            "grid_row": null,
            "grid_template_areas": null,
            "grid_template_columns": null,
            "grid_template_rows": null,
            "height": null,
            "justify_content": null,
            "justify_items": null,
            "left": null,
            "margin": null,
            "max_height": null,
            "max_width": null,
            "min_height": null,
            "min_width": null,
            "object_fit": null,
            "object_position": null,
            "order": null,
            "overflow": null,
            "overflow_x": null,
            "overflow_y": null,
            "padding": null,
            "right": null,
            "top": null,
            "visibility": null,
            "width": null
          }
        },
        "ca5cd313228447e89c262c4d8697f136": {
          "model_module": "@jupyter-widgets/controls",
          "model_name": "ProgressStyleModel",
          "model_module_version": "1.5.0",
          "state": {
            "_model_module": "@jupyter-widgets/controls",
            "_model_module_version": "1.5.0",
            "_model_name": "ProgressStyleModel",
            "_view_count": null,
            "_view_module": "@jupyter-widgets/base",
            "_view_module_version": "1.2.0",
            "_view_name": "StyleView",
            "bar_color": null,
            "description_width": ""
          }
        },
        "767c72c9d6e34fdf822e1313efad724c": {
          "model_module": "@jupyter-widgets/base",
          "model_name": "LayoutModel",
          "model_module_version": "1.2.0",
          "state": {
            "_model_module": "@jupyter-widgets/base",
            "_model_module_version": "1.2.0",
            "_model_name": "LayoutModel",
            "_view_count": null,
            "_view_module": "@jupyter-widgets/base",
            "_view_module_version": "1.2.0",
            "_view_name": "LayoutView",
            "align_content": null,
            "align_items": null,
            "align_self": null,
            "border": null,
            "bottom": null,
            "display": null,
            "flex": null,
            "flex_flow": null,
            "grid_area": null,
            "grid_auto_columns": null,
            "grid_auto_flow": null,
            "grid_auto_rows": null,
            "grid_column": null,
            "grid_gap": null,
            "grid_row": null,
            "grid_template_areas": null,
            "grid_template_columns": null,
            "grid_template_rows": null,
            "height": null,
            "justify_content": null,
            "justify_items": null,
            "left": null,
            "margin": null,
            "max_height": null,
            "max_width": null,
            "min_height": null,
            "min_width": null,
            "object_fit": null,
            "object_position": null,
            "order": null,
            "overflow": null,
            "overflow_x": null,
            "overflow_y": null,
            "padding": null,
            "right": null,
            "top": null,
            "visibility": null,
            "width": null
          }
        },
        "aa3ab21b430f49d6964ab756b8a99675": {
          "model_module": "@jupyter-widgets/controls",
          "model_name": "DescriptionStyleModel",
          "model_module_version": "1.5.0",
          "state": {
            "_model_module": "@jupyter-widgets/controls",
            "_model_module_version": "1.5.0",
            "_model_name": "DescriptionStyleModel",
            "_view_count": null,
            "_view_module": "@jupyter-widgets/base",
            "_view_module_version": "1.2.0",
            "_view_name": "StyleView",
            "description_width": ""
          }
        }
      }
    }
  },
  "cells": [
    {
      "cell_type": "markdown",
      "source": [
        "# Zalando Clother Classification - Modeling and testing\n",
        "\n",
        "__Author: Fernández Hernández, Alberto__\n",
        "\n",
        "__Date: 2023 - 10 - 26__"
      ],
      "metadata": {
        "id": "rE2MBh3YCbZ1"
      }
    },
    {
      "cell_type": "code",
      "source": [
        "!pip install shap\n",
        "!pip install codecarbon"
      ],
      "metadata": {
        "colab": {
          "base_uri": "https://localhost:8080/"
        },
        "outputId": "478be8e1-8c35-430a-eb5a-806505000c3a",
        "id": "8dW0I0xrlbYD"
      },
      "execution_count": 1,
      "outputs": [
        {
          "output_type": "stream",
          "name": "stdout",
          "text": [
            "Requirement already satisfied: shap in /usr/local/lib/python3.10/dist-packages (0.43.0)\n",
            "Requirement already satisfied: numpy in /usr/local/lib/python3.10/dist-packages (from shap) (1.23.5)\n",
            "Requirement already satisfied: scipy in /usr/local/lib/python3.10/dist-packages (from shap) (1.11.3)\n",
            "Requirement already satisfied: scikit-learn in /usr/local/lib/python3.10/dist-packages (from shap) (1.2.2)\n",
            "Requirement already satisfied: pandas in /usr/local/lib/python3.10/dist-packages (from shap) (1.5.3)\n",
            "Requirement already satisfied: tqdm>=4.27.0 in /usr/local/lib/python3.10/dist-packages (from shap) (4.66.1)\n",
            "Requirement already satisfied: packaging>20.9 in /usr/local/lib/python3.10/dist-packages (from shap) (23.2)\n",
            "Requirement already satisfied: slicer==0.0.7 in /usr/local/lib/python3.10/dist-packages (from shap) (0.0.7)\n",
            "Requirement already satisfied: numba in /usr/local/lib/python3.10/dist-packages (from shap) (0.56.4)\n",
            "Requirement already satisfied: cloudpickle in /usr/local/lib/python3.10/dist-packages (from shap) (2.2.1)\n",
            "Requirement already satisfied: llvmlite<0.40,>=0.39.0dev0 in /usr/local/lib/python3.10/dist-packages (from numba->shap) (0.39.1)\n",
            "Requirement already satisfied: setuptools in /usr/local/lib/python3.10/dist-packages (from numba->shap) (67.7.2)\n",
            "Requirement already satisfied: python-dateutil>=2.8.1 in /usr/local/lib/python3.10/dist-packages (from pandas->shap) (2.8.2)\n",
            "Requirement already satisfied: pytz>=2020.1 in /usr/local/lib/python3.10/dist-packages (from pandas->shap) (2023.3.post1)\n",
            "Requirement already satisfied: joblib>=1.1.1 in /usr/local/lib/python3.10/dist-packages (from scikit-learn->shap) (1.3.2)\n",
            "Requirement already satisfied: threadpoolctl>=2.0.0 in /usr/local/lib/python3.10/dist-packages (from scikit-learn->shap) (3.2.0)\n",
            "Requirement already satisfied: six>=1.5 in /usr/local/lib/python3.10/dist-packages (from python-dateutil>=2.8.1->pandas->shap) (1.16.0)\n"
          ]
        }
      ]
    },
    {
      "cell_type": "code",
      "execution_count": 2,
      "metadata": {
        "id": "NCOCKYzY_Xwh"
      },
      "outputs": [],
      "source": [
        "# -- Libraries\n",
        "from   sklearn.model_selection import train_test_split\n",
        "from   sklearn.utils           import class_weight\n",
        "from   sklearn                 import metrics\n",
        "from   torchvision             import models\n",
        "from   codecarbon              import EmissionsTracker\n",
        "from   tqdm                    import tqdm\n",
        "from   torch.utils             import data\n",
        "import torch.nn.functional     as F\n",
        "import torch.nn                as nn\n",
        "import matplotlib.pyplot       as plt\n",
        "import numpy                   as np\n",
        "import pandas                  as pd\n",
        "import torchvision.transforms  as transforms\n",
        "import itertools\n",
        "import torch\n",
        "import shap\n",
        "import math\n",
        "import gzip\n",
        "import os"
      ]
    },
    {
      "cell_type": "code",
      "source": [
        "# -- Constants and parameters\n",
        "MAIN_PATH       = '/content/drive/MyDrive/Personal/CentricSoftware'\n",
        "NPY_FILES       = MAIN_PATH + '/images/'\n",
        "MODELS_PATH     = MAIN_PATH + '/models/'\n",
        "MODEL_NAME      = f'{MODELS_PATH}/03_zalando_image_classification_squeezenet1_1_baseline_non_layers_frozen.pth'\n",
        "BATCH_SIZE      = 16\n",
        "RANDOM_STATE    = 1234\n",
        "EPOCHS          = 20\n",
        "PATIENT         = 3\n",
        "LEARNING_RATE   = 5e-05\n",
        "LOSS_IMPROVE    = 1e-04\n",
        "MAX_PIXEL_VALUE = 255\n",
        "NUM_LABELS      = 5\n",
        "IMG_SIZE        = 224\n",
        "\n",
        "# -- Specify seeds for reproducibility\n",
        "torch.manual_seed(RANDOM_STATE)\n",
        "torch.cuda.manual_seed(RANDOM_STATE)\n",
        "np.random.seed(RANDOM_STATE)\n",
        "torch.backends.cudnn.deterministic = True\n",
        "\n",
        "LABEL_MAPPING = {\n",
        "    0: \"T-shirt/top\",\n",
        "    1: \"Trouser\",\n",
        "    2: \"Pullover\",\n",
        "    3: \"Dress\",\n",
        "    4: \"Coat\",\n",
        "    5: \"Sandal\",\n",
        "    6: \"Shirt\",\n",
        "    7: \"Sneaker\",\n",
        "    8: \"Bag\",\n",
        "    9: \"Ankle boot\"\n",
        "}\n",
        "\n",
        "CATEGORY_MAPPING = {\n",
        "    \"T-shirt/top\": \"Upper part\",\n",
        "    \"Pullover\": \"Upper part\",\n",
        "    \"Coat\": \"Upper part\",\n",
        "    \"Shirt\": \"Upper part\",\n",
        "    \"Trouser\": \"Bottom part\",\n",
        "    \"Dress\": \"One piece\",\n",
        "    \"Sandal\": \"Footwear\",\n",
        "    \"Sneaker\": \"Footwear\",\n",
        "    \"Ankle boot\": \"Footwear\",\n",
        "    \"Bag\": \"Bags\"\n",
        "}\n",
        "\n",
        "GROUP_MAPPING = {\n",
        "    \"Upper part\": 0,\n",
        "    \"Bottom part\": 1,\n",
        "    \"One piece\": 2,\n",
        "    \"Footwear\": 3,\n",
        "    \"Bags\": 4\n",
        "}\n",
        "\n",
        "REVERSE_GROUP_MAPPING = dict((v, k) for k, v in GROUP_MAPPING.items())"
      ],
      "metadata": {
        "id": "lB7A2ZALCkw6"
      },
      "execution_count": 3,
      "outputs": []
    },
    {
      "cell_type": "code",
      "source": [
        "f=gzip.open('/content/drive/MyDrive/Personal/CentricSoftware/t10k-images-idx3-ubyte.gz','rb')\n",
        "file_content=f.read()"
      ],
      "metadata": {
        "id": "rl9hnep7Cm_t"
      },
      "execution_count": 4,
      "outputs": []
    },
    {
      "cell_type": "code",
      "source": [
        "def load_mnist(path, kind='train'):\n",
        "    \"\"\"Load MNIST data from `path`\"\"\"\n",
        "    labels_path = os.path.join(path,\n",
        "                               '%s-labels-idx1-ubyte.gz'\n",
        "                               % kind)\n",
        "    images_path = os.path.join(path,\n",
        "                               '%s-images-idx3-ubyte.gz'\n",
        "                               % kind)\n",
        "\n",
        "    with gzip.open(labels_path, 'rb') as lbpath:\n",
        "        labels = np.frombuffer(lbpath.read(), dtype=np.uint8,\n",
        "                               offset=8)\n",
        "\n",
        "    with gzip.open(images_path, 'rb') as imgpath:\n",
        "        images = np.frombuffer(imgpath.read(), dtype=np.uint8,\n",
        "                               offset=16).reshape(len(labels), 784)\n",
        "\n",
        "    return images, labels"
      ],
      "metadata": {
        "id": "pswemlZZCohG"
      },
      "execution_count": 5,
      "outputs": []
    },
    {
      "cell_type": "markdown",
      "source": [
        "## Load data"
      ],
      "metadata": {
        "id": "gbKS0SguCqFh"
      }
    },
    {
      "cell_type": "code",
      "source": [
        "X_train, y_train = load_mnist('/content/drive/MyDrive/Personal/CentricSoftware', kind='train')\n",
        "\n",
        "X_train          = np.reshape(X_train, (X_train.shape[0],\n",
        "                                        int(math.sqrt(X_train.shape[1])),\n",
        "                                        int(math.sqrt(X_train.shape[1]))\n",
        "                                        )\n",
        "                   )\n",
        "\n",
        "X_test, y_test   = load_mnist('/content/drive/MyDrive/Personal/CentricSoftware', kind='t10k')\n",
        "\n",
        "X_test           = np.reshape(X_test, (X_test.shape[0],\n",
        "                                        int(math.sqrt(X_test.shape[1])),\n",
        "                                        int(math.sqrt(X_test.shape[1]))\n",
        "                                        )\n",
        "                   )"
      ],
      "metadata": {
        "id": "nNFj_DtBCo48"
      },
      "execution_count": 6,
      "outputs": []
    },
    {
      "cell_type": "markdown",
      "source": [
        "## Convert labels into groups"
      ],
      "metadata": {
        "id": "yaR2Qi2yC5u8"
      }
    },
    {
      "cell_type": "code",
      "source": [
        "# -- Train labels\n",
        "y_train_df = pd.DataFrame({'label': y_train})\n",
        "y_train_df['label_str'] = y_train_df['label'].map(LABEL_MAPPING)\n",
        "\n",
        "# -- Test labels\n",
        "y_test_df = pd.DataFrame({'label': y_test})\n",
        "y_test_df['label_str'] = y_test_df['label'].map(LABEL_MAPPING)\n",
        "\n",
        "# -- Convert to groups\n",
        "y_train_df['category'] = y_train_df['label_str'].map(CATEGORY_MAPPING)\n",
        "y_test_df['category']  = y_test_df['label_str'].map(CATEGORY_MAPPING)\n",
        "\n",
        "# -- Filter and rename columns\n",
        "y_train_df = pd.DataFrame(y_train_df['category'].apply(lambda x: GROUP_MAPPING[x]))\n",
        "y_test_df  = pd.DataFrame(y_test_df['category'].apply(lambda x: GROUP_MAPPING[x]))\n",
        "\n",
        "y_train_df.rename(columns={'category': 'label'}, inplace=True)\n",
        "y_test_df.rename(columns={'category': 'label'}, inplace=True)"
      ],
      "metadata": {
        "id": "gqIfbvjEC7u0"
      },
      "execution_count": 7,
      "outputs": []
    },
    {
      "cell_type": "markdown",
      "source": [
        "### Perform train & validation split"
      ],
      "metadata": {
        "id": "lrx_FSwL2TT9"
      }
    },
    {
      "cell_type": "code",
      "source": [
        "y_train_df.reset_index(inplace=True)\n",
        "X, y = y_train_df[['index']], y_train_df[['label']]\n",
        "_, _, y_train_df, y_val_df = train_test_split(X, y, test_size=0.2, stratify=y, random_state=RANDOM_STATE)"
      ],
      "metadata": {
        "id": "rrg8ZAAF3q1y"
      },
      "execution_count": 8,
      "outputs": []
    },
    {
      "cell_type": "code",
      "source": [
        "y_train_df.value_counts(sort=False)"
      ],
      "metadata": {
        "colab": {
          "base_uri": "https://localhost:8080/"
        },
        "id": "QtPZah6P5Xdr",
        "outputId": "f0be38c2-1322-4592-fb73-ab0a0cd63cd7"
      },
      "execution_count": 9,
      "outputs": [
        {
          "output_type": "execute_result",
          "data": {
            "text/plain": [
              "label\n",
              "0        19200\n",
              "1         4800\n",
              "2         4800\n",
              "3        14400\n",
              "4         4800\n",
              "dtype: int64"
            ]
          },
          "metadata": {},
          "execution_count": 9
        }
      ]
    },
    {
      "cell_type": "code",
      "source": [
        "y_val_df.value_counts(sort=False)"
      ],
      "metadata": {
        "colab": {
          "base_uri": "https://localhost:8080/"
        },
        "id": "OMOqzOHw5YKN",
        "outputId": "1674640a-0386-4a51-9a11-c2c0dae30ea5"
      },
      "execution_count": 10,
      "outputs": [
        {
          "output_type": "execute_result",
          "data": {
            "text/plain": [
              "label\n",
              "0        4800\n",
              "1        1200\n",
              "2        1200\n",
              "3        3600\n",
              "4        1200\n",
              "dtype: int64"
            ]
          },
          "metadata": {},
          "execution_count": 10
        }
      ]
    },
    {
      "cell_type": "markdown",
      "source": [
        "### Save images as .npy files"
      ],
      "metadata": {
        "id": "43BXyT3Z0UHp"
      }
    },
    {
      "cell_type": "code",
      "source": [
        "y_train_df.reset_index(inplace=True), y_val_df.reset_index(inplace=True), y_test_df.reset_index(inplace=True)"
      ],
      "metadata": {
        "colab": {
          "base_uri": "https://localhost:8080/"
        },
        "id": "IffXwFt18Mry",
        "outputId": "2f22c834-ac0d-4657-e8b5-d6307ecb8e6e"
      },
      "execution_count": 11,
      "outputs": [
        {
          "output_type": "execute_result",
          "data": {
            "text/plain": [
              "(None, None, None)"
            ]
          },
          "metadata": {},
          "execution_count": 11
        }
      ]
    },
    {
      "cell_type": "code",
      "source": [
        "!mkdir $NPY_FILES\n",
        "train_indexes_list = list(y_train_df['index'])\n",
        "for index_ in tqdm(train_indexes_list):\n",
        "  np.save(NPY_FILES + 'train_image_{:05d}.npy'.format(index_), X_train[int(index_)])"
      ],
      "metadata": {
        "id": "7K4hiefi0gpM",
        "colab": {
          "base_uri": "https://localhost:8080/"
        },
        "outputId": "0329c839-c16c-450a-fdb8-b074f0fdc5d4"
      },
      "execution_count": 12,
      "outputs": [
        {
          "output_type": "stream",
          "name": "stderr",
          "text": [
            "100%|██████████| 48000/48000 [04:01<00:00, 199.02it/s]\n"
          ]
        }
      ]
    },
    {
      "cell_type": "code",
      "source": [
        "validation_indexes_list = list(y_val_df['index'])\n",
        "for index_ in tqdm(validation_indexes_list):\n",
        "  np.save(NPY_FILES + 'validation_image_{:05d}.npy'.format(index_), X_train[int(index_)])"
      ],
      "metadata": {
        "id": "lm6-u-FF8q5J",
        "colab": {
          "base_uri": "https://localhost:8080/"
        },
        "outputId": "cd9b1972-fe16-49cf-c770-2084f8a5890e"
      },
      "execution_count": 13,
      "outputs": [
        {
          "output_type": "stream",
          "name": "stderr",
          "text": [
            "100%|██████████| 12000/12000 [00:57<00:00, 209.27it/s]\n"
          ]
        }
      ]
    },
    {
      "cell_type": "code",
      "source": [
        "test_indexes_list = list(y_test_df['index'])\n",
        "for index_ in tqdm(test_indexes_list):\n",
        "  np.save(NPY_FILES + 'test_image_{:05d}.npy'.format(index_), X_test[int(index_)])"
      ],
      "metadata": {
        "id": "sbSDwA631jE1",
        "colab": {
          "base_uri": "https://localhost:8080/"
        },
        "outputId": "75b107c5-02e7-4e4e-bd8c-d08811f2f975"
      },
      "execution_count": 14,
      "outputs": [
        {
          "output_type": "stream",
          "name": "stderr",
          "text": [
            "100%|██████████| 10000/10000 [00:56<00:00, 177.65it/s]\n"
          ]
        }
      ]
    },
    {
      "cell_type": "markdown",
      "source": [
        "__Get mean and standard deviation__\n",
        "\n",
        "NOTE: MEAN and STD must be extracted ONLY from the training set"
      ],
      "metadata": {
        "id": "9qrZznkJnfKN"
      }
    },
    {
      "cell_type": "code",
      "source": [
        "train_indexes_list = list(y_train_df['index'])\n",
        "MEAN = np.mean(X_train[train_indexes_list,:,:]); STD = np.std(X_train[train_indexes_list,:,:])\n",
        "MEAN, STD"
      ],
      "metadata": {
        "colab": {
          "base_uri": "https://localhost:8080/"
        },
        "id": "5wPSEQmpD0HV",
        "outputId": "763344ce-3ffd-44f0-85c3-a3f6388b6e7b"
      },
      "execution_count": 15,
      "outputs": [
        {
          "output_type": "execute_result",
          "data": {
            "text/plain": [
              "(72.96911585884354, 90.03119247281305)"
            ]
          },
          "metadata": {},
          "execution_count": 15
        }
      ]
    },
    {
      "cell_type": "code",
      "source": [
        "# -- Save labels as .csv files\n",
        "y_train_df.to_csv(MAIN_PATH + '/train_labels.csv', sep=';', index=False)\n",
        "y_val_df.to_csv(MAIN_PATH + '/val_labels.csv', sep=';', index=False)\n",
        "y_test_df.to_csv(MAIN_PATH + '/test_labels.csv', sep=';', index=False)"
      ],
      "metadata": {
        "id": "Px6MeQMF5-XA"
      },
      "execution_count": 16,
      "outputs": []
    },
    {
      "cell_type": "markdown",
      "source": [
        "# Define Model Architecture"
      ],
      "metadata": {
        "id": "kooPCYALDzwf"
      }
    },
    {
      "cell_type": "code",
      "source": [
        "# Step 1. Define ZalandoDataset class\n",
        "class ZalandoDataset(data.Dataset):\n",
        "    def __init__(self, transform=False, data_type='Train', images_list=None):\n",
        "        super().__init__()\n",
        "        self.transform    = transform\n",
        "        self.data_type    = data_type\n",
        "        self.images_list  = images_list\n",
        "        self.records      = None\n",
        "\n",
        "        if self.data_type == 'Train':\n",
        "            self.labels      = pd.read_csv(MAIN_PATH + '/train_labels.csv', sep=';')\n",
        "            self.records     = [NPY_FILES + file_ for file_ in images_list if 'train_image' in file_]\n",
        "        elif self.data_type == 'Validation':\n",
        "            self.labels      = pd.read_csv(MAIN_PATH + '/val_labels.csv', sep=';')\n",
        "            self.records     = [NPY_FILES + file_ for file_ in images_list if 'validation_image' in file_]\n",
        "        elif self.data_type == 'Test':\n",
        "            self.labels      = pd.read_csv(MAIN_PATH + '/test_labels.csv', sep=';')\n",
        "            self.records     = [NPY_FILES + file_ for file_ in images_list if 'test_image' in file_]\n",
        "        else:\n",
        "          assert False, \"data_type not admitted. Options available: Train, Validation or Test\"\n",
        "\n",
        "        # Label weights (inverse classes balance)\n",
        "        labels_list   = list(self.labels['label'])\n",
        "        weights_      = class_weight.compute_class_weight(class_weight='balanced',\n",
        "                                                          classes=np.unique(labels_list),\n",
        "                                                          y=np.array(labels_list))\n",
        "        self.weights  = torch.FloatTensor(weights_)\n",
        "\n",
        "        self.transforms = transforms.Compose([\n",
        "                                transforms.Lambda(lambda x: x.unsqueeze(0).unsqueeze(0)),\n",
        "                                transforms.Resize((IMG_SIZE, IMG_SIZE)),\n",
        "                                transforms.Normalize((MEAN,), (STD,)),\n",
        "                                transforms.Lambda(lambda x: x.squeeze(0,1))\n",
        "                            ])\n",
        "\n",
        "\n",
        "    def __len__(self):\n",
        "        \"\"\"Return the total number of images in the dataset.\"\"\"\n",
        "        return len(self.records)\n",
        "\n",
        "    def __getitem__(self, index):\n",
        "        # Load raw image data for each plane\n",
        "        path    = self.records[index]\n",
        "        image_id= int(path.split('_')[-1].replace('.npy', ''))\n",
        "        img_raw = np.load(path)\n",
        "\n",
        "        # Standarize data\n",
        "        img_raw = torch.FloatTensor(img_raw)\n",
        "        img_raw = self.transforms(img_raw)\n",
        "        img_raw = img_raw.expand(3, img_raw.size(0), img_raw.size(1))\n",
        "\n",
        "        label = list(self.labels[self.labels['index'] == image_id]['label'])\n",
        "        label = torch.tensor(label)\n",
        "\n",
        "        # Return pre-processed image and label\n",
        "        return img_raw, label"
      ],
      "metadata": {
        "id": "KMH5fj_ZEGr2"
      },
      "execution_count": 17,
      "outputs": []
    },
    {
      "cell_type": "code",
      "source": [
        "# -- Number of total images: 70k\n",
        "image_list = os.listdir(NPY_FILES)\n",
        "len(image_list)"
      ],
      "metadata": {
        "id": "mqDMxnNnAQw1",
        "colab": {
          "base_uri": "https://localhost:8080/"
        },
        "outputId": "0317182a-2f28-4c85-bef2-9e93df881556"
      },
      "execution_count": 18,
      "outputs": [
        {
          "output_type": "execute_result",
          "data": {
            "text/plain": [
              "70000"
            ]
          },
          "metadata": {},
          "execution_count": 18
        }
      ]
    },
    {
      "cell_type": "code",
      "source": [
        "# Get dataset\n",
        "train_dataset = ZalandoDataset(images_list=image_list)\n",
        "val_dataset   = ZalandoDataset(data_type='Validation', images_list=image_list)\n",
        "test_dataset  = ZalandoDataset(data_type='Test', images_list=image_list)"
      ],
      "metadata": {
        "id": "DjWAbxS7Hcm5"
      },
      "execution_count": 19,
      "outputs": []
    },
    {
      "cell_type": "code",
      "source": [
        "train_loader = torch.utils.data.DataLoader(\n",
        "                train_dataset, batch_size=BATCH_SIZE,\n",
        "                shuffle=True, drop_last=False, num_workers=2)\n",
        "\n",
        "val_loader  =  torch.utils.data.DataLoader(\n",
        "                val_dataset, batch_size=BATCH_SIZE,\n",
        "                shuffle=False, drop_last=False, num_workers=2)\n",
        "\n",
        "test_loader =  torch.utils.data.DataLoader(\n",
        "                test_dataset, batch_size=BATCH_SIZE,\n",
        "                shuffle=False, drop_last=False, num_workers=2)"
      ],
      "metadata": {
        "id": "9wwRX3aAbue3"
      },
      "execution_count": 20,
      "outputs": []
    },
    {
      "cell_type": "markdown",
      "source": [
        "## Define the Conv. Model"
      ],
      "metadata": {
        "id": "2AHveNancWzb"
      }
    },
    {
      "cell_type": "code",
      "source": [
        "class SqueezeNet1_1(nn.Module):\n",
        "    \"\"\"\n",
        "    Define SqueezeNet1_1 architecture, which consists of:\n",
        "      - SqueezeNet1_1\n",
        "        - Conv2d\n",
        "        - ...\n",
        "        - nn.Linear(1280, num_classes)\n",
        "    \"\"\"\n",
        "    def __init__(self, num_classes=NUM_LABELS):\n",
        "        super(SqueezeNet1_1, self).__init__()\n",
        "\n",
        "        # Carga el modelo pre-entrenado SqueezeNet 1.1\n",
        "        self.squeezenet = models.squeezenet1_1(pretrained=True)\n",
        "\n",
        "        # Elimina la capa de clasificación original\n",
        "        self.squeezenet.classifier = nn.Identity()\n",
        "\n",
        "        # Agrega tu propia capa de clasificación\n",
        "        self.classifier = nn.Sequential(\n",
        "            nn.Linear(512, 256),\n",
        "            nn.ReLU(),\n",
        "            nn.Dropout(0.5),\n",
        "            nn.Linear(256, num_classes)\n",
        "        )\n",
        "\n",
        "    def forward(self, x):\n",
        "        # Propagación hacia adelante a través de SqueezeNet\n",
        "        features = self.squeezenet.features(x)\n",
        "\n",
        "        # Aplica la capa de clasificación personalizada\n",
        "        x = F.adaptive_avg_pool2d(features, (1, 1))\n",
        "        x = x.view(x.size(0), -1)\n",
        "        x = self.classifier(x)\n",
        "\n",
        "        return x"
      ],
      "metadata": {
        "id": "XcJ85youcZai"
      },
      "execution_count": 21,
      "outputs": []
    },
    {
      "cell_type": "code",
      "source": [
        "model = SqueezeNet1_1()"
      ],
      "metadata": {
        "colab": {
          "base_uri": "https://localhost:8080/"
        },
        "id": "3C2zigGWFziP",
        "outputId": "2620139c-526d-4334-b127-c5b73f66d0f2"
      },
      "execution_count": 24,
      "outputs": [
        {
          "output_type": "stream",
          "name": "stderr",
          "text": [
            "The parameter 'pretrained' is deprecated since 0.13 and may be removed in the future, please use 'weights' instead.\n",
            "Arguments other than a weight enum or `None` for 'weights' are deprecated since 0.13 and may be removed in the future. The current behavior is equivalent to passing `weights=SqueezeNet1_1_Weights.IMAGENET1K_V1`. You can also use `weights=SqueezeNet1_1_Weights.DEFAULT` to get the most up-to-date weights.\n"
          ]
        }
      ]
    },
    {
      "cell_type": "markdown",
      "source": [
        "## Error + Callbacks"
      ],
      "metadata": {
        "id": "l2HoO7HKCkLA"
      }
    },
    {
      "cell_type": "code",
      "source": [
        "# Define error criterion and optimize functions\n",
        "train_criterion = nn.CrossEntropyLoss(weight = train_dataset.weights)\n",
        "val_criterion   = nn.CrossEntropyLoss(weight = val_dataset.weights)\n",
        "\n",
        "optimizer = torch.optim.Adam(model.parameters(), lr = LEARNING_RATE, weight_decay=0.01)\n",
        "# Define callbacks\n",
        "scheduler = torch.optim.lr_scheduler.ReduceLROnPlateau(\n",
        "              optimizer, patience=3, factor=0.3, threshold=1e-4, verbose=True\n",
        ")"
      ],
      "metadata": {
        "id": "GsQd8tEFlCPW"
      },
      "execution_count": 25,
      "outputs": []
    },
    {
      "cell_type": "markdown",
      "source": [
        "## Define metrics"
      ],
      "metadata": {
        "id": "-ErlR8xxf9JL"
      }
    },
    {
      "cell_type": "code",
      "source": [
        "def get_metrics(y_true, y_pred):\n",
        "    \"\"\"\n",
        "    Calculate recall (sensitivity), precision and negative predicted value (NPV) for a multi-class image classification task with N classes.\n",
        "\n",
        "    Args:\n",
        "    y_true (list): True labels (ground truth) for each sample.\n",
        "    y_pred (list): Predicted labels for each sample.\n",
        "\n",
        "    Returns:\n",
        "    dict: A dictionary containing recall, precision and NPV for each class.\n",
        "    \"\"\"\n",
        "    classes = range(5)\n",
        "    sensitivity = {}  # Recall\n",
        "    precision = {}\n",
        "    npv = {}\n",
        "\n",
        "    for c in classes:\n",
        "        # Calculate True Positives (TP), False Negatives (FN), and False Positives (FP) for each class\n",
        "        TP = sum((y_true[i][c] == 1) and (y_pred[i][c] == 1) for i in range(len(y_true)))\n",
        "        TN = sum((y_true[i][c] == 0) and (y_pred[i][c] == 0) for i in range(len(y_true)))\n",
        "        FN = sum((y_true[i][c] == 1) and (y_pred[i][c] == 0) for i in range(len(y_true)))\n",
        "        FP = sum((y_true[i][c] == 0) and (y_pred[i][c] == 1) for i in range(len(y_true)))\n",
        "\n",
        "        # Calculate recall (sensitivity) and precision for each class\n",
        "        sensitivity[REVERSE_GROUP_MAPPING[c]] = TP / (TP + FN) if (TP + FN) > 0 else 0\n",
        "        precision[REVERSE_GROUP_MAPPING[c]] = TP / (TP + FP) if (TP + FP) > 0 else 0\n",
        "        npv[REVERSE_GROUP_MAPPING[c]] = TN / (TN + FN) if (TN) > 0 else 0\n",
        "\n",
        "    return {\"recall\": sensitivity, \"precision\": precision, \"negative predicted value\": npv}"
      ],
      "metadata": {
        "id": "RT0F1oS-lQ8D"
      },
      "execution_count": 26,
      "outputs": []
    },
    {
      "cell_type": "markdown",
      "source": [
        "## Define training and validation metrics"
      ],
      "metadata": {
        "id": "4uOqvA3wsXsk"
      }
    },
    {
      "cell_type": "code",
      "source": [
        "# -- Transform predicted values into one-shot\n",
        "def maximize_index(predicted_values):\n",
        "  max_indices = np.argmax(predicted_values, axis=1)\n",
        "  result = np.zeros_like(predicted_values)\n",
        "  for i in range(result.shape[0]):\n",
        "      result[i, max_indices[i]] = 1\n",
        "  return result"
      ],
      "metadata": {
        "id": "jytEBgf7uCvb"
      },
      "execution_count": 27,
      "outputs": []
    },
    {
      "cell_type": "code",
      "source": [
        "# -- Define train function\n",
        "def train(train_data, model, criterion):\n",
        "    print('Training...')\n",
        "    model.train()\n",
        "    counter = 0\n",
        "    train_running_loss    = 0.0\n",
        "    prediction_list       = []\n",
        "    prediction_proba_list = []\n",
        "    for input_data, label in tqdm(train_data):\n",
        "        # Switch to GPU if available\n",
        "        if torch.cuda.is_available():\n",
        "            input_data, label = input_data.cuda(), label.cuda()\n",
        "        counter += 1\n",
        "        optimizer.zero_grad()\n",
        "        outputs = model(input_data)\n",
        "\n",
        "        # Apply softmax activation to get all the outputs between 0 and 1\n",
        "        outputs_sig  = F.softmax(outputs.data, dim=1).detach().cpu()\n",
        "        prediction_proba_list.append(itertools.chain(*outputs_sig))\n",
        "        prediction_list.append(itertools.chain(maximize_index(outputs_sig.numpy())))\n",
        "\n",
        "        # Loss\n",
        "        loss     = criterion(outputs.cpu(), label.squeeze(-1).cpu())\n",
        "        train_running_loss += loss.item()\n",
        "        # Backpropagation\n",
        "        loss.backward()\n",
        "        # Update optimizer parameters\n",
        "        optimizer.step()\n",
        "    train_loss       = train_running_loss  / counter\n",
        "    return train_loss, prediction_list"
      ],
      "metadata": {
        "id": "pbdbcHhVsLjC"
      },
      "execution_count": 28,
      "outputs": []
    },
    {
      "cell_type": "code",
      "source": [
        "# Define val function\n",
        "def val(val_data, model, criterion):\n",
        "    print('Validating...')\n",
        "    model.eval()\n",
        "    counter = 0\n",
        "    val_running_loss      = 0.0\n",
        "    total                 = 0.0\n",
        "    prediction_list       = []\n",
        "    prediction_proba_list = []\n",
        "    label_list            = []\n",
        "    label_one_hot         = []\n",
        "\n",
        "    with torch.no_grad():\n",
        "      for input_data, label in tqdm(val_data):\n",
        "          # Again, switch to GPU if available\n",
        "          if torch.cuda.is_available():\n",
        "              input_data, label = input_data.cuda(), label.cuda()\n",
        "\n",
        "          label_numpy   = label.detach().cpu().numpy()\n",
        "          for label_ in label_numpy:\n",
        "            label_one_hot_aux = np.zeros(NUM_LABELS)\n",
        "            label_one_hot_aux[label_] = 1\n",
        "            label_one_hot.append(label_one_hot_aux)\n",
        "\n",
        "          label_list.append(label_numpy)\n",
        "          counter += 1\n",
        "          outputs  = model(input_data)\n",
        "\n",
        "          # Apply softmax activation to get all the outputs between 0 and 1\n",
        "          outputs_sig = F.softmax(outputs.data, dim=1).detach().cpu()\n",
        "          prediction_proba_list.append(outputs_sig)\n",
        "          prediction_list.append(maximize_index(outputs_sig.numpy()))\n",
        "          total    += label.size(1)\n",
        "\n",
        "          # Loss\n",
        "          loss     = criterion(outputs.cpu(), label.squeeze(-1).cpu())\n",
        "          val_running_loss += loss.item()\n",
        "\n",
        "      val_loss     = val_running_loss / counter\n",
        "      # Get Sensitivity/Precision/NPV\n",
        "      prediction_list = list(itertools.chain(*prediction_list))\n",
        "      label_list      = list(itertools.chain(*label_list))\n",
        "      prediction_proba_list = list(itertools.chain(*prediction_proba_list))\n",
        "      metric_dict  = get_metrics(label_one_hot, prediction_list)\n",
        "    return val_loss, prediction_list, prediction_proba_list, metric_dict"
      ],
      "metadata": {
        "id": "6zH7coHXuno9"
      },
      "execution_count": 29,
      "outputs": []
    },
    {
      "cell_type": "markdown",
      "source": [
        "### Define Main loop"
      ],
      "metadata": {
        "id": "ZFW_BmDPAIZw"
      }
    },
    {
      "cell_type": "code",
      "source": [
        "!mkdir $MODELS_PATH"
      ],
      "metadata": {
        "id": "YLi0JLOvwihn"
      },
      "execution_count": 30,
      "outputs": []
    },
    {
      "cell_type": "code",
      "source": [
        "# start the training and validation\n",
        "train_loss     = []\n",
        "valid_loss     = []\n",
        "total_train_predictions = []\n",
        "total_val_predictions   = []\n",
        "\n",
        "best_val_loss = float('inf')\n",
        "best_val_auc  = float(0)\n",
        "\n",
        "patient_counter = 0\n",
        "\n",
        "if torch.cuda.is_available():\n",
        "    model = model.cuda()\n",
        "\n",
        "for epoch in range(EPOCHS):\n",
        "    print(f\"Epoch {epoch+1} of {EPOCHS}\")\n",
        "    train_epoch_loss, train_predictions = train(\n",
        "        train_loader, model, train_criterion\n",
        "    )\n",
        "    val_epoch_loss, val_predictions, val_predictions_proba, val_metric_dict = val(\n",
        "        val_loader, model, val_criterion\n",
        "    )\n",
        "\n",
        "    # Call ReduceLR Callback (after validation step)\n",
        "    scheduler.step(val_epoch_loss)\n",
        "\n",
        "    if best_val_loss - val_epoch_loss >= LOSS_IMPROVE:\n",
        "        print(\"Val loss has improved. From {} to {}. Saving model...\".format(best_val_loss, val_epoch_loss))\n",
        "        best_val_loss   = val_epoch_loss\n",
        "        patient_counter = 0\n",
        "        torch.save(model, MODEL_NAME)\n",
        "    else:\n",
        "        print(\"Val loss did not improve\")\n",
        "        patient_counter+=1\n",
        "        if patient_counter == PATIENT:\n",
        "            break\n",
        "\n",
        "    train_loss.append(train_epoch_loss)\n",
        "    valid_loss.append(val_epoch_loss)\n",
        "    total_train_predictions.append(train_predictions)\n",
        "    total_val_predictions.append(val_predictions)\n",
        "    print(f\"Train Loss: {train_epoch_loss:.4f}\")\n",
        "    print(f'Val Loss: {val_epoch_loss:.4f}')\n",
        "    for k in val_metric_dict.keys():\n",
        "      print(k)\n",
        "      print(\"--------\")\n",
        "      for k_aux in val_metric_dict[k].keys():\n",
        "        print(k_aux + ': ' + str(np.round(val_metric_dict[k][k_aux], 2)))\n",
        "      print(\"-----------------------\")\n",
        "    print()\n",
        "    print(\"-\"*80)"
      ],
      "metadata": {
        "colab": {
          "base_uri": "https://localhost:8080/"
        },
        "id": "mXJzPuTey45a",
        "outputId": "90e7cafd-4650-4a07-eb34-e1cfcef7ad06"
      },
      "execution_count": 31,
      "outputs": [
        {
          "output_type": "stream",
          "name": "stdout",
          "text": [
            "Epoch 1 of 20\n",
            "Training...\n"
          ]
        },
        {
          "output_type": "stream",
          "name": "stderr",
          "text": [
            "\r  0%|          | 0/3000 [00:00<?, ?it/s]The default value of the antialias parameter of all the resizing transforms (Resize(), RandomResizedCrop(), etc.) will change from None to True in v0.17, in order to be consistent across the PIL and Tensor backends. To suppress this warning, directly pass antialias=True (recommended, future default), antialias=None (current default, which means False for Tensors and True for PIL), or antialias=False (only works on Tensors - PIL will still use antialiasing). This also applies if you are using the inference transforms from the models weights: update the call to weights.transforms(antialias=True).\n",
            "The default value of the antialias parameter of all the resizing transforms (Resize(), RandomResizedCrop(), etc.) will change from None to True in v0.17, in order to be consistent across the PIL and Tensor backends. To suppress this warning, directly pass antialias=True (recommended, future default), antialias=None (current default, which means False for Tensors and True for PIL), or antialias=False (only works on Tensors - PIL will still use antialiasing). This also applies if you are using the inference transforms from the models weights: update the call to weights.transforms(antialias=True).\n",
            "100%|██████████| 3000/3000 [03:26<00:00, 14.52it/s]\n"
          ]
        },
        {
          "output_type": "stream",
          "name": "stdout",
          "text": [
            "Validating...\n"
          ]
        },
        {
          "output_type": "stream",
          "name": "stderr",
          "text": [
            "\r  0%|          | 0/750 [00:00<?, ?it/s]The default value of the antialias parameter of all the resizing transforms (Resize(), RandomResizedCrop(), etc.) will change from None to True in v0.17, in order to be consistent across the PIL and Tensor backends. To suppress this warning, directly pass antialias=True (recommended, future default), antialias=None (current default, which means False for Tensors and True for PIL), or antialias=False (only works on Tensors - PIL will still use antialiasing). This also applies if you are using the inference transforms from the models weights: update the call to weights.transforms(antialias=True).\n",
            "The default value of the antialias parameter of all the resizing transforms (Resize(), RandomResizedCrop(), etc.) will change from None to True in v0.17, in order to be consistent across the PIL and Tensor backends. To suppress this warning, directly pass antialias=True (recommended, future default), antialias=None (current default, which means False for Tensors and True for PIL), or antialias=False (only works on Tensors - PIL will still use antialiasing). This also applies if you are using the inference transforms from the models weights: update the call to weights.transforms(antialias=True).\n",
            "100%|██████████| 750/750 [00:37<00:00, 19.75it/s]\n"
          ]
        },
        {
          "output_type": "stream",
          "name": "stdout",
          "text": [
            "Val loss has improved. From inf to 0.12247290550063675. Saving model...\n",
            "Train Loss: 0.1816\n",
            "Val Loss: 0.1225\n",
            "recall\n",
            "--------\n",
            "Upper part: 0.94\n",
            "Bottom part: 0.93\n",
            "One piece: 0.95\n",
            "Footwear: 1.0\n",
            "Bags: 0.97\n",
            "-----------------------\n",
            "precision\n",
            "--------\n",
            "Upper part: 0.98\n",
            "Bottom part: 1.0\n",
            "One piece: 0.77\n",
            "Footwear: 1.0\n",
            "Bags: 0.99\n",
            "-----------------------\n",
            "negative predicted value\n",
            "--------\n",
            "Upper part: 0.96\n",
            "Bottom part: 0.99\n",
            "One piece: 0.99\n",
            "Footwear: 1.0\n",
            "Bags: 1.0\n",
            "-----------------------\n",
            "\n",
            "--------------------------------------------------------------------------------\n",
            "Epoch 2 of 20\n",
            "Training...\n"
          ]
        },
        {
          "output_type": "stream",
          "name": "stderr",
          "text": [
            "\r  0%|          | 0/3000 [00:00<?, ?it/s]The default value of the antialias parameter of all the resizing transforms (Resize(), RandomResizedCrop(), etc.) will change from None to True in v0.17, in order to be consistent across the PIL and Tensor backends. To suppress this warning, directly pass antialias=True (recommended, future default), antialias=None (current default, which means False for Tensors and True for PIL), or antialias=False (only works on Tensors - PIL will still use antialiasing). This also applies if you are using the inference transforms from the models weights: update the call to weights.transforms(antialias=True).\n",
            "The default value of the antialias parameter of all the resizing transforms (Resize(), RandomResizedCrop(), etc.) will change from None to True in v0.17, in order to be consistent across the PIL and Tensor backends. To suppress this warning, directly pass antialias=True (recommended, future default), antialias=None (current default, which means False for Tensors and True for PIL), or antialias=False (only works on Tensors - PIL will still use antialiasing). This also applies if you are using the inference transforms from the models weights: update the call to weights.transforms(antialias=True).\n",
            "100%|██████████| 3000/3000 [02:46<00:00, 18.07it/s]\n"
          ]
        },
        {
          "output_type": "stream",
          "name": "stdout",
          "text": [
            "Validating...\n"
          ]
        },
        {
          "output_type": "stream",
          "name": "stderr",
          "text": [
            "\r  0%|          | 0/750 [00:00<?, ?it/s]The default value of the antialias parameter of all the resizing transforms (Resize(), RandomResizedCrop(), etc.) will change from None to True in v0.17, in order to be consistent across the PIL and Tensor backends. To suppress this warning, directly pass antialias=True (recommended, future default), antialias=None (current default, which means False for Tensors and True for PIL), or antialias=False (only works on Tensors - PIL will still use antialiasing). This also applies if you are using the inference transforms from the models weights: update the call to weights.transforms(antialias=True).\n",
            "The default value of the antialias parameter of all the resizing transforms (Resize(), RandomResizedCrop(), etc.) will change from None to True in v0.17, in order to be consistent across the PIL and Tensor backends. To suppress this warning, directly pass antialias=True (recommended, future default), antialias=None (current default, which means False for Tensors and True for PIL), or antialias=False (only works on Tensors - PIL will still use antialiasing). This also applies if you are using the inference transforms from the models weights: update the call to weights.transforms(antialias=True).\n",
            "100%|██████████| 750/750 [00:37<00:00, 20.17it/s]\n"
          ]
        },
        {
          "output_type": "stream",
          "name": "stdout",
          "text": [
            "Val loss has improved. From 0.12247290550063675 to 0.11934142598075172. Saving model...\n",
            "Train Loss: 0.1224\n",
            "Val Loss: 0.1193\n",
            "recall\n",
            "--------\n",
            "Upper part: 0.94\n",
            "Bottom part: 0.99\n",
            "One piece: 0.93\n",
            "Footwear: 1.0\n",
            "Bags: 0.96\n",
            "-----------------------\n",
            "precision\n",
            "--------\n",
            "Upper part: 0.98\n",
            "Bottom part: 0.98\n",
            "One piece: 0.83\n",
            "Footwear: 0.98\n",
            "Bags: 0.98\n",
            "-----------------------\n",
            "negative predicted value\n",
            "--------\n",
            "Upper part: 0.96\n",
            "Bottom part: 1.0\n",
            "One piece: 0.99\n",
            "Footwear: 1.0\n",
            "Bags: 1.0\n",
            "-----------------------\n",
            "\n",
            "--------------------------------------------------------------------------------\n",
            "Epoch 3 of 20\n",
            "Training...\n"
          ]
        },
        {
          "output_type": "stream",
          "name": "stderr",
          "text": [
            "\r  0%|          | 0/3000 [00:00<?, ?it/s]The default value of the antialias parameter of all the resizing transforms (Resize(), RandomResizedCrop(), etc.) will change from None to True in v0.17, in order to be consistent across the PIL and Tensor backends. To suppress this warning, directly pass antialias=True (recommended, future default), antialias=None (current default, which means False for Tensors and True for PIL), or antialias=False (only works on Tensors - PIL will still use antialiasing). This also applies if you are using the inference transforms from the models weights: update the call to weights.transforms(antialias=True).\n",
            "The default value of the antialias parameter of all the resizing transforms (Resize(), RandomResizedCrop(), etc.) will change from None to True in v0.17, in order to be consistent across the PIL and Tensor backends. To suppress this warning, directly pass antialias=True (recommended, future default), antialias=None (current default, which means False for Tensors and True for PIL), or antialias=False (only works on Tensors - PIL will still use antialiasing). This also applies if you are using the inference transforms from the models weights: update the call to weights.transforms(antialias=True).\n",
            "100%|██████████| 3000/3000 [02:48<00:00, 17.82it/s]\n"
          ]
        },
        {
          "output_type": "stream",
          "name": "stdout",
          "text": [
            "Validating...\n"
          ]
        },
        {
          "output_type": "stream",
          "name": "stderr",
          "text": [
            "\r  0%|          | 0/750 [00:00<?, ?it/s]The default value of the antialias parameter of all the resizing transforms (Resize(), RandomResizedCrop(), etc.) will change from None to True in v0.17, in order to be consistent across the PIL and Tensor backends. To suppress this warning, directly pass antialias=True (recommended, future default), antialias=None (current default, which means False for Tensors and True for PIL), or antialias=False (only works on Tensors - PIL will still use antialiasing). This also applies if you are using the inference transforms from the models weights: update the call to weights.transforms(antialias=True).\n",
            "The default value of the antialias parameter of all the resizing transforms (Resize(), RandomResizedCrop(), etc.) will change from None to True in v0.17, in order to be consistent across the PIL and Tensor backends. To suppress this warning, directly pass antialias=True (recommended, future default), antialias=None (current default, which means False for Tensors and True for PIL), or antialias=False (only works on Tensors - PIL will still use antialiasing). This also applies if you are using the inference transforms from the models weights: update the call to weights.transforms(antialias=True).\n",
            "100%|██████████| 750/750 [00:37<00:00, 20.01it/s]\n"
          ]
        },
        {
          "output_type": "stream",
          "name": "stdout",
          "text": [
            "Val loss did not improve\n",
            "Train Loss: 0.1242\n",
            "Val Loss: 0.1309\n",
            "recall\n",
            "--------\n",
            "Upper part: 0.91\n",
            "Bottom part: 0.95\n",
            "One piece: 0.97\n",
            "Footwear: 0.99\n",
            "Bags: 0.97\n",
            "-----------------------\n",
            "precision\n",
            "--------\n",
            "Upper part: 0.98\n",
            "Bottom part: 1.0\n",
            "One piece: 0.7\n",
            "Footwear: 1.0\n",
            "Bags: 0.96\n",
            "-----------------------\n",
            "negative predicted value\n",
            "--------\n",
            "Upper part: 0.94\n",
            "Bottom part: 0.99\n",
            "One piece: 1.0\n",
            "Footwear: 1.0\n",
            "Bags: 1.0\n",
            "-----------------------\n",
            "\n",
            "--------------------------------------------------------------------------------\n",
            "Epoch 4 of 20\n",
            "Training...\n"
          ]
        },
        {
          "output_type": "stream",
          "name": "stderr",
          "text": [
            "\r  0%|          | 0/3000 [00:00<?, ?it/s]The default value of the antialias parameter of all the resizing transforms (Resize(), RandomResizedCrop(), etc.) will change from None to True in v0.17, in order to be consistent across the PIL and Tensor backends. To suppress this warning, directly pass antialias=True (recommended, future default), antialias=None (current default, which means False for Tensors and True for PIL), or antialias=False (only works on Tensors - PIL will still use antialiasing). This also applies if you are using the inference transforms from the models weights: update the call to weights.transforms(antialias=True).\n",
            "The default value of the antialias parameter of all the resizing transforms (Resize(), RandomResizedCrop(), etc.) will change from None to True in v0.17, in order to be consistent across the PIL and Tensor backends. To suppress this warning, directly pass antialias=True (recommended, future default), antialias=None (current default, which means False for Tensors and True for PIL), or antialias=False (only works on Tensors - PIL will still use antialiasing). This also applies if you are using the inference transforms from the models weights: update the call to weights.transforms(antialias=True).\n",
            "100%|██████████| 3000/3000 [02:47<00:00, 17.92it/s]\n"
          ]
        },
        {
          "output_type": "stream",
          "name": "stdout",
          "text": [
            "Validating...\n"
          ]
        },
        {
          "output_type": "stream",
          "name": "stderr",
          "text": [
            "\r  0%|          | 0/750 [00:00<?, ?it/s]The default value of the antialias parameter of all the resizing transforms (Resize(), RandomResizedCrop(), etc.) will change from None to True in v0.17, in order to be consistent across the PIL and Tensor backends. To suppress this warning, directly pass antialias=True (recommended, future default), antialias=None (current default, which means False for Tensors and True for PIL), or antialias=False (only works on Tensors - PIL will still use antialiasing). This also applies if you are using the inference transforms from the models weights: update the call to weights.transforms(antialias=True).\n",
            "The default value of the antialias parameter of all the resizing transforms (Resize(), RandomResizedCrop(), etc.) will change from None to True in v0.17, in order to be consistent across the PIL and Tensor backends. To suppress this warning, directly pass antialias=True (recommended, future default), antialias=None (current default, which means False for Tensors and True for PIL), or antialias=False (only works on Tensors - PIL will still use antialiasing). This also applies if you are using the inference transforms from the models weights: update the call to weights.transforms(antialias=True).\n",
            "100%|██████████| 750/750 [00:38<00:00, 19.66it/s]\n"
          ]
        },
        {
          "output_type": "stream",
          "name": "stdout",
          "text": [
            "Val loss did not improve\n",
            "Train Loss: 0.1330\n",
            "Val Loss: 0.1298\n",
            "recall\n",
            "--------\n",
            "Upper part: 0.91\n",
            "Bottom part: 0.98\n",
            "One piece: 0.96\n",
            "Footwear: 1.0\n",
            "Bags: 0.96\n",
            "-----------------------\n",
            "precision\n",
            "--------\n",
            "Upper part: 0.98\n",
            "Bottom part: 0.98\n",
            "One piece: 0.73\n",
            "Footwear: 1.0\n",
            "Bags: 0.98\n",
            "-----------------------\n",
            "negative predicted value\n",
            "--------\n",
            "Upper part: 0.95\n",
            "Bottom part: 1.0\n",
            "One piece: 1.0\n",
            "Footwear: 1.0\n",
            "Bags: 1.0\n",
            "-----------------------\n",
            "\n",
            "--------------------------------------------------------------------------------\n",
            "Epoch 5 of 20\n",
            "Training...\n"
          ]
        },
        {
          "output_type": "stream",
          "name": "stderr",
          "text": [
            "\r  0%|          | 0/3000 [00:00<?, ?it/s]The default value of the antialias parameter of all the resizing transforms (Resize(), RandomResizedCrop(), etc.) will change from None to True in v0.17, in order to be consistent across the PIL and Tensor backends. To suppress this warning, directly pass antialias=True (recommended, future default), antialias=None (current default, which means False for Tensors and True for PIL), or antialias=False (only works on Tensors - PIL will still use antialiasing). This also applies if you are using the inference transforms from the models weights: update the call to weights.transforms(antialias=True).\n",
            "The default value of the antialias parameter of all the resizing transforms (Resize(), RandomResizedCrop(), etc.) will change from None to True in v0.17, in order to be consistent across the PIL and Tensor backends. To suppress this warning, directly pass antialias=True (recommended, future default), antialias=None (current default, which means False for Tensors and True for PIL), or antialias=False (only works on Tensors - PIL will still use antialiasing). This also applies if you are using the inference transforms from the models weights: update the call to weights.transforms(antialias=True).\n",
            "100%|██████████| 3000/3000 [02:46<00:00, 17.99it/s]\n"
          ]
        },
        {
          "output_type": "stream",
          "name": "stdout",
          "text": [
            "Validating...\n"
          ]
        },
        {
          "output_type": "stream",
          "name": "stderr",
          "text": [
            "\r  0%|          | 0/750 [00:00<?, ?it/s]The default value of the antialias parameter of all the resizing transforms (Resize(), RandomResizedCrop(), etc.) will change from None to True in v0.17, in order to be consistent across the PIL and Tensor backends. To suppress this warning, directly pass antialias=True (recommended, future default), antialias=None (current default, which means False for Tensors and True for PIL), or antialias=False (only works on Tensors - PIL will still use antialiasing). This also applies if you are using the inference transforms from the models weights: update the call to weights.transforms(antialias=True).\n",
            "The default value of the antialias parameter of all the resizing transforms (Resize(), RandomResizedCrop(), etc.) will change from None to True in v0.17, in order to be consistent across the PIL and Tensor backends. To suppress this warning, directly pass antialias=True (recommended, future default), antialias=None (current default, which means False for Tensors and True for PIL), or antialias=False (only works on Tensors - PIL will still use antialiasing). This also applies if you are using the inference transforms from the models weights: update the call to weights.transforms(antialias=True).\n",
            "100%|██████████| 750/750 [00:38<00:00, 19.62it/s]\n"
          ]
        },
        {
          "output_type": "stream",
          "name": "stdout",
          "text": [
            "Val loss has improved. From 0.11934142598075172 to 0.11758733189788957. Saving model...\n",
            "Train Loss: 0.1368\n",
            "Val Loss: 0.1176\n",
            "recall\n",
            "--------\n",
            "Upper part: 0.94\n",
            "Bottom part: 0.98\n",
            "One piece: 0.91\n",
            "Footwear: 1.0\n",
            "Bags: 0.97\n",
            "-----------------------\n",
            "precision\n",
            "--------\n",
            "Upper part: 0.98\n",
            "Bottom part: 0.94\n",
            "One piece: 0.82\n",
            "Footwear: 1.0\n",
            "Bags: 0.97\n",
            "-----------------------\n",
            "negative predicted value\n",
            "--------\n",
            "Upper part: 0.96\n",
            "Bottom part: 1.0\n",
            "One piece: 0.99\n",
            "Footwear: 1.0\n",
            "Bags: 1.0\n",
            "-----------------------\n",
            "\n",
            "--------------------------------------------------------------------------------\n",
            "Epoch 6 of 20\n",
            "Training...\n"
          ]
        },
        {
          "output_type": "stream",
          "name": "stderr",
          "text": [
            "\r  0%|          | 0/3000 [00:00<?, ?it/s]The default value of the antialias parameter of all the resizing transforms (Resize(), RandomResizedCrop(), etc.) will change from None to True in v0.17, in order to be consistent across the PIL and Tensor backends. To suppress this warning, directly pass antialias=True (recommended, future default), antialias=None (current default, which means False for Tensors and True for PIL), or antialias=False (only works on Tensors - PIL will still use antialiasing). This also applies if you are using the inference transforms from the models weights: update the call to weights.transforms(antialias=True).\n",
            "The default value of the antialias parameter of all the resizing transforms (Resize(), RandomResizedCrop(), etc.) will change from None to True in v0.17, in order to be consistent across the PIL and Tensor backends. To suppress this warning, directly pass antialias=True (recommended, future default), antialias=None (current default, which means False for Tensors and True for PIL), or antialias=False (only works on Tensors - PIL will still use antialiasing). This also applies if you are using the inference transforms from the models weights: update the call to weights.transforms(antialias=True).\n",
            "100%|██████████| 3000/3000 [02:48<00:00, 17.79it/s]\n"
          ]
        },
        {
          "output_type": "stream",
          "name": "stdout",
          "text": [
            "Validating...\n"
          ]
        },
        {
          "output_type": "stream",
          "name": "stderr",
          "text": [
            "\r  0%|          | 0/750 [00:00<?, ?it/s]The default value of the antialias parameter of all the resizing transforms (Resize(), RandomResizedCrop(), etc.) will change from None to True in v0.17, in order to be consistent across the PIL and Tensor backends. To suppress this warning, directly pass antialias=True (recommended, future default), antialias=None (current default, which means False for Tensors and True for PIL), or antialias=False (only works on Tensors - PIL will still use antialiasing). This also applies if you are using the inference transforms from the models weights: update the call to weights.transforms(antialias=True).\n",
            "The default value of the antialias parameter of all the resizing transforms (Resize(), RandomResizedCrop(), etc.) will change from None to True in v0.17, in order to be consistent across the PIL and Tensor backends. To suppress this warning, directly pass antialias=True (recommended, future default), antialias=None (current default, which means False for Tensors and True for PIL), or antialias=False (only works on Tensors - PIL will still use antialiasing). This also applies if you are using the inference transforms from the models weights: update the call to weights.transforms(antialias=True).\n",
            "100%|██████████| 750/750 [00:36<00:00, 20.43it/s]\n"
          ]
        },
        {
          "output_type": "stream",
          "name": "stdout",
          "text": [
            "Val loss has improved. From 0.11758733189788957 to 0.11600066089381775. Saving model...\n",
            "Train Loss: 0.1404\n",
            "Val Loss: 0.1160\n",
            "recall\n",
            "--------\n",
            "Upper part: 0.94\n",
            "Bottom part: 0.98\n",
            "One piece: 0.91\n",
            "Footwear: 0.99\n",
            "Bags: 0.97\n",
            "-----------------------\n",
            "precision\n",
            "--------\n",
            "Upper part: 0.97\n",
            "Bottom part: 0.97\n",
            "One piece: 0.82\n",
            "Footwear: 1.0\n",
            "Bags: 0.94\n",
            "-----------------------\n",
            "negative predicted value\n",
            "--------\n",
            "Upper part: 0.96\n",
            "Bottom part: 1.0\n",
            "One piece: 0.99\n",
            "Footwear: 1.0\n",
            "Bags: 1.0\n",
            "-----------------------\n",
            "\n",
            "--------------------------------------------------------------------------------\n",
            "Epoch 7 of 20\n",
            "Training...\n"
          ]
        },
        {
          "output_type": "stream",
          "name": "stderr",
          "text": [
            "\r  0%|          | 0/3000 [00:00<?, ?it/s]The default value of the antialias parameter of all the resizing transforms (Resize(), RandomResizedCrop(), etc.) will change from None to True in v0.17, in order to be consistent across the PIL and Tensor backends. To suppress this warning, directly pass antialias=True (recommended, future default), antialias=None (current default, which means False for Tensors and True for PIL), or antialias=False (only works on Tensors - PIL will still use antialiasing). This also applies if you are using the inference transforms from the models weights: update the call to weights.transforms(antialias=True).\n",
            "The default value of the antialias parameter of all the resizing transforms (Resize(), RandomResizedCrop(), etc.) will change from None to True in v0.17, in order to be consistent across the PIL and Tensor backends. To suppress this warning, directly pass antialias=True (recommended, future default), antialias=None (current default, which means False for Tensors and True for PIL), or antialias=False (only works on Tensors - PIL will still use antialiasing). This also applies if you are using the inference transforms from the models weights: update the call to weights.transforms(antialias=True).\n",
            "100%|██████████| 3000/3000 [02:50<00:00, 17.65it/s]\n"
          ]
        },
        {
          "output_type": "stream",
          "name": "stdout",
          "text": [
            "Validating...\n"
          ]
        },
        {
          "output_type": "stream",
          "name": "stderr",
          "text": [
            "\r  0%|          | 0/750 [00:00<?, ?it/s]The default value of the antialias parameter of all the resizing transforms (Resize(), RandomResizedCrop(), etc.) will change from None to True in v0.17, in order to be consistent across the PIL and Tensor backends. To suppress this warning, directly pass antialias=True (recommended, future default), antialias=None (current default, which means False for Tensors and True for PIL), or antialias=False (only works on Tensors - PIL will still use antialiasing). This also applies if you are using the inference transforms from the models weights: update the call to weights.transforms(antialias=True).\n",
            "The default value of the antialias parameter of all the resizing transforms (Resize(), RandomResizedCrop(), etc.) will change from None to True in v0.17, in order to be consistent across the PIL and Tensor backends. To suppress this warning, directly pass antialias=True (recommended, future default), antialias=None (current default, which means False for Tensors and True for PIL), or antialias=False (only works on Tensors - PIL will still use antialiasing). This also applies if you are using the inference transforms from the models weights: update the call to weights.transforms(antialias=True).\n",
            "100%|██████████| 750/750 [00:38<00:00, 19.54it/s]\n"
          ]
        },
        {
          "output_type": "stream",
          "name": "stdout",
          "text": [
            "Val loss did not improve\n",
            "Train Loss: 0.1414\n",
            "Val Loss: 0.1324\n",
            "recall\n",
            "--------\n",
            "Upper part: 0.9\n",
            "Bottom part: 0.98\n",
            "One piece: 0.95\n",
            "Footwear: 1.0\n",
            "Bags: 0.96\n",
            "-----------------------\n",
            "precision\n",
            "--------\n",
            "Upper part: 0.98\n",
            "Bottom part: 0.97\n",
            "One piece: 0.71\n",
            "Footwear: 1.0\n",
            "Bags: 0.98\n",
            "-----------------------\n",
            "negative predicted value\n",
            "--------\n",
            "Upper part: 0.94\n",
            "Bottom part: 1.0\n",
            "One piece: 0.99\n",
            "Footwear: 1.0\n",
            "Bags: 1.0\n",
            "-----------------------\n",
            "\n",
            "--------------------------------------------------------------------------------\n",
            "Epoch 8 of 20\n",
            "Training...\n"
          ]
        },
        {
          "output_type": "stream",
          "name": "stderr",
          "text": [
            "\r  0%|          | 0/3000 [00:00<?, ?it/s]The default value of the antialias parameter of all the resizing transforms (Resize(), RandomResizedCrop(), etc.) will change from None to True in v0.17, in order to be consistent across the PIL and Tensor backends. To suppress this warning, directly pass antialias=True (recommended, future default), antialias=None (current default, which means False for Tensors and True for PIL), or antialias=False (only works on Tensors - PIL will still use antialiasing). This also applies if you are using the inference transforms from the models weights: update the call to weights.transforms(antialias=True).\n",
            "The default value of the antialias parameter of all the resizing transforms (Resize(), RandomResizedCrop(), etc.) will change from None to True in v0.17, in order to be consistent across the PIL and Tensor backends. To suppress this warning, directly pass antialias=True (recommended, future default), antialias=None (current default, which means False for Tensors and True for PIL), or antialias=False (only works on Tensors - PIL will still use antialiasing). This also applies if you are using the inference transforms from the models weights: update the call to weights.transforms(antialias=True).\n",
            "100%|██████████| 3000/3000 [02:49<00:00, 17.73it/s]\n"
          ]
        },
        {
          "output_type": "stream",
          "name": "stdout",
          "text": [
            "Validating...\n"
          ]
        },
        {
          "output_type": "stream",
          "name": "stderr",
          "text": [
            "\r  0%|          | 0/750 [00:00<?, ?it/s]The default value of the antialias parameter of all the resizing transforms (Resize(), RandomResizedCrop(), etc.) will change from None to True in v0.17, in order to be consistent across the PIL and Tensor backends. To suppress this warning, directly pass antialias=True (recommended, future default), antialias=None (current default, which means False for Tensors and True for PIL), or antialias=False (only works on Tensors - PIL will still use antialiasing). This also applies if you are using the inference transforms from the models weights: update the call to weights.transforms(antialias=True).\n",
            "The default value of the antialias parameter of all the resizing transforms (Resize(), RandomResizedCrop(), etc.) will change from None to True in v0.17, in order to be consistent across the PIL and Tensor backends. To suppress this warning, directly pass antialias=True (recommended, future default), antialias=None (current default, which means False for Tensors and True for PIL), or antialias=False (only works on Tensors - PIL will still use antialiasing). This also applies if you are using the inference transforms from the models weights: update the call to weights.transforms(antialias=True).\n",
            "100%|██████████| 750/750 [00:37<00:00, 20.08it/s]\n"
          ]
        },
        {
          "output_type": "stream",
          "name": "stdout",
          "text": [
            "Val loss did not improve\n",
            "Train Loss: 0.1400\n",
            "Val Loss: 0.1360\n",
            "recall\n",
            "--------\n",
            "Upper part: 0.89\n",
            "Bottom part: 0.97\n",
            "One piece: 0.96\n",
            "Footwear: 0.99\n",
            "Bags: 0.96\n",
            "-----------------------\n",
            "precision\n",
            "--------\n",
            "Upper part: 0.98\n",
            "Bottom part: 0.98\n",
            "One piece: 0.68\n",
            "Footwear: 1.0\n",
            "Bags: 0.96\n",
            "-----------------------\n",
            "negative predicted value\n",
            "--------\n",
            "Upper part: 0.93\n",
            "Bottom part: 1.0\n",
            "One piece: 1.0\n",
            "Footwear: 1.0\n",
            "Bags: 1.0\n",
            "-----------------------\n",
            "\n",
            "--------------------------------------------------------------------------------\n",
            "Epoch 9 of 20\n",
            "Training...\n"
          ]
        },
        {
          "output_type": "stream",
          "name": "stderr",
          "text": [
            "\r  0%|          | 0/3000 [00:00<?, ?it/s]The default value of the antialias parameter of all the resizing transforms (Resize(), RandomResizedCrop(), etc.) will change from None to True in v0.17, in order to be consistent across the PIL and Tensor backends. To suppress this warning, directly pass antialias=True (recommended, future default), antialias=None (current default, which means False for Tensors and True for PIL), or antialias=False (only works on Tensors - PIL will still use antialiasing). This also applies if you are using the inference transforms from the models weights: update the call to weights.transforms(antialias=True).\n",
            "The default value of the antialias parameter of all the resizing transforms (Resize(), RandomResizedCrop(), etc.) will change from None to True in v0.17, in order to be consistent across the PIL and Tensor backends. To suppress this warning, directly pass antialias=True (recommended, future default), antialias=None (current default, which means False for Tensors and True for PIL), or antialias=False (only works on Tensors - PIL will still use antialiasing). This also applies if you are using the inference transforms from the models weights: update the call to weights.transforms(antialias=True).\n",
            "100%|██████████| 3000/3000 [02:49<00:00, 17.65it/s]\n"
          ]
        },
        {
          "output_type": "stream",
          "name": "stdout",
          "text": [
            "Validating...\n"
          ]
        },
        {
          "output_type": "stream",
          "name": "stderr",
          "text": [
            "\r  0%|          | 0/750 [00:00<?, ?it/s]The default value of the antialias parameter of all the resizing transforms (Resize(), RandomResizedCrop(), etc.) will change from None to True in v0.17, in order to be consistent across the PIL and Tensor backends. To suppress this warning, directly pass antialias=True (recommended, future default), antialias=None (current default, which means False for Tensors and True for PIL), or antialias=False (only works on Tensors - PIL will still use antialiasing). This also applies if you are using the inference transforms from the models weights: update the call to weights.transforms(antialias=True).\n",
            "The default value of the antialias parameter of all the resizing transforms (Resize(), RandomResizedCrop(), etc.) will change from None to True in v0.17, in order to be consistent across the PIL and Tensor backends. To suppress this warning, directly pass antialias=True (recommended, future default), antialias=None (current default, which means False for Tensors and True for PIL), or antialias=False (only works on Tensors - PIL will still use antialiasing). This also applies if you are using the inference transforms from the models weights: update the call to weights.transforms(antialias=True).\n",
            "100%|██████████| 750/750 [00:38<00:00, 19.58it/s]\n"
          ]
        },
        {
          "output_type": "stream",
          "name": "stdout",
          "text": [
            "Val loss did not improve\n"
          ]
        }
      ]
    },
    {
      "cell_type": "markdown",
      "source": [
        "## Test inference"
      ],
      "metadata": {
        "id": "rXSpqcZRsnyw"
      }
    },
    {
      "cell_type": "code",
      "source": [
        "best_model = torch.load(MODEL_NAME)"
      ],
      "metadata": {
        "id": "eYl_GLI74Nz2"
      },
      "execution_count": 32,
      "outputs": []
    },
    {
      "cell_type": "code",
      "source": [
        "# -- Use val function for test data\n",
        "test_epoch_loss, test_predictions, test_predictions_proba, test_metric_dict = val(\n",
        "        test_loader, best_model, val_criterion\n",
        ")\n",
        "\n",
        "for k in test_metric_dict.keys():\n",
        "  print(k)\n",
        "  print(\"--------\")\n",
        "  for k_aux in test_metric_dict[k].keys():\n",
        "    print(k_aux + ': ' + str(np.round(test_metric_dict[k][k_aux], 2)))\n",
        "  print(\"-----------------------\")"
      ],
      "metadata": {
        "colab": {
          "base_uri": "https://localhost:8080/"
        },
        "id": "n57aJsEAtWf-",
        "outputId": "c800a4cc-879c-400b-98d8-5d3b6e37bbc6"
      },
      "execution_count": 33,
      "outputs": [
        {
          "output_type": "stream",
          "name": "stdout",
          "text": [
            "Validating...\n"
          ]
        },
        {
          "output_type": "stream",
          "name": "stderr",
          "text": [
            "\r  0%|          | 0/625 [00:00<?, ?it/s]The default value of the antialias parameter of all the resizing transforms (Resize(), RandomResizedCrop(), etc.) will change from None to True in v0.17, in order to be consistent across the PIL and Tensor backends. To suppress this warning, directly pass antialias=True (recommended, future default), antialias=None (current default, which means False for Tensors and True for PIL), or antialias=False (only works on Tensors - PIL will still use antialiasing). This also applies if you are using the inference transforms from the models weights: update the call to weights.transforms(antialias=True).\n",
            "The default value of the antialias parameter of all the resizing transforms (Resize(), RandomResizedCrop(), etc.) will change from None to True in v0.17, in order to be consistent across the PIL and Tensor backends. To suppress this warning, directly pass antialias=True (recommended, future default), antialias=None (current default, which means False for Tensors and True for PIL), or antialias=False (only works on Tensors - PIL will still use antialiasing). This also applies if you are using the inference transforms from the models weights: update the call to weights.transforms(antialias=True).\n",
            "100%|██████████| 625/625 [00:35<00:00, 17.74it/s]\n"
          ]
        },
        {
          "output_type": "stream",
          "name": "stdout",
          "text": [
            "recall\n",
            "--------\n",
            "Upper part: 0.94\n",
            "Bottom part: 0.97\n",
            "One piece: 0.89\n",
            "Footwear: 1.0\n",
            "Bags: 0.98\n",
            "-----------------------\n",
            "precision\n",
            "--------\n",
            "Upper part: 0.97\n",
            "Bottom part: 0.98\n",
            "One piece: 0.81\n",
            "Footwear: 1.0\n",
            "Bags: 0.94\n",
            "-----------------------\n",
            "negative predicted value\n",
            "--------\n",
            "Upper part: 0.96\n",
            "Bottom part: 1.0\n",
            "One piece: 0.99\n",
            "Footwear: 1.0\n",
            "Bags: 1.0\n",
            "-----------------------\n"
          ]
        }
      ]
    },
    {
      "cell_type": "markdown",
      "source": [
        "### Confussion matrix"
      ],
      "metadata": {
        "id": "Z72r_tnzuY_8"
      }
    },
    {
      "cell_type": "code",
      "source": [
        "real = list(y_test_df['label'])\n",
        "pred = [np.argmax(pred) for pred in test_predictions]\n",
        "\n",
        "cm   = metrics.confusion_matrix(real, pred, labels=list(REVERSE_GROUP_MAPPING.keys()))\n",
        "disp = metrics.ConfusionMatrixDisplay(confusion_matrix=cm, display_labels=GROUP_MAPPING.keys())\n",
        "fig, ax = plt.subplots(figsize=(7,6))\n",
        "disp.plot(ax=ax)\n",
        "plt.show()"
      ],
      "metadata": {
        "colab": {
          "base_uri": "https://localhost:8080/",
          "height": 528
        },
        "id": "SFaozcaBQlRU",
        "outputId": "fc2cf45c-83d1-4210-ad0f-999cad635caf"
      },
      "execution_count": 34,
      "outputs": [
        {
          "output_type": "display_data",
          "data": {
            "text/plain": [
              "<Figure size 700x600 with 2 Axes>"
            ],
            "image/png": "[encoded data removed]"
          },
          "metadata": {}
        }
      ]
    },
    {
      "cell_type": "markdown",
      "source": [
        "## Slot for NOTES"
      ],
      "metadata": {
        "id": "GRRCeaXS4VOR"
      }
    },
    {
      "cell_type": "markdown",
      "source": [
        "* 03_zalando_image_classification_squeezenet1_1_baseline_non_layers_frozen:\n",
        "  * \"One piece\" precision metrics achieves similar results compared to previous MobileNetV2, with slightly worst results"
      ],
      "metadata": {
        "id": "qOeStvBZ4YUq"
      }
    },
    {
      "cell_type": "markdown",
      "source": [
        "## Error analysis"
      ],
      "metadata": {
        "id": "fomYf_WH5tgt"
      }
    },
    {
      "cell_type": "code",
      "source": [
        "probabilities = [float(torch.max(proba)) for proba in test_predictions_proba]\n",
        "\n",
        "y_test_df['pred_label']   = list(map(lambda x: REVERSE_GROUP_MAPPING[x], pred))\n",
        "y_test_df['str_label']    = y_test_df['label'].apply(lambda x: REVERSE_GROUP_MAPPING[x])\n",
        "y_test_df['proba_label']  = probabilities\n",
        "\n",
        "y_test_df"
      ],
      "metadata": {
        "colab": {
          "base_uri": "https://localhost:8080/",
          "height": 424
        },
        "id": "6lB-UaHm5utW",
        "outputId": "54fb6bfb-cd12-4a6b-bcda-a89f901f5959"
      },
      "execution_count": 35,
      "outputs": [
        {
          "output_type": "execute_result",
          "data": {
            "text/plain": [
              "      index  label   pred_label    str_label  proba_label\n",
              "0         0      3     Footwear     Footwear     0.999682\n",
              "1         1      0   Upper part   Upper part     0.994981\n",
              "2         2      1  Bottom part  Bottom part     0.999408\n",
              "3         3      1  Bottom part  Bottom part     0.999265\n",
              "4         4      0   Upper part   Upper part     0.982623\n",
              "...     ...    ...          ...          ...          ...\n",
              "9995   9995      3     Footwear     Footwear     0.997319\n",
              "9996   9996      1  Bottom part  Bottom part     0.977652\n",
              "9997   9997      4         Bags         Bags     0.998507\n",
              "9998   9998      1  Bottom part  Bottom part     0.998555\n",
              "9999   9999      3         Bags     Footwear     0.720241\n",
              "\n",
              "[10000 rows x 5 columns]"
            ],
            "text/html": [
              "\n",
              "  <div id=\"df-87c4c7e0-0437-42a1-afa5-4aae8766c9ac\" class=\"colab-df-container\">\n",
              "    <div>\n",
              "<style scoped>\n",
              "    .dataframe tbody tr th:only-of-type {\n",
              "        vertical-align: middle;\n",
              "    }\n",
              "\n",
              "    .dataframe tbody tr th {\n",
              "        vertical-align: top;\n",
              "    }\n",
              "\n",
              "    .dataframe thead th {\n",
              "        text-align: right;\n",
              "    }\n",
              "</style>\n",
              "<table border=\"1\" class=\"dataframe\">\n",
              "  <thead>\n",
              "    <tr style=\"text-align: right;\">\n",
              "      <th></th>\n",
              "      <th>index</th>\n",
              "      <th>label</th>\n",
              "      <th>pred_label</th>\n",
              "      <th>str_label</th>\n",
              "      <th>proba_label</th>\n",
              "    </tr>\n",
              "  </thead>\n",
              "  <tbody>\n",
              "    <tr>\n",
              "      <th>0</th>\n",
              "      <td>0</td>\n",
              "      <td>3</td>\n",
              "      <td>Footwear</td>\n",
              "      <td>Footwear</td>\n",
              "      <td>0.999682</td>\n",
              "    </tr>\n",
              "    <tr>\n",
              "      <th>1</th>\n",
              "      <td>1</td>\n",
              "      <td>0</td>\n",
              "      <td>Upper part</td>\n",
              "      <td>Upper part</td>\n",
              "      <td>0.994981</td>\n",
              "    </tr>\n",
              "    <tr>\n",
              "      <th>2</th>\n",
              "      <td>2</td>\n",
              "      <td>1</td>\n",
              "      <td>Bottom part</td>\n",
              "      <td>Bottom part</td>\n",
              "      <td>0.999408</td>\n",
              "    </tr>\n",
              "    <tr>\n",
              "      <th>3</th>\n",
              "      <td>3</td>\n",
              "      <td>1</td>\n",
              "      <td>Bottom part</td>\n",
              "      <td>Bottom part</td>\n",
              "      <td>0.999265</td>\n",
              "    </tr>\n",
              "    <tr>\n",
              "      <th>4</th>\n",
              "      <td>4</td>\n",
              "      <td>0</td>\n",
              "      <td>Upper part</td>\n",
              "      <td>Upper part</td>\n",
              "      <td>0.982623</td>\n",
              "    </tr>\n",
              "    <tr>\n",
              "      <th>...</th>\n",
              "      <td>...</td>\n",
              "      <td>...</td>\n",
              "      <td>...</td>\n",
              "      <td>...</td>\n",
              "      <td>...</td>\n",
              "    </tr>\n",
              "    <tr>\n",
              "      <th>9995</th>\n",
              "      <td>9995</td>\n",
              "      <td>3</td>\n",
              "      <td>Footwear</td>\n",
              "      <td>Footwear</td>\n",
              "      <td>0.997319</td>\n",
              "    </tr>\n",
              "    <tr>\n",
              "      <th>9996</th>\n",
              "      <td>9996</td>\n",
              "      <td>1</td>\n",
              "      <td>Bottom part</td>\n",
              "      <td>Bottom part</td>\n",
              "      <td>0.977652</td>\n",
              "    </tr>\n",
              "    <tr>\n",
              "      <th>9997</th>\n",
              "      <td>9997</td>\n",
              "      <td>4</td>\n",
              "      <td>Bags</td>\n",
              "      <td>Bags</td>\n",
              "      <td>0.998507</td>\n",
              "    </tr>\n",
              "    <tr>\n",
              "      <th>9998</th>\n",
              "      <td>9998</td>\n",
              "      <td>1</td>\n",
              "      <td>Bottom part</td>\n",
              "      <td>Bottom part</td>\n",
              "      <td>0.998555</td>\n",
              "    </tr>\n",
              "    <tr>\n",
              "      <th>9999</th>\n",
              "      <td>9999</td>\n",
              "      <td>3</td>\n",
              "      <td>Bags</td>\n",
              "      <td>Footwear</td>\n",
              "      <td>0.720241</td>\n",
              "    </tr>\n",
              "  </tbody>\n",
              "</table>\n",
              "<p>10000 rows × 5 columns</p>\n",
              "</div>\n",
              "    <div class=\"colab-df-buttons\">\n",
              "\n",
              "  <div class=\"colab-df-container\">\n",
              "    <button class=\"colab-df-convert\" onclick=\"convertToInteractive('df-87c4c7e0-0437-42a1-afa5-4aae8766c9ac')\"\n",
              "            title=\"Convert this dataframe to an interactive table.\"\n",
              "            style=\"display:none;\">\n",
              "\n",
              "  <svg xmlns=\"http://www.w3.org/2000/svg\" height=\"24px\" viewBox=\"0 -960 960 960\">\n",
              "    <path d=\"M120-120v-720h720v720H120Zm60-500h600v-160H180v160Zm220 220h160v-160H400v160Zm0 220h160v-160H400v160ZM180-400h160v-160H180v160Zm440 0h160v-160H620v160ZM180-180h160v-160H180v160Zm440 0h160v-160H620v160Z\"/>\n",
              "  </svg>\n",
              "    </button>\n",
              "\n",
              "  <style>\n",
              "    .colab-df-container {\n",
              "      display:flex;\n",
              "      gap: 12px;\n",
              "    }\n",
              "\n",
              "    .colab-df-convert {\n",
              "      background-color: #E8F0FE;\n",
              "      border: none;\n",
              "      border-radius: 50%;\n",
              "      cursor: pointer;\n",
              "      display: none;\n",
              "      fill: #1967D2;\n",
              "      height: 32px;\n",
              "      padding: 0 0 0 0;\n",
              "      width: 32px;\n",
              "    }\n",
              "\n",
              "    .colab-df-convert:hover {\n",
              "      background-color: #E2EBFA;\n",
              "      box-shadow: 0px 1px 2px rgba(60, 64, 67, 0.3), 0px 1px 3px 1px rgba(60, 64, 67, 0.15);\n",
              "      fill: #174EA6;\n",
              "    }\n",
              "\n",
              "    .colab-df-buttons div {\n",
              "      margin-bottom: 4px;\n",
              "    }\n",
              "\n",
              "    [theme=dark] .colab-df-convert {\n",
              "      background-color: #3B4455;\n",
              "      fill: #D2E3FC;\n",
              "    }\n",
              "\n",
              "    [theme=dark] .colab-df-convert:hover {\n",
              "      background-color: #434B5C;\n",
              "      box-shadow: 0px 1px 3px 1px rgba(0, 0, 0, 0.15);\n",
              "      filter: drop-shadow(0px 1px 2px rgba(0, 0, 0, 0.3));\n",
              "      fill: #FFFFFF;\n",
              "    }\n",
              "  </style>\n",
              "\n",
              "    <script>\n",
              "      const buttonEl =\n",
              "        document.querySelector('#df-87c4c7e0-0437-42a1-afa5-4aae8766c9ac button.colab-df-convert');\n",
              "      buttonEl.style.display =\n",
              "        google.colab.kernel.accessAllowed ? 'block' : 'none';\n",
              "\n",
              "      async function convertToInteractive(key) {\n",
              "        const element = document.querySelector('#df-87c4c7e0-0437-42a1-afa5-4aae8766c9ac');\n",
              "        const dataTable =\n",
              "          await google.colab.kernel.invokeFunction('convertToInteractive',\n",
              "                                                    [key], {});\n",
              "        if (!dataTable) return;\n",
              "\n",
              "        const docLinkHtml = 'Like what you see? Visit the ' +\n",
              "          '<a target=\"_blank\" href=https://colab.research.google.com/notebooks/data_table.ipynb>data table notebook</a>'\n",
              "          + ' to learn more about interactive tables.';\n",
              "        element.innerHTML = '';\n",
              "        dataTable['output_type'] = 'display_data';\n",
              "        await google.colab.output.renderOutput(dataTable, element);\n",
              "        const docLink = document.createElement('div');\n",
              "        docLink.innerHTML = docLinkHtml;\n",
              "        element.appendChild(docLink);\n",
              "      }\n",
              "    </script>\n",
              "  </div>\n",
              "\n",
              "\n",
              "<div id=\"df-00c1c09e-73b6-4fc1-b711-ffcf82dd5e63\">\n",
              "  <button class=\"colab-df-quickchart\" onclick=\"quickchart('df-00c1c09e-73b6-4fc1-b711-ffcf82dd5e63')\"\n",
              "            title=\"Suggest charts.\"\n",
              "            style=\"display:none;\">\n",
              "\n",
              "<svg xmlns=\"http://www.w3.org/2000/svg\" height=\"24px\"viewBox=\"0 0 24 24\"\n",
              "     width=\"24px\">\n",
              "    <g>\n",
              "        <path d=\"M19 3H5c-1.1 0-2 .9-2 2v14c0 1.1.9 2 2 2h14c1.1 0 2-.9 2-2V5c0-1.1-.9-2-2-2zM9 17H7v-7h2v7zm4 0h-2V7h2v10zm4 0h-2v-4h2v4z\"/>\n",
              "    </g>\n",
              "</svg>\n",
              "  </button>\n",
              "\n",
              "<style>\n",
              "  .colab-df-quickchart {\n",
              "      --bg-color: #E8F0FE;\n",
              "      --fill-color: #1967D2;\n",
              "      --hover-bg-color: #E2EBFA;\n",
              "      --hover-fill-color: #174EA6;\n",
              "      --disabled-fill-color: #AAA;\n",
              "      --disabled-bg-color: #DDD;\n",
              "  }\n",
              "\n",
              "  [theme=dark] .colab-df-quickchart {\n",
              "      --bg-color: #3B4455;\n",
              "      --fill-color: #D2E3FC;\n",
              "      --hover-bg-color: #434B5C;\n",
              "      --hover-fill-color: #FFFFFF;\n",
              "      --disabled-bg-color: #3B4455;\n",
              "      --disabled-fill-color: #666;\n",
              "  }\n",
              "\n",
              "  .colab-df-quickchart {\n",
              "    background-color: var(--bg-color);\n",
              "    border: none;\n",
              "    border-radius: 50%;\n",
              "    cursor: pointer;\n",
              "    display: none;\n",
              "    fill: var(--fill-color);\n",
              "    height: 32px;\n",
              "    padding: 0;\n",
              "    width: 32px;\n",
              "  }\n",
              "\n",
              "  .colab-df-quickchart:hover {\n",
              "    background-color: var(--hover-bg-color);\n",
              "    box-shadow: 0 1px 2px rgba(60, 64, 67, 0.3), 0 1px 3px 1px rgba(60, 64, 67, 0.15);\n",
              "    fill: var(--button-hover-fill-color);\n",
              "  }\n",
              "\n",
              "  .colab-df-quickchart-complete:disabled,\n",
              "  .colab-df-quickchart-complete:disabled:hover {\n",
              "    background-color: var(--disabled-bg-color);\n",
              "    fill: var(--disabled-fill-color);\n",
              "    box-shadow: none;\n",
              "  }\n",
              "\n",
              "  .colab-df-spinner {\n",
              "    border: 2px solid var(--fill-color);\n",
              "    border-color: transparent;\n",
              "    border-bottom-color: var(--fill-color);\n",
              "    animation:\n",
              "      spin 1s steps(1) infinite;\n",
              "  }\n",
              "\n",
              "  @keyframes spin {\n",
              "    0% {\n",
              "      border-color: transparent;\n",
              "      border-bottom-color: var(--fill-color);\n",
              "      border-left-color: var(--fill-color);\n",
              "    }\n",
              "    20% {\n",
              "      border-color: transparent;\n",
              "      border-left-color: var(--fill-color);\n",
              "      border-top-color: var(--fill-color);\n",
              "    }\n",
              "    30% {\n",
              "      border-color: transparent;\n",
              "      border-left-color: var(--fill-color);\n",
              "      border-top-color: var(--fill-color);\n",
              "      border-right-color: var(--fill-color);\n",
              "    }\n",
              "    40% {\n",
              "      border-color: transparent;\n",
              "      border-right-color: var(--fill-color);\n",
              "      border-top-color: var(--fill-color);\n",
              "    }\n",
              "    60% {\n",
              "      border-color: transparent;\n",
              "      border-right-color: var(--fill-color);\n",
              "    }\n",
              "    80% {\n",
              "      border-color: transparent;\n",
              "      border-right-color: var(--fill-color);\n",
              "      border-bottom-color: var(--fill-color);\n",
              "    }\n",
              "    90% {\n",
              "      border-color: transparent;\n",
              "      border-bottom-color: var(--fill-color);\n",
              "    }\n",
              "  }\n",
              "</style>\n",
              "\n",
              "  <script>\n",
              "    async function quickchart(key) {\n",
              "      const quickchartButtonEl =\n",
              "        document.querySelector('#' + key + ' button');\n",
              "      quickchartButtonEl.disabled = true;  // To prevent multiple clicks.\n",
              "      quickchartButtonEl.classList.add('colab-df-spinner');\n",
              "      try {\n",
              "        const charts = await google.colab.kernel.invokeFunction(\n",
              "            'suggestCharts', [key], {});\n",
              "      } catch (error) {\n",
              "        console.error('Error during call to suggestCharts:', error);\n",
              "      }\n",
              "      quickchartButtonEl.classList.remove('colab-df-spinner');\n",
              "      quickchartButtonEl.classList.add('colab-df-quickchart-complete');\n",
              "    }\n",
              "    (() => {\n",
              "      let quickchartButtonEl =\n",
              "        document.querySelector('#df-00c1c09e-73b6-4fc1-b711-ffcf82dd5e63 button');\n",
              "      quickchartButtonEl.style.display =\n",
              "        google.colab.kernel.accessAllowed ? 'block' : 'none';\n",
              "    })();\n",
              "  </script>\n",
              "</div>\n",
              "    </div>\n",
              "  </div>\n"
            ]
          },
          "metadata": {},
          "execution_count": 35
        }
      ]
    },
    {
      "cell_type": "markdown",
      "source": [
        "* 02_zalando_image_classification_mobilenet_v2_baseline_non_layers_frozen: model still confuse One piece clothes with Upper part ones"
      ],
      "metadata": {
        "id": "xEchzRGB6npg"
      }
    },
    {
      "cell_type": "code",
      "source": [
        "y_test_df[(y_test_df['str_label'] == 'Upper part') &\\\n",
        "          (y_test_df['pred_label'] == 'One piece') &\\\n",
        "          (y_test_df['proba_label'] < 0.5)].sort_values('proba_label', ascending=True)"
      ],
      "metadata": {
        "colab": {
          "base_uri": "https://localhost:8080/",
          "height": 332
        },
        "id": "BEdnCxg27gWJ",
        "outputId": "c34fecd0-fd68-404b-f9b0-6f1bb5bd2e3d"
      },
      "execution_count": 36,
      "outputs": [
        {
          "output_type": "execute_result",
          "data": {
            "text/plain": [
              "      index  label pred_label   str_label  proba_label\n",
              "3229   3229      0  One piece  Upper part     0.421906\n",
              "7800   7800      0  One piece  Upper part     0.453068\n",
              "6294   6294      0  One piece  Upper part     0.468824\n",
              "6874   6874      0  One piece  Upper part     0.472943\n",
              "6797   6797      0  One piece  Upper part     0.483346\n",
              "4509   4509      0  One piece  Upper part     0.487773\n",
              "5745   5745      0  One piece  Upper part     0.488409\n",
              "5120   5120      0  One piece  Upper part     0.492991\n",
              "5129   5129      0  One piece  Upper part     0.496275"
            ],
            "text/html": [
              "\n",
              "  <div id=\"df-558a52f7-619a-4390-867b-a323aae57f5b\" class=\"colab-df-container\">\n",
              "    <div>\n",
              "<style scoped>\n",
              "    .dataframe tbody tr th:only-of-type {\n",
              "        vertical-align: middle;\n",
              "    }\n",
              "\n",
              "    .dataframe tbody tr th {\n",
              "        vertical-align: top;\n",
              "    }\n",
              "\n",
              "    .dataframe thead th {\n",
              "        text-align: right;\n",
              "    }\n",
              "</style>\n",
              "<table border=\"1\" class=\"dataframe\">\n",
              "  <thead>\n",
              "    <tr style=\"text-align: right;\">\n",
              "      <th></th>\n",
              "      <th>index</th>\n",
              "      <th>label</th>\n",
              "      <th>pred_label</th>\n",
              "      <th>str_label</th>\n",
              "      <th>proba_label</th>\n",
              "    </tr>\n",
              "  </thead>\n",
              "  <tbody>\n",
              "    <tr>\n",
              "      <th>3229</th>\n",
              "      <td>3229</td>\n",
              "      <td>0</td>\n",
              "      <td>One piece</td>\n",
              "      <td>Upper part</td>\n",
              "      <td>0.421906</td>\n",
              "    </tr>\n",
              "    <tr>\n",
              "      <th>7800</th>\n",
              "      <td>7800</td>\n",
              "      <td>0</td>\n",
              "      <td>One piece</td>\n",
              "      <td>Upper part</td>\n",
              "      <td>0.453068</td>\n",
              "    </tr>\n",
              "    <tr>\n",
              "      <th>6294</th>\n",
              "      <td>6294</td>\n",
              "      <td>0</td>\n",
              "      <td>One piece</td>\n",
              "      <td>Upper part</td>\n",
              "      <td>0.468824</td>\n",
              "    </tr>\n",
              "    <tr>\n",
              "      <th>6874</th>\n",
              "      <td>6874</td>\n",
              "      <td>0</td>\n",
              "      <td>One piece</td>\n",
              "      <td>Upper part</td>\n",
              "      <td>0.472943</td>\n",
              "    </tr>\n",
              "    <tr>\n",
              "      <th>6797</th>\n",
              "      <td>6797</td>\n",
              "      <td>0</td>\n",
              "      <td>One piece</td>\n",
              "      <td>Upper part</td>\n",
              "      <td>0.483346</td>\n",
              "    </tr>\n",
              "    <tr>\n",
              "      <th>4509</th>\n",
              "      <td>4509</td>\n",
              "      <td>0</td>\n",
              "      <td>One piece</td>\n",
              "      <td>Upper part</td>\n",
              "      <td>0.487773</td>\n",
              "    </tr>\n",
              "    <tr>\n",
              "      <th>5745</th>\n",
              "      <td>5745</td>\n",
              "      <td>0</td>\n",
              "      <td>One piece</td>\n",
              "      <td>Upper part</td>\n",
              "      <td>0.488409</td>\n",
              "    </tr>\n",
              "    <tr>\n",
              "      <th>5120</th>\n",
              "      <td>5120</td>\n",
              "      <td>0</td>\n",
              "      <td>One piece</td>\n",
              "      <td>Upper part</td>\n",
              "      <td>0.492991</td>\n",
              "    </tr>\n",
              "    <tr>\n",
              "      <th>5129</th>\n",
              "      <td>5129</td>\n",
              "      <td>0</td>\n",
              "      <td>One piece</td>\n",
              "      <td>Upper part</td>\n",
              "      <td>0.496275</td>\n",
              "    </tr>\n",
              "  </tbody>\n",
              "</table>\n",
              "</div>\n",
              "    <div class=\"colab-df-buttons\">\n",
              "\n",
              "  <div class=\"colab-df-container\">\n",
              "    <button class=\"colab-df-convert\" onclick=\"convertToInteractive('df-558a52f7-619a-4390-867b-a323aae57f5b')\"\n",
              "            title=\"Convert this dataframe to an interactive table.\"\n",
              "            style=\"display:none;\">\n",
              "\n",
              "  <svg xmlns=\"http://www.w3.org/2000/svg\" height=\"24px\" viewBox=\"0 -960 960 960\">\n",
              "    <path d=\"M120-120v-720h720v720H120Zm60-500h600v-160H180v160Zm220 220h160v-160H400v160Zm0 220h160v-160H400v160ZM180-400h160v-160H180v160Zm440 0h160v-160H620v160ZM180-180h160v-160H180v160Zm440 0h160v-160H620v160Z\"/>\n",
              "  </svg>\n",
              "    </button>\n",
              "\n",
              "  <style>\n",
              "    .colab-df-container {\n",
              "      display:flex;\n",
              "      gap: 12px;\n",
              "    }\n",
              "\n",
              "    .colab-df-convert {\n",
              "      background-color: #E8F0FE;\n",
              "      border: none;\n",
              "      border-radius: 50%;\n",
              "      cursor: pointer;\n",
              "      display: none;\n",
              "      fill: #1967D2;\n",
              "      height: 32px;\n",
              "      padding: 0 0 0 0;\n",
              "      width: 32px;\n",
              "    }\n",
              "\n",
              "    .colab-df-convert:hover {\n",
              "      background-color: #E2EBFA;\n",
              "      box-shadow: 0px 1px 2px rgba(60, 64, 67, 0.3), 0px 1px 3px 1px rgba(60, 64, 67, 0.15);\n",
              "      fill: #174EA6;\n",
              "    }\n",
              "\n",
              "    .colab-df-buttons div {\n",
              "      margin-bottom: 4px;\n",
              "    }\n",
              "\n",
              "    [theme=dark] .colab-df-convert {\n",
              "      background-color: #3B4455;\n",
              "      fill: #D2E3FC;\n",
              "    }\n",
              "\n",
              "    [theme=dark] .colab-df-convert:hover {\n",
              "      background-color: #434B5C;\n",
              "      box-shadow: 0px 1px 3px 1px rgba(0, 0, 0, 0.15);\n",
              "      filter: drop-shadow(0px 1px 2px rgba(0, 0, 0, 0.3));\n",
              "      fill: #FFFFFF;\n",
              "    }\n",
              "  </style>\n",
              "\n",
              "    <script>\n",
              "      const buttonEl =\n",
              "        document.querySelector('#df-558a52f7-619a-4390-867b-a323aae57f5b button.colab-df-convert');\n",
              "      buttonEl.style.display =\n",
              "        google.colab.kernel.accessAllowed ? 'block' : 'none';\n",
              "\n",
              "      async function convertToInteractive(key) {\n",
              "        const element = document.querySelector('#df-558a52f7-619a-4390-867b-a323aae57f5b');\n",
              "        const dataTable =\n",
              "          await google.colab.kernel.invokeFunction('convertToInteractive',\n",
              "                                                    [key], {});\n",
              "        if (!dataTable) return;\n",
              "\n",
              "        const docLinkHtml = 'Like what you see? Visit the ' +\n",
              "          '<a target=\"_blank\" href=https://colab.research.google.com/notebooks/data_table.ipynb>data table notebook</a>'\n",
              "          + ' to learn more about interactive tables.';\n",
              "        element.innerHTML = '';\n",
              "        dataTable['output_type'] = 'display_data';\n",
              "        await google.colab.output.renderOutput(dataTable, element);\n",
              "        const docLink = document.createElement('div');\n",
              "        docLink.innerHTML = docLinkHtml;\n",
              "        element.appendChild(docLink);\n",
              "      }\n",
              "    </script>\n",
              "  </div>\n",
              "\n",
              "\n",
              "<div id=\"df-f8644a61-7c09-4fd9-81f4-ee8fa37f3398\">\n",
              "  <button class=\"colab-df-quickchart\" onclick=\"quickchart('df-f8644a61-7c09-4fd9-81f4-ee8fa37f3398')\"\n",
              "            title=\"Suggest charts.\"\n",
              "            style=\"display:none;\">\n",
              "\n",
              "<svg xmlns=\"http://www.w3.org/2000/svg\" height=\"24px\"viewBox=\"0 0 24 24\"\n",
              "     width=\"24px\">\n",
              "    <g>\n",
              "        <path d=\"M19 3H5c-1.1 0-2 .9-2 2v14c0 1.1.9 2 2 2h14c1.1 0 2-.9 2-2V5c0-1.1-.9-2-2-2zM9 17H7v-7h2v7zm4 0h-2V7h2v10zm4 0h-2v-4h2v4z\"/>\n",
              "    </g>\n",
              "</svg>\n",
              "  </button>\n",
              "\n",
              "<style>\n",
              "  .colab-df-quickchart {\n",
              "      --bg-color: #E8F0FE;\n",
              "      --fill-color: #1967D2;\n",
              "      --hover-bg-color: #E2EBFA;\n",
              "      --hover-fill-color: #174EA6;\n",
              "      --disabled-fill-color: #AAA;\n",
              "      --disabled-bg-color: #DDD;\n",
              "  }\n",
              "\n",
              "  [theme=dark] .colab-df-quickchart {\n",
              "      --bg-color: #3B4455;\n",
              "      --fill-color: #D2E3FC;\n",
              "      --hover-bg-color: #434B5C;\n",
              "      --hover-fill-color: #FFFFFF;\n",
              "      --disabled-bg-color: #3B4455;\n",
              "      --disabled-fill-color: #666;\n",
              "  }\n",
              "\n",
              "  .colab-df-quickchart {\n",
              "    background-color: var(--bg-color);\n",
              "    border: none;\n",
              "    border-radius: 50%;\n",
              "    cursor: pointer;\n",
              "    display: none;\n",
              "    fill: var(--fill-color);\n",
              "    height: 32px;\n",
              "    padding: 0;\n",
              "    width: 32px;\n",
              "  }\n",
              "\n",
              "  .colab-df-quickchart:hover {\n",
              "    background-color: var(--hover-bg-color);\n",
              "    box-shadow: 0 1px 2px rgba(60, 64, 67, 0.3), 0 1px 3px 1px rgba(60, 64, 67, 0.15);\n",
              "    fill: var(--button-hover-fill-color);\n",
              "  }\n",
              "\n",
              "  .colab-df-quickchart-complete:disabled,\n",
              "  .colab-df-quickchart-complete:disabled:hover {\n",
              "    background-color: var(--disabled-bg-color);\n",
              "    fill: var(--disabled-fill-color);\n",
              "    box-shadow: none;\n",
              "  }\n",
              "\n",
              "  .colab-df-spinner {\n",
              "    border: 2px solid var(--fill-color);\n",
              "    border-color: transparent;\n",
              "    border-bottom-color: var(--fill-color);\n",
              "    animation:\n",
              "      spin 1s steps(1) infinite;\n",
              "  }\n",
              "\n",
              "  @keyframes spin {\n",
              "    0% {\n",
              "      border-color: transparent;\n",
              "      border-bottom-color: var(--fill-color);\n",
              "      border-left-color: var(--fill-color);\n",
              "    }\n",
              "    20% {\n",
              "      border-color: transparent;\n",
              "      border-left-color: var(--fill-color);\n",
              "      border-top-color: var(--fill-color);\n",
              "    }\n",
              "    30% {\n",
              "      border-color: transparent;\n",
              "      border-left-color: var(--fill-color);\n",
              "      border-top-color: var(--fill-color);\n",
              "      border-right-color: var(--fill-color);\n",
              "    }\n",
              "    40% {\n",
              "      border-color: transparent;\n",
              "      border-right-color: var(--fill-color);\n",
              "      border-top-color: var(--fill-color);\n",
              "    }\n",
              "    60% {\n",
              "      border-color: transparent;\n",
              "      border-right-color: var(--fill-color);\n",
              "    }\n",
              "    80% {\n",
              "      border-color: transparent;\n",
              "      border-right-color: var(--fill-color);\n",
              "      border-bottom-color: var(--fill-color);\n",
              "    }\n",
              "    90% {\n",
              "      border-color: transparent;\n",
              "      border-bottom-color: var(--fill-color);\n",
              "    }\n",
              "  }\n",
              "</style>\n",
              "\n",
              "  <script>\n",
              "    async function quickchart(key) {\n",
              "      const quickchartButtonEl =\n",
              "        document.querySelector('#' + key + ' button');\n",
              "      quickchartButtonEl.disabled = true;  // To prevent multiple clicks.\n",
              "      quickchartButtonEl.classList.add('colab-df-spinner');\n",
              "      try {\n",
              "        const charts = await google.colab.kernel.invokeFunction(\n",
              "            'suggestCharts', [key], {});\n",
              "      } catch (error) {\n",
              "        console.error('Error during call to suggestCharts:', error);\n",
              "      }\n",
              "      quickchartButtonEl.classList.remove('colab-df-spinner');\n",
              "      quickchartButtonEl.classList.add('colab-df-quickchart-complete');\n",
              "    }\n",
              "    (() => {\n",
              "      let quickchartButtonEl =\n",
              "        document.querySelector('#df-f8644a61-7c09-4fd9-81f4-ee8fa37f3398 button');\n",
              "      quickchartButtonEl.style.display =\n",
              "        google.colab.kernel.accessAllowed ? 'block' : 'none';\n",
              "    })();\n",
              "  </script>\n",
              "</div>\n",
              "    </div>\n",
              "  </div>\n"
            ]
          },
          "metadata": {},
          "execution_count": 36
        }
      ]
    },
    {
      "cell_type": "code",
      "source": [
        "indexes = list(y_test_df[(y_test_df['str_label'] == 'Upper part') &\\\n",
        "                         (y_test_df['pred_label'] == 'One piece') &\\\n",
        "                         (y_test_df['proba_label'] < 0.5)]['index']\n",
        "               )"
      ],
      "metadata": {
        "id": "YMSWxkUf559_"
      },
      "execution_count": 37,
      "outputs": []
    },
    {
      "cell_type": "code",
      "source": [
        "for index_ in indexes:\n",
        "  plt.figure(figsize=(2, 2))\n",
        "  print(\"Image number {}\".format(index_))\n",
        "  image = np.load(NPY_FILES + 'test_image_{:05d}.npy'.format(index_))\n",
        "  plt.imshow(image, cmap='gray', aspect='auto')\n",
        "  plt.axis('off')\n",
        "  plt.show()\n",
        "  print(\"-\" * 20)"
      ],
      "metadata": {
        "colab": {
          "base_uri": "https://localhost:8080/",
          "height": 1000
        },
        "id": "2GwqnAbC6cbs",
        "outputId": "22e82121-e115-43bd-dafd-8e177e4cdd05"
      },
      "execution_count": 38,
      "outputs": [
        {
          "output_type": "stream",
          "name": "stdout",
          "text": [
            "Image number 3229\n"
          ]
        },
        {
          "output_type": "display_data",
          "data": {
            "text/plain": [
              "<Figure size 200x200 with 1 Axes>"
            ],
            "image/png": "[encoded data removed]"
          },
          "metadata": {}
        },
        {
          "output_type": "stream",
          "name": "stdout",
          "text": [
            "--------------------\n",
            "Image number 4509\n"
          ]
        },
        {
          "output_type": "display_data",
          "data": {
            "text/plain": [
              "<Figure size 200x200 with 1 Axes>"
            ],
            "image/png": "[encoded data removed]"
          },
          "metadata": {}
        },
        {
          "output_type": "stream",
          "name": "stdout",
          "text": [
            "--------------------\n",
            "Image number 5120\n"
          ]
        },
        {
          "output_type": "display_data",
          "data": {
            "text/plain": [
              "<Figure size 200x200 with 1 Axes>"
            ],
            "image/png": "[encoded data removed]"
          },
          "metadata": {}
        },
        {
          "output_type": "stream",
          "name": "stdout",
          "text": [
            "--------------------\n",
            "Image number 5129\n"
          ]
        },
        {
          "output_type": "display_data",
          "data": {
            "text/plain": [
              "<Figure size 200x200 with 1 Axes>"
            ],
            "image/png": "[encoded data removed]"
          },
          "metadata": {}
        },
        {
          "output_type": "stream",
          "name": "stdout",
          "text": [
            "--------------------\n",
            "Image number 5745\n"
          ]
        },
        {
          "output_type": "display_data",
          "data": {
            "text/plain": [
              "<Figure size 200x200 with 1 Axes>"
            ],
            "image/png": "[encoded data removed]"
          },
          "metadata": {}
        },
        {
          "output_type": "stream",
          "name": "stdout",
          "text": [
            "--------------------\n",
            "Image number 6294\n"
          ]
        },
        {
          "output_type": "display_data",
          "data": {
            "text/plain": [
              "<Figure size 200x200 with 1 Axes>"
            ],
            "image/png": "[encoded data removed]"
          },
          "metadata": {}
        },
        {
          "output_type": "stream",
          "name": "stdout",
          "text": [
            "--------------------\n",
            "Image number 6797\n"
          ]
        },
        {
          "output_type": "display_data",
          "data": {
            "text/plain": [
              "<Figure size 200x200 with 1 Axes>"
            ],
            "image/png": "[encoded data removed]"
          },
          "metadata": {}
        },
        {
          "output_type": "stream",
          "name": "stdout",
          "text": [
            "--------------------\n",
            "Image number 6874\n"
          ]
        },
        {
          "output_type": "display_data",
          "data": {
            "text/plain": [
              "<Figure size 200x200 with 1 Axes>"
            ],
            "image/png": "[encoded data removed]"
          },
          "metadata": {}
        },
        {
          "output_type": "stream",
          "name": "stdout",
          "text": [
            "--------------------\n",
            "Image number 7800\n"
          ]
        },
        {
          "output_type": "display_data",
          "data": {
            "text/plain": [
              "<Figure size 200x200 with 1 Axes>"
            ],
            "image/png": "[encoded data removed]"
          },
          "metadata": {}
        },
        {
          "output_type": "stream",
          "name": "stdout",
          "text": [
            "--------------------\n"
          ]
        }
      ]
    },
    {
      "cell_type": "markdown",
      "source": [
        "## ExplainableAI with Shap"
      ],
      "metadata": {
        "id": "2uimPxh4_1N_"
      }
    },
    {
      "cell_type": "markdown",
      "source": [
        "__Define chunk to run exAI with Shap values__"
      ],
      "metadata": {
        "id": "mvJPTiAYidYg"
      }
    },
    {
      "cell_type": "code",
      "source": [
        "# -- Load model\n",
        "best_model = torch.load(MODEL_NAME)\n",
        "if torch.cuda.is_available():\n",
        "  best_model.to('cuda')\n",
        "\n",
        "# -- Define transform functions\n",
        "transform = transforms.Compose([\n",
        "    transforms.ToPILImage(),\n",
        "    transforms.Resize((IMG_SIZE, IMG_SIZE)),\n",
        "    transforms.ToTensor(),\n",
        "    transforms.Normalize((MEAN,), (STD,))\n",
        "])\n",
        "\n",
        "# -- Define predict function\n",
        "def predict(image):\n",
        "    image  = torch.FloatTensor(image)\n",
        "    if torch.cuda.is_available():\n",
        "        image = image.cuda()\n",
        "    output = model(image)\n",
        "    return output\n",
        "\n",
        "# -- 1. Create an explainer with model and image masker\n",
        "# -- 2. Define a masker that is used to mask out partitions of the input image.\n",
        "masker_blur = shap.maskers.Image(\"blur({},{})\".format(IMG_SIZE, IMG_SIZE), (3, IMG_SIZE, IMG_SIZE))\n",
        "\n",
        "# -- Sample with image number 2191 (shirt)\n",
        "explainer  = shap.Explainer(predict, masker_blur)\n",
        "image_list = []\n",
        "for index_ in indexes:\n",
        "    if index_ == 4509:\n",
        "      image = np.load(NPY_FILES + 'test_image_{:05d}.npy'.format(index_))\n",
        "      image = torch.FloatTensor(image)\n",
        "      image = transform(image)\n",
        "      image = image.expand(3, image.size(1), image.size(2))\n",
        "      image = torch.unsqueeze(image, 0)  # Añade la dimensión batch\n",
        "      if torch.cuda.is_available():\n",
        "          image = image.cuda()\n",
        "      image_list.append(image)\n",
        "\n",
        "shap_values = explainer(\n",
        "    image_list[0],\n",
        "    max_evals=1000,\n",
        "    batch_size=1,\n",
        "    outputs=shap.Explanation.argsort.flip[:1],\n",
        ")"
      ],
      "metadata": {
        "colab": {
          "base_uri": "https://localhost:8080/",
          "height": 34,
          "referenced_widgets": [
            "3d460ba74423477bb0f1a8bdb50090c6",
            "9562c39748a94056ac1c6bb1d56200f5",
            "5afcfe97bfa742a88a95b9df2234baed",
            "91c1de6702c84e548605affaab70079d",
            "43e5395f429a4cfa9855fbb951d0733b",
            "b07ba9006b3e4c3c9698da366fb7bb6b",
            "84fa6a5082d84a07bacb2ba26f06c115",
            "a6a44487f93f47679e2f226b59d916c6",
            "ca5cd313228447e89c262c4d8697f136",
            "767c72c9d6e34fdf822e1313efad724c",
            "aa3ab21b430f49d6964ab756b8a99675"
          ]
        },
        "id": "4ZRZAoDPAXKr",
        "outputId": "ef844b40-b111-41af-f9cf-5fbb80965fe9"
      },
      "execution_count": 64,
      "outputs": [
        {
          "output_type": "display_data",
          "data": {
            "text/plain": [
              "  0%|          | 0/998 [00:00<?, ?it/s]"
            ],
            "application/vnd.jupyter.widget-view+json": {
              "version_major": 2,
              "version_minor": 0,
              "model_id": "3d460ba74423477bb0f1a8bdb50090c6"
            }
          },
          "metadata": {}
        },
        {
          "output_type": "stream",
          "name": "stderr",
          "text": [
            "PartitionExplainer explainer: 2it [01:15, 75.54s/it]               \n"
          ]
        }
      ]
    },
    {
      "cell_type": "code",
      "source": [
        "# -- Define inverse transform function (to \"unstandardize data\")\n",
        "inv_transform = [\n",
        "    transforms.Normalize(\n",
        "        mean=(-1 * np.array(MEAN) / np.array(STD)).tolist(),\n",
        "        std=(1 / np.array(STD)).tolist(),\n",
        "    )\n",
        "]\n",
        "shap_values_data = np.moveaxis((shap_values.data * STD + MEAN).cpu().numpy()[0], 0, -1)\n",
        "shap_values_values = [np.moveaxis(val, 0, -1) for val in np.moveaxis(shap_values.values[0], -1, 0)]"
      ],
      "metadata": {
        "id": "jaDtbk8CO7N3"
      },
      "execution_count": 65,
      "outputs": []
    },
    {
      "cell_type": "code",
      "source": [
        "shap.image_plot(\n",
        "    shap_values=shap_values_values,\n",
        "    pixel_values=shap_values_data,\n",
        "    labels=shap_values.output_names\n",
        ")"
      ],
      "metadata": {
        "colab": {
          "base_uri": "https://localhost:8080/",
          "height": 387
        },
        "id": "lvAR4AeQMMa_",
        "outputId": "d13861dd-c3a6-4197-a38d-d0d4fc4b8d99"
      },
      "execution_count": 66,
      "outputs": [
        {
          "output_type": "display_data",
          "data": {
            "text/plain": [
              "<Figure size 600x500 with 3 Axes>"
            ],
            "image/png": "[encoded data removed]"
          },
          "metadata": {}
        }
      ]
    },
    {
      "cell_type": "markdown",
      "source": [
        "## Conclusions for next experiments"
      ],
      "metadata": {
        "id": "9nuA6Okli-lW"
      }
    },
    {
      "cell_type": "markdown",
      "source": [
        "* __SqueezeNet also achieves better results than initial baselines, with slightly worst \"accuracy\" in \"One Piece\" clothes__"
      ],
      "metadata": {
        "id": "BJApbkxejDOw"
      }
    },
    {
      "cell_type": "markdown",
      "source": [
        "|                  | recall | precision | negative predicted value | model |\n",
        "|------------------|-------|-----------|--------------------------| -------- |\n",
        "| Upper part       | 0.91  | 0.96      | 0.94                     | MobileNetV2 baseline (no img aug) - frozen layers |\n",
        "|        | 0.89  | 0.94      | 0.93                     | MobileNetV2 baseline (best img aug) - frozen layers |\n",
        "|        | __0.96__  | __0.99__     | __0.97__                     | MobileNetV2 baseline (no img aug) - non frozen layers |\n",
        "|        | 0.94  | 0.97     | 0.96                     | SqueezeNet1.1 baseline (no img aug) - non frozen layers |\n",
        "\n",
        "|                  | recall | precision | negative predicted value | model |\n",
        "|------------------|-------|-----------|--------------------------| -------- |\n",
        "| Bottom part      | 0.96  | 0.97      | 1.0                      | MobileNetV2 baseline (no img aug) - frozen layers |\n",
        "|     | 0.94  | 0.95      | 0.99                      | MobileNetV2 baseline (best img aug) - frozen layers |\n",
        "|       | __0.99__  | __0.99__      | __1.0__                      | MobileNetV2 baseline (no img aug) - non frozen layers |\n",
        "|       | 0.97  | 0.98      | 1.0                      | SqueezeNet1.1 baseline (no img aug) - non frozen layers |\n",
        "\n",
        "|                  | recall | precision | negative predicted value | model |\n",
        "|------------------|-------|-----------|--------------------------| -------- |\n",
        "| One piece        | 0.88  | 0.73      | 0.99                     | MobileNetV2 baseline (no img aug) - frozen layers |\n",
        "|        | 0.8  | 0.67      | 0.98                     | MobileNetV2 baseline (best img aug) - frozen layers |\n",
        "|        | __0.96__  | __0.86__      | __1.0__                     | MobileNetV2 baseline (no img aug) - non frozen layers |\n",
        "|       | 0.89  | 0.81      | 0.99                      | SqueezeNet1.1 baseline (no img aug) - non frozen layers |\n",
        "\n",
        "|                  | recall | precision | negative predicted value | model |\n",
        "|------------------|-------|-----------|--------------------------| -------- |\n",
        "| Footwear         | 0.99  | 0.99      | 1.0                      | MobileNetV2 baseline (no img aug) - frozen layers |\n",
        "|         | 0.98  | 0.99      | 0.99                      | MobileNetV2 baseline (best img aug) - frozen layers |\n",
        "|         | __1.0__  | __1.0__      | __1.0__                      | MobileNetV2 baseline (no img aug) - non frozen layers |\n",
        "|       | 1.0  | 1.0      | 1.0                      | SqueezeNet1.1 baseline (no img aug) - non frozen layers |\n",
        "\n",
        "|                  | recall | precision | negative predicted value | model |\n",
        "|------------------|-------|-----------|--------------------------| -------- |\n",
        "| Bags             | 0.96  | 0.92      | 1.0                      | MobileNetV2 baseline (no img aug) - frozen layers |\n",
        "|             | 0.92  | 0.89      | 0.99                      | MobileNetV2 baseline (best img aug) - frozen layers |\n",
        "|             | __0.99__  | __0.99__      | __1.0__                      | MobileNetV2 baseline (no img aug) - non frozen layers |\n",
        "|       | 0.98  | 0.94      | 1.0                      | SqueezeNet1.1 baseline (no img aug) - non frozen layers |\n",
        "\n",
        "\n",
        "|                  | number of parameters | model size (MB) | test inference time (seconds) |\n",
        "|------------------|-------|-----------|--------------------------|\n",
        "| MobilenetV2 - baseline | 2230277 | 8.8 MB | 37.6 sec |\n",
        "| MobilenetV2 - baseline - no frozen layers | 2230277 | 8.8 MB | 37.3 sec |\n",
        "| SqueezeNet1.1 baseline (no img aug) - non frozen layers | 855109 | 3.3 MB | 35.7 sec |"
      ],
      "metadata": {
        "id": "xHX23E4OPxvr"
      }
    },
    {
      "cell_type": "code",
      "source": [
        "# Define test-inference function\n",
        "def simple_test(test_data, model):\n",
        "    print('Validating...')\n",
        "    model.eval()\n",
        "    prediction_proba_list = []\n",
        "    label_list = []\n",
        "    prediction_list = []\n",
        "    with torch.no_grad():\n",
        "      for input_data, label in tqdm(test_data):\n",
        "          # Again, switch to GPU if available\n",
        "          if torch.cuda.is_available():\n",
        "              input_data, label = input_data.cuda(), label.cuda()\n",
        "\n",
        "          label_numpy = label.detach().cpu().numpy()\n",
        "          label_list.append(label_numpy)\n",
        "\n",
        "          outputs  = model(input_data)\n",
        "\n",
        "          # Apply softmax activation to get all the outputs between 0 and 1\n",
        "          outputs_sig = F.softmax(outputs.data, dim=1).detach().cpu()\n",
        "          prediction_list.append(maximize_index(outputs_sig.numpy()))\n",
        "      # Get Sensitivity/Precision/NPV\n",
        "      prediction_list = list(itertools.chain(*prediction_list))\n",
        "      label_list      = list(itertools.chain(*label_list))\n",
        "\n",
        "best_model = torch.load(MODEL_NAME)"
      ],
      "metadata": {
        "id": "-DL7TVmDdT-l"
      },
      "execution_count": 67,
      "outputs": []
    },
    {
      "cell_type": "code",
      "source": [
        "%%time\n",
        "# -- Sample inference-test function\n",
        "simple_test(\n",
        "        test_loader, best_model\n",
        ")"
      ],
      "metadata": {
        "colab": {
          "base_uri": "https://localhost:8080/"
        },
        "id": "yorWE1Sp5YOB",
        "outputId": "2f3d6377-95d4-4dc2-ddd5-10062e97f023"
      },
      "execution_count": 68,
      "outputs": [
        {
          "output_type": "stream",
          "name": "stdout",
          "text": [
            "Validating...\n"
          ]
        },
        {
          "output_type": "stream",
          "name": "stderr",
          "text": [
            "\r  0%|          | 0/625 [00:00<?, ?it/s]The default value of the antialias parameter of all the resizing transforms (Resize(), RandomResizedCrop(), etc.) will change from None to True in v0.17, in order to be consistent across the PIL and Tensor backends. To suppress this warning, directly pass antialias=True (recommended, future default), antialias=None (current default, which means False for Tensors and True for PIL), or antialias=False (only works on Tensors - PIL will still use antialiasing). This also applies if you are using the inference transforms from the models weights: update the call to weights.transforms(antialias=True).\n",
            "The default value of the antialias parameter of all the resizing transforms (Resize(), RandomResizedCrop(), etc.) will change from None to True in v0.17, in order to be consistent across the PIL and Tensor backends. To suppress this warning, directly pass antialias=True (recommended, future default), antialias=None (current default, which means False for Tensors and True for PIL), or antialias=False (only works on Tensors - PIL will still use antialiasing). This also applies if you are using the inference transforms from the models weights: update the call to weights.transforms(antialias=True).\n",
            "100%|██████████| 625/625 [00:35<00:00, 17.50it/s]"
          ]
        },
        {
          "output_type": "stream",
          "name": "stdout",
          "text": [
            "CPU times: user 7.31 s, sys: 1.92 s, total: 9.23 s\n",
            "Wall time: 35.7 s\n"
          ]
        },
        {
          "output_type": "stream",
          "name": "stderr",
          "text": [
            "\n"
          ]
        }
      ]
    },
    {
      "cell_type": "code",
      "source": [
        "params = sum([np.prod(p.size()) for p in best_model.parameters()])\n",
        "params"
      ],
      "metadata": {
        "colab": {
          "base_uri": "https://localhost:8080/"
        },
        "id": "Zj-ZnCcKfgxi",
        "outputId": "f7f80cb5-d6a3-4849-c27b-708944891ab2"
      },
      "execution_count": 69,
      "outputs": [
        {
          "output_type": "execute_result",
          "data": {
            "text/plain": [
              "855109"
            ]
          },
          "metadata": {},
          "execution_count": 69
        }
      ]
    },
    {
      "cell_type": "markdown",
      "source": [
        "# Final conclussion: which model should be used?"
      ],
      "metadata": {
        "id": "ICP37tC-VQ0q"
      }
    },
    {
      "cell_type": "markdown",
      "source": [
        "## Based on previous metrics"
      ],
      "metadata": {
        "id": "OPxlx6nfVdG_"
      }
    },
    {
      "cell_type": "markdown",
      "source": [
        "Based on previous metrics: __recall__, __precision__ and __negative predicted value__. If the main goal is to correctly classify all groups at any cost, regardless the model size or its complexity, __MobileNetV2 baseline (no img aug) - non frozen layers__ is the best option.\n",
        "\n",
        "Specifically, this model achieve good results with \"One Piece\" group, increasing its precision to 86 % on test set."
      ],
      "metadata": {
        "id": "YjgcgyGqVnoI"
      }
    },
    {
      "cell_type": "markdown",
      "source": [
        "## Based on probability distribution"
      ],
      "metadata": {
        "id": "qW7X74_oVfcC"
      }
    },
    {
      "cell_type": "markdown",
      "source": [
        "### MobileNetV2 baseline (no img aug) - non frozen layers"
      ],
      "metadata": {
        "id": "KJvrDiATZEHD"
      }
    },
    {
      "cell_type": "code",
      "source": [
        "class CustomMobileNetV2(nn.Module):\n",
        "    \"\"\"\n",
        "    Define MobileNetV2 architecture, which consists of:\n",
        "      - MobileNetV2\n",
        "        - Conv2d\n",
        "        - ...\n",
        "        - nn.Linear(1280, num_classes)\n",
        "    \"\"\"\n",
        "    def __init__(self, num_classes=NUM_LABELS):\n",
        "        super(CustomMobileNetV2, self).__init__()\n",
        "\n",
        "        # -- Load pretrained MobileNetV2\n",
        "        self.mobilenet_v2 = models.mobilenet_v2(pretrained=True)\n",
        "\n",
        "        # -- NEW IN VERSION 02 - Freeze convolutional layers\n",
        "        # for param in self.mobilenet_v2.parameters():\n",
        "        #    param.requires_grad = False\n",
        "\n",
        "        # -- Replace last layer for final FC with num_classes outputs\n",
        "        self.mobilenet_v2.classifier[1] = nn.Linear(1280, num_classes)\n",
        "\n",
        "    def forward(self, x):\n",
        "        return self.mobilenet_v2(x)"
      ],
      "metadata": {
        "id": "KuHmSWT_ZcDR"
      },
      "execution_count": 79,
      "outputs": []
    },
    {
      "cell_type": "code",
      "source": [
        "# -- Use val function for test data\n",
        "best_model = torch.load('/content/02_zalando_image_classification_mobilenet_v2_baseline_non_layers_frozen.pth')\n",
        "test_epoch_loss, test_predictions, test_predictions_proba, test_metric_dict = val(\n",
        "        test_loader, best_model, val_criterion\n",
        ")"
      ],
      "metadata": {
        "colab": {
          "base_uri": "https://localhost:8080/"
        },
        "id": "yDoLckP9ZGEv",
        "outputId": "1afcfb08-fd60-4dc6-d101-2cad96072013"
      },
      "execution_count": 80,
      "outputs": [
        {
          "output_type": "stream",
          "name": "stdout",
          "text": [
            "Validating...\n"
          ]
        },
        {
          "output_type": "stream",
          "name": "stderr",
          "text": [
            "\r  0%|          | 0/625 [00:00<?, ?it/s]The default value of the antialias parameter of all the resizing transforms (Resize(), RandomResizedCrop(), etc.) will change from None to True in v0.17, in order to be consistent across the PIL and Tensor backends. To suppress this warning, directly pass antialias=True (recommended, future default), antialias=None (current default, which means False for Tensors and True for PIL), or antialias=False (only works on Tensors - PIL will still use antialiasing). This also applies if you are using the inference transforms from the models weights: update the call to weights.transforms(antialias=True).\n",
            "The default value of the antialias parameter of all the resizing transforms (Resize(), RandomResizedCrop(), etc.) will change from None to True in v0.17, in order to be consistent across the PIL and Tensor backends. To suppress this warning, directly pass antialias=True (recommended, future default), antialias=None (current default, which means False for Tensors and True for PIL), or antialias=False (only works on Tensors - PIL will still use antialiasing). This also applies if you are using the inference transforms from the models weights: update the call to weights.transforms(antialias=True).\n",
            "100%|██████████| 625/625 [00:42<00:00, 14.79it/s]\n"
          ]
        }
      ]
    },
    {
      "cell_type": "code",
      "source": [
        "probabilities = [float(torch.max(proba)) for proba in test_predictions_proba]\n",
        "\n",
        "y_test_df['pred_label']   = list(map(lambda x: REVERSE_GROUP_MAPPING[x], pred))\n",
        "y_test_df['str_label']    = y_test_df['label'].apply(lambda x: REVERSE_GROUP_MAPPING[x])\n",
        "y_test_df['proba_label']  = probabilities\n",
        "\n",
        "y_test_df"
      ],
      "metadata": {
        "colab": {
          "base_uri": "https://localhost:8080/",
          "height": 424
        },
        "id": "c0FVqZ-BZeoI",
        "outputId": "6eb83920-01d2-418b-c0f0-4112ebc46f6a"
      },
      "execution_count": 81,
      "outputs": [
        {
          "output_type": "execute_result",
          "data": {
            "text/plain": [
              "      index  label   pred_label    str_label  proba_label\n",
              "0         0      3     Footwear     Footwear     0.999972\n",
              "1         1      0   Upper part   Upper part     0.998385\n",
              "2         2      1  Bottom part  Bottom part     0.999728\n",
              "3         3      1  Bottom part  Bottom part     0.999854\n",
              "4         4      0   Upper part   Upper part     0.998422\n",
              "...     ...    ...          ...          ...          ...\n",
              "9995   9995      3     Footwear     Footwear     0.999927\n",
              "9996   9996      1  Bottom part  Bottom part     0.999469\n",
              "9997   9997      4         Bags         Bags     0.999914\n",
              "9998   9998      1  Bottom part  Bottom part     0.999611\n",
              "9999   9999      3         Bags     Footwear     0.996512\n",
              "\n",
              "[10000 rows x 5 columns]"
            ],
            "text/html": [
              "\n",
              "  <div id=\"df-f25daced-fa1d-41d8-bec7-de1a4c39c896\" class=\"colab-df-container\">\n",
              "    <div>\n",
              "<style scoped>\n",
              "    .dataframe tbody tr th:only-of-type {\n",
              "        vertical-align: middle;\n",
              "    }\n",
              "\n",
              "    .dataframe tbody tr th {\n",
              "        vertical-align: top;\n",
              "    }\n",
              "\n",
              "    .dataframe thead th {\n",
              "        text-align: right;\n",
              "    }\n",
              "</style>\n",
              "<table border=\"1\" class=\"dataframe\">\n",
              "  <thead>\n",
              "    <tr style=\"text-align: right;\">\n",
              "      <th></th>\n",
              "      <th>index</th>\n",
              "      <th>label</th>\n",
              "      <th>pred_label</th>\n",
              "      <th>str_label</th>\n",
              "      <th>proba_label</th>\n",
              "    </tr>\n",
              "  </thead>\n",
              "  <tbody>\n",
              "    <tr>\n",
              "      <th>0</th>\n",
              "      <td>0</td>\n",
              "      <td>3</td>\n",
              "      <td>Footwear</td>\n",
              "      <td>Footwear</td>\n",
              "      <td>0.999972</td>\n",
              "    </tr>\n",
              "    <tr>\n",
              "      <th>1</th>\n",
              "      <td>1</td>\n",
              "      <td>0</td>\n",
              "      <td>Upper part</td>\n",
              "      <td>Upper part</td>\n",
              "      <td>0.998385</td>\n",
              "    </tr>\n",
              "    <tr>\n",
              "      <th>2</th>\n",
              "      <td>2</td>\n",
              "      <td>1</td>\n",
              "      <td>Bottom part</td>\n",
              "      <td>Bottom part</td>\n",
              "      <td>0.999728</td>\n",
              "    </tr>\n",
              "    <tr>\n",
              "      <th>3</th>\n",
              "      <td>3</td>\n",
              "      <td>1</td>\n",
              "      <td>Bottom part</td>\n",
              "      <td>Bottom part</td>\n",
              "      <td>0.999854</td>\n",
              "    </tr>\n",
              "    <tr>\n",
              "      <th>4</th>\n",
              "      <td>4</td>\n",
              "      <td>0</td>\n",
              "      <td>Upper part</td>\n",
              "      <td>Upper part</td>\n",
              "      <td>0.998422</td>\n",
              "    </tr>\n",
              "    <tr>\n",
              "      <th>...</th>\n",
              "      <td>...</td>\n",
              "      <td>...</td>\n",
              "      <td>...</td>\n",
              "      <td>...</td>\n",
              "      <td>...</td>\n",
              "    </tr>\n",
              "    <tr>\n",
              "      <th>9995</th>\n",
              "      <td>9995</td>\n",
              "      <td>3</td>\n",
              "      <td>Footwear</td>\n",
              "      <td>Footwear</td>\n",
              "      <td>0.999927</td>\n",
              "    </tr>\n",
              "    <tr>\n",
              "      <th>9996</th>\n",
              "      <td>9996</td>\n",
              "      <td>1</td>\n",
              "      <td>Bottom part</td>\n",
              "      <td>Bottom part</td>\n",
              "      <td>0.999469</td>\n",
              "    </tr>\n",
              "    <tr>\n",
              "      <th>9997</th>\n",
              "      <td>9997</td>\n",
              "      <td>4</td>\n",
              "      <td>Bags</td>\n",
              "      <td>Bags</td>\n",
              "      <td>0.999914</td>\n",
              "    </tr>\n",
              "    <tr>\n",
              "      <th>9998</th>\n",
              "      <td>9998</td>\n",
              "      <td>1</td>\n",
              "      <td>Bottom part</td>\n",
              "      <td>Bottom part</td>\n",
              "      <td>0.999611</td>\n",
              "    </tr>\n",
              "    <tr>\n",
              "      <th>9999</th>\n",
              "      <td>9999</td>\n",
              "      <td>3</td>\n",
              "      <td>Bags</td>\n",
              "      <td>Footwear</td>\n",
              "      <td>0.996512</td>\n",
              "    </tr>\n",
              "  </tbody>\n",
              "</table>\n",
              "<p>10000 rows × 5 columns</p>\n",
              "</div>\n",
              "    <div class=\"colab-df-buttons\">\n",
              "\n",
              "  <div class=\"colab-df-container\">\n",
              "    <button class=\"colab-df-convert\" onclick=\"convertToInteractive('df-f25daced-fa1d-41d8-bec7-de1a4c39c896')\"\n",
              "            title=\"Convert this dataframe to an interactive table.\"\n",
              "            style=\"display:none;\">\n",
              "\n",
              "  <svg xmlns=\"http://www.w3.org/2000/svg\" height=\"24px\" viewBox=\"0 -960 960 960\">\n",
              "    <path d=\"M120-120v-720h720v720H120Zm60-500h600v-160H180v160Zm220 220h160v-160H400v160Zm0 220h160v-160H400v160ZM180-400h160v-160H180v160Zm440 0h160v-160H620v160ZM180-180h160v-160H180v160Zm440 0h160v-160H620v160Z\"/>\n",
              "  </svg>\n",
              "    </button>\n",
              "\n",
              "  <style>\n",
              "    .colab-df-container {\n",
              "      display:flex;\n",
              "      gap: 12px;\n",
              "    }\n",
              "\n",
              "    .colab-df-convert {\n",
              "      background-color: #E8F0FE;\n",
              "      border: none;\n",
              "      border-radius: 50%;\n",
              "      cursor: pointer;\n",
              "      display: none;\n",
              "      fill: #1967D2;\n",
              "      height: 32px;\n",
              "      padding: 0 0 0 0;\n",
              "      width: 32px;\n",
              "    }\n",
              "\n",
              "    .colab-df-convert:hover {\n",
              "      background-color: #E2EBFA;\n",
              "      box-shadow: 0px 1px 2px rgba(60, 64, 67, 0.3), 0px 1px 3px 1px rgba(60, 64, 67, 0.15);\n",
              "      fill: #174EA6;\n",
              "    }\n",
              "\n",
              "    .colab-df-buttons div {\n",
              "      margin-bottom: 4px;\n",
              "    }\n",
              "\n",
              "    [theme=dark] .colab-df-convert {\n",
              "      background-color: #3B4455;\n",
              "      fill: #D2E3FC;\n",
              "    }\n",
              "\n",
              "    [theme=dark] .colab-df-convert:hover {\n",
              "      background-color: #434B5C;\n",
              "      box-shadow: 0px 1px 3px 1px rgba(0, 0, 0, 0.15);\n",
              "      filter: drop-shadow(0px 1px 2px rgba(0, 0, 0, 0.3));\n",
              "      fill: #FFFFFF;\n",
              "    }\n",
              "  </style>\n",
              "\n",
              "    <script>\n",
              "      const buttonEl =\n",
              "        document.querySelector('#df-f25daced-fa1d-41d8-bec7-de1a4c39c896 button.colab-df-convert');\n",
              "      buttonEl.style.display =\n",
              "        google.colab.kernel.accessAllowed ? 'block' : 'none';\n",
              "\n",
              "      async function convertToInteractive(key) {\n",
              "        const element = document.querySelector('#df-f25daced-fa1d-41d8-bec7-de1a4c39c896');\n",
              "        const dataTable =\n",
              "          await google.colab.kernel.invokeFunction('convertToInteractive',\n",
              "                                                    [key], {});\n",
              "        if (!dataTable) return;\n",
              "\n",
              "        const docLinkHtml = 'Like what you see? Visit the ' +\n",
              "          '<a target=\"_blank\" href=https://colab.research.google.com/notebooks/data_table.ipynb>data table notebook</a>'\n",
              "          + ' to learn more about interactive tables.';\n",
              "        element.innerHTML = '';\n",
              "        dataTable['output_type'] = 'display_data';\n",
              "        await google.colab.output.renderOutput(dataTable, element);\n",
              "        const docLink = document.createElement('div');\n",
              "        docLink.innerHTML = docLinkHtml;\n",
              "        element.appendChild(docLink);\n",
              "      }\n",
              "    </script>\n",
              "  </div>\n",
              "\n",
              "\n",
              "<div id=\"df-362544fe-aa74-4159-9c74-02c80c41ccb9\">\n",
              "  <button class=\"colab-df-quickchart\" onclick=\"quickchart('df-362544fe-aa74-4159-9c74-02c80c41ccb9')\"\n",
              "            title=\"Suggest charts.\"\n",
              "            style=\"display:none;\">\n",
              "\n",
              "<svg xmlns=\"http://www.w3.org/2000/svg\" height=\"24px\"viewBox=\"0 0 24 24\"\n",
              "     width=\"24px\">\n",
              "    <g>\n",
              "        <path d=\"M19 3H5c-1.1 0-2 .9-2 2v14c0 1.1.9 2 2 2h14c1.1 0 2-.9 2-2V5c0-1.1-.9-2-2-2zM9 17H7v-7h2v7zm4 0h-2V7h2v10zm4 0h-2v-4h2v4z\"/>\n",
              "    </g>\n",
              "</svg>\n",
              "  </button>\n",
              "\n",
              "<style>\n",
              "  .colab-df-quickchart {\n",
              "      --bg-color: #E8F0FE;\n",
              "      --fill-color: #1967D2;\n",
              "      --hover-bg-color: #E2EBFA;\n",
              "      --hover-fill-color: #174EA6;\n",
              "      --disabled-fill-color: #AAA;\n",
              "      --disabled-bg-color: #DDD;\n",
              "  }\n",
              "\n",
              "  [theme=dark] .colab-df-quickchart {\n",
              "      --bg-color: #3B4455;\n",
              "      --fill-color: #D2E3FC;\n",
              "      --hover-bg-color: #434B5C;\n",
              "      --hover-fill-color: #FFFFFF;\n",
              "      --disabled-bg-color: #3B4455;\n",
              "      --disabled-fill-color: #666;\n",
              "  }\n",
              "\n",
              "  .colab-df-quickchart {\n",
              "    background-color: var(--bg-color);\n",
              "    border: none;\n",
              "    border-radius: 50%;\n",
              "    cursor: pointer;\n",
              "    display: none;\n",
              "    fill: var(--fill-color);\n",
              "    height: 32px;\n",
              "    padding: 0;\n",
              "    width: 32px;\n",
              "  }\n",
              "\n",
              "  .colab-df-quickchart:hover {\n",
              "    background-color: var(--hover-bg-color);\n",
              "    box-shadow: 0 1px 2px rgba(60, 64, 67, 0.3), 0 1px 3px 1px rgba(60, 64, 67, 0.15);\n",
              "    fill: var(--button-hover-fill-color);\n",
              "  }\n",
              "\n",
              "  .colab-df-quickchart-complete:disabled,\n",
              "  .colab-df-quickchart-complete:disabled:hover {\n",
              "    background-color: var(--disabled-bg-color);\n",
              "    fill: var(--disabled-fill-color);\n",
              "    box-shadow: none;\n",
              "  }\n",
              "\n",
              "  .colab-df-spinner {\n",
              "    border: 2px solid var(--fill-color);\n",
              "    border-color: transparent;\n",
              "    border-bottom-color: var(--fill-color);\n",
              "    animation:\n",
              "      spin 1s steps(1) infinite;\n",
              "  }\n",
              "\n",
              "  @keyframes spin {\n",
              "    0% {\n",
              "      border-color: transparent;\n",
              "      border-bottom-color: var(--fill-color);\n",
              "      border-left-color: var(--fill-color);\n",
              "    }\n",
              "    20% {\n",
              "      border-color: transparent;\n",
              "      border-left-color: var(--fill-color);\n",
              "      border-top-color: var(--fill-color);\n",
              "    }\n",
              "    30% {\n",
              "      border-color: transparent;\n",
              "      border-left-color: var(--fill-color);\n",
              "      border-top-color: var(--fill-color);\n",
              "      border-right-color: var(--fill-color);\n",
              "    }\n",
              "    40% {\n",
              "      border-color: transparent;\n",
              "      border-right-color: var(--fill-color);\n",
              "      border-top-color: var(--fill-color);\n",
              "    }\n",
              "    60% {\n",
              "      border-color: transparent;\n",
              "      border-right-color: var(--fill-color);\n",
              "    }\n",
              "    80% {\n",
              "      border-color: transparent;\n",
              "      border-right-color: var(--fill-color);\n",
              "      border-bottom-color: var(--fill-color);\n",
              "    }\n",
              "    90% {\n",
              "      border-color: transparent;\n",
              "      border-bottom-color: var(--fill-color);\n",
              "    }\n",
              "  }\n",
              "</style>\n",
              "\n",
              "  <script>\n",
              "    async function quickchart(key) {\n",
              "      const quickchartButtonEl =\n",
              "        document.querySelector('#' + key + ' button');\n",
              "      quickchartButtonEl.disabled = true;  // To prevent multiple clicks.\n",
              "      quickchartButtonEl.classList.add('colab-df-spinner');\n",
              "      try {\n",
              "        const charts = await google.colab.kernel.invokeFunction(\n",
              "            'suggestCharts', [key], {});\n",
              "      } catch (error) {\n",
              "        console.error('Error during call to suggestCharts:', error);\n",
              "      }\n",
              "      quickchartButtonEl.classList.remove('colab-df-spinner');\n",
              "      quickchartButtonEl.classList.add('colab-df-quickchart-complete');\n",
              "    }\n",
              "    (() => {\n",
              "      let quickchartButtonEl =\n",
              "        document.querySelector('#df-362544fe-aa74-4159-9c74-02c80c41ccb9 button');\n",
              "      quickchartButtonEl.style.display =\n",
              "        google.colab.kernel.accessAllowed ? 'block' : 'none';\n",
              "    })();\n",
              "  </script>\n",
              "</div>\n",
              "    </div>\n",
              "  </div>\n"
            ]
          },
          "metadata": {},
          "execution_count": 81
        }
      ]
    },
    {
      "cell_type": "code",
      "source": [
        "y_test_df_filtered = y_test_df[y_test_df['pred_label'] == y_test_df['str_label']]\n",
        "\n",
        "# -- Create unique distribution plot for each unique label\n",
        "unique_labels = y_test_df_filtered['pred_label'].unique()\n",
        "\n",
        "# -- Setup subplots\n",
        "fig, axes = plt.subplots(nrows=len(unique_labels), figsize=(10, 8))\n",
        "\n",
        "plt.style.use('ggplot')\n",
        "for i, label in enumerate(unique_labels):\n",
        "    # Filtrar el DataFrame por el valor de pred_label actual\n",
        "    subset = y_test_df_filtered[y_test_df_filtered['pred_label'] == label]\n",
        "\n",
        "    # Crear un histograma de la columna proba_label\n",
        "    axes[i].hist(subset['proba_label'], bins=10, alpha=0.5, edgecolor = 'black')\n",
        "    axes[i].set_title(f'Probability distribution for label = {label}')\n",
        "    axes[i].set_xlabel('proba_label')\n",
        "    axes[i].set_ylabel('Frequency')\n",
        "\n",
        "plt.tight_layout()\n",
        "plt.show()"
      ],
      "metadata": {
        "colab": {
          "base_uri": "https://localhost:8080/",
          "height": 807
        },
        "id": "OHJZtLPKZf0m",
        "outputId": "e3783780-c987-466f-df82-cec435a8a308"
      },
      "execution_count": 82,
      "outputs": [
        {
          "output_type": "display_data",
          "data": {
            "text/plain": [
              "<Figure size 1000x800 with 5 Axes>"
            ],
            "image/png": "[encoded data removed]"
          },
          "metadata": {}
        }
      ]
    },
    {
      "cell_type": "markdown",
      "source": [
        "### SqueezeNet1.1 baseline (no img aug) - non frozen layers"
      ],
      "metadata": {
        "id": "s-aTzvQJZAOA"
      }
    },
    {
      "cell_type": "code",
      "source": [
        "# -- Use val function for test data\n",
        "best_model = torch.load(MODEL_NAME)\n",
        "test_epoch_loss, test_predictions, test_predictions_proba, test_metric_dict = val(\n",
        "        test_loader, best_model, val_criterion\n",
        ")"
      ],
      "metadata": {
        "colab": {
          "base_uri": "https://localhost:8080/"
        },
        "id": "lWKWcrthVhlm",
        "outputId": "a85adeee-3e4a-4d5f-ad64-77f485b629c6"
      },
      "execution_count": 84,
      "outputs": [
        {
          "output_type": "stream",
          "name": "stdout",
          "text": [
            "Validating...\n"
          ]
        },
        {
          "output_type": "stream",
          "name": "stderr",
          "text": [
            "\r  0%|          | 0/625 [00:00<?, ?it/s]The default value of the antialias parameter of all the resizing transforms (Resize(), RandomResizedCrop(), etc.) will change from None to True in v0.17, in order to be consistent across the PIL and Tensor backends. To suppress this warning, directly pass antialias=True (recommended, future default), antialias=None (current default, which means False for Tensors and True for PIL), or antialias=False (only works on Tensors - PIL will still use antialiasing). This also applies if you are using the inference transforms from the models weights: update the call to weights.transforms(antialias=True).\n",
            "The default value of the antialias parameter of all the resizing transforms (Resize(), RandomResizedCrop(), etc.) will change from None to True in v0.17, in order to be consistent across the PIL and Tensor backends. To suppress this warning, directly pass antialias=True (recommended, future default), antialias=None (current default, which means False for Tensors and True for PIL), or antialias=False (only works on Tensors - PIL will still use antialiasing). This also applies if you are using the inference transforms from the models weights: update the call to weights.transforms(antialias=True).\n",
            "100%|██████████| 625/625 [00:36<00:00, 17.21it/s]\n"
          ]
        }
      ]
    },
    {
      "cell_type": "code",
      "source": [
        "probabilities = [float(torch.max(proba)) for proba in test_predictions_proba]\n",
        "\n",
        "y_test_df['pred_label']   = list(map(lambda x: REVERSE_GROUP_MAPPING[x], pred))\n",
        "y_test_df['str_label']    = y_test_df['label'].apply(lambda x: REVERSE_GROUP_MAPPING[x])\n",
        "y_test_df['proba_label']  = probabilities\n",
        "\n",
        "y_test_df"
      ],
      "metadata": {
        "colab": {
          "base_uri": "https://localhost:8080/",
          "height": 424
        },
        "id": "AIv6Tw5EX-eD",
        "outputId": "522bcf1f-9249-4299-8271-2830376b3fe3"
      },
      "execution_count": 85,
      "outputs": [
        {
          "output_type": "execute_result",
          "data": {
            "text/plain": [
              "      index  label   pred_label    str_label  proba_label\n",
              "0         0      3     Footwear     Footwear     0.999682\n",
              "1         1      0   Upper part   Upper part     0.994981\n",
              "2         2      1  Bottom part  Bottom part     0.999408\n",
              "3         3      1  Bottom part  Bottom part     0.999265\n",
              "4         4      0   Upper part   Upper part     0.982623\n",
              "...     ...    ...          ...          ...          ...\n",
              "9995   9995      3     Footwear     Footwear     0.997319\n",
              "9996   9996      1  Bottom part  Bottom part     0.977652\n",
              "9997   9997      4         Bags         Bags     0.998507\n",
              "9998   9998      1  Bottom part  Bottom part     0.998555\n",
              "9999   9999      3         Bags     Footwear     0.720241\n",
              "\n",
              "[10000 rows x 5 columns]"
            ],
            "text/html": [
              "\n",
              "  <div id=\"df-192579c3-b2e3-441d-b103-d6d2a13a6407\" class=\"colab-df-container\">\n",
              "    <div>\n",
              "<style scoped>\n",
              "    .dataframe tbody tr th:only-of-type {\n",
              "        vertical-align: middle;\n",
              "    }\n",
              "\n",
              "    .dataframe tbody tr th {\n",
              "        vertical-align: top;\n",
              "    }\n",
              "\n",
              "    .dataframe thead th {\n",
              "        text-align: right;\n",
              "    }\n",
              "</style>\n",
              "<table border=\"1\" class=\"dataframe\">\n",
              "  <thead>\n",
              "    <tr style=\"text-align: right;\">\n",
              "      <th></th>\n",
              "      <th>index</th>\n",
              "      <th>label</th>\n",
              "      <th>pred_label</th>\n",
              "      <th>str_label</th>\n",
              "      <th>proba_label</th>\n",
              "    </tr>\n",
              "  </thead>\n",
              "  <tbody>\n",
              "    <tr>\n",
              "      <th>0</th>\n",
              "      <td>0</td>\n",
              "      <td>3</td>\n",
              "      <td>Footwear</td>\n",
              "      <td>Footwear</td>\n",
              "      <td>0.999682</td>\n",
              "    </tr>\n",
              "    <tr>\n",
              "      <th>1</th>\n",
              "      <td>1</td>\n",
              "      <td>0</td>\n",
              "      <td>Upper part</td>\n",
              "      <td>Upper part</td>\n",
              "      <td>0.994981</td>\n",
              "    </tr>\n",
              "    <tr>\n",
              "      <th>2</th>\n",
              "      <td>2</td>\n",
              "      <td>1</td>\n",
              "      <td>Bottom part</td>\n",
              "      <td>Bottom part</td>\n",
              "      <td>0.999408</td>\n",
              "    </tr>\n",
              "    <tr>\n",
              "      <th>3</th>\n",
              "      <td>3</td>\n",
              "      <td>1</td>\n",
              "      <td>Bottom part</td>\n",
              "      <td>Bottom part</td>\n",
              "      <td>0.999265</td>\n",
              "    </tr>\n",
              "    <tr>\n",
              "      <th>4</th>\n",
              "      <td>4</td>\n",
              "      <td>0</td>\n",
              "      <td>Upper part</td>\n",
              "      <td>Upper part</td>\n",
              "      <td>0.982623</td>\n",
              "    </tr>\n",
              "    <tr>\n",
              "      <th>...</th>\n",
              "      <td>...</td>\n",
              "      <td>...</td>\n",
              "      <td>...</td>\n",
              "      <td>...</td>\n",
              "      <td>...</td>\n",
              "    </tr>\n",
              "    <tr>\n",
              "      <th>9995</th>\n",
              "      <td>9995</td>\n",
              "      <td>3</td>\n",
              "      <td>Footwear</td>\n",
              "      <td>Footwear</td>\n",
              "      <td>0.997319</td>\n",
              "    </tr>\n",
              "    <tr>\n",
              "      <th>9996</th>\n",
              "      <td>9996</td>\n",
              "      <td>1</td>\n",
              "      <td>Bottom part</td>\n",
              "      <td>Bottom part</td>\n",
              "      <td>0.977652</td>\n",
              "    </tr>\n",
              "    <tr>\n",
              "      <th>9997</th>\n",
              "      <td>9997</td>\n",
              "      <td>4</td>\n",
              "      <td>Bags</td>\n",
              "      <td>Bags</td>\n",
              "      <td>0.998507</td>\n",
              "    </tr>\n",
              "    <tr>\n",
              "      <th>9998</th>\n",
              "      <td>9998</td>\n",
              "      <td>1</td>\n",
              "      <td>Bottom part</td>\n",
              "      <td>Bottom part</td>\n",
              "      <td>0.998555</td>\n",
              "    </tr>\n",
              "    <tr>\n",
              "      <th>9999</th>\n",
              "      <td>9999</td>\n",
              "      <td>3</td>\n",
              "      <td>Bags</td>\n",
              "      <td>Footwear</td>\n",
              "      <td>0.720241</td>\n",
              "    </tr>\n",
              "  </tbody>\n",
              "</table>\n",
              "<p>10000 rows × 5 columns</p>\n",
              "</div>\n",
              "    <div class=\"colab-df-buttons\">\n",
              "\n",
              "  <div class=\"colab-df-container\">\n",
              "    <button class=\"colab-df-convert\" onclick=\"convertToInteractive('df-192579c3-b2e3-441d-b103-d6d2a13a6407')\"\n",
              "            title=\"Convert this dataframe to an interactive table.\"\n",
              "            style=\"display:none;\">\n",
              "\n",
              "  <svg xmlns=\"http://www.w3.org/2000/svg\" height=\"24px\" viewBox=\"0 -960 960 960\">\n",
              "    <path d=\"M120-120v-720h720v720H120Zm60-500h600v-160H180v160Zm220 220h160v-160H400v160Zm0 220h160v-160H400v160ZM180-400h160v-160H180v160Zm440 0h160v-160H620v160ZM180-180h160v-160H180v160Zm440 0h160v-160H620v160Z\"/>\n",
              "  </svg>\n",
              "    </button>\n",
              "\n",
              "  <style>\n",
              "    .colab-df-container {\n",
              "      display:flex;\n",
              "      gap: 12px;\n",
              "    }\n",
              "\n",
              "    .colab-df-convert {\n",
              "      background-color: #E8F0FE;\n",
              "      border: none;\n",
              "      border-radius: 50%;\n",
              "      cursor: pointer;\n",
              "      display: none;\n",
              "      fill: #1967D2;\n",
              "      height: 32px;\n",
              "      padding: 0 0 0 0;\n",
              "      width: 32px;\n",
              "    }\n",
              "\n",
              "    .colab-df-convert:hover {\n",
              "      background-color: #E2EBFA;\n",
              "      box-shadow: 0px 1px 2px rgba(60, 64, 67, 0.3), 0px 1px 3px 1px rgba(60, 64, 67, 0.15);\n",
              "      fill: #174EA6;\n",
              "    }\n",
              "\n",
              "    .colab-df-buttons div {\n",
              "      margin-bottom: 4px;\n",
              "    }\n",
              "\n",
              "    [theme=dark] .colab-df-convert {\n",
              "      background-color: #3B4455;\n",
              "      fill: #D2E3FC;\n",
              "    }\n",
              "\n",
              "    [theme=dark] .colab-df-convert:hover {\n",
              "      background-color: #434B5C;\n",
              "      box-shadow: 0px 1px 3px 1px rgba(0, 0, 0, 0.15);\n",
              "      filter: drop-shadow(0px 1px 2px rgba(0, 0, 0, 0.3));\n",
              "      fill: #FFFFFF;\n",
              "    }\n",
              "  </style>\n",
              "\n",
              "    <script>\n",
              "      const buttonEl =\n",
              "        document.querySelector('#df-192579c3-b2e3-441d-b103-d6d2a13a6407 button.colab-df-convert');\n",
              "      buttonEl.style.display =\n",
              "        google.colab.kernel.accessAllowed ? 'block' : 'none';\n",
              "\n",
              "      async function convertToInteractive(key) {\n",
              "        const element = document.querySelector('#df-192579c3-b2e3-441d-b103-d6d2a13a6407');\n",
              "        const dataTable =\n",
              "          await google.colab.kernel.invokeFunction('convertToInteractive',\n",
              "                                                    [key], {});\n",
              "        if (!dataTable) return;\n",
              "\n",
              "        const docLinkHtml = 'Like what you see? Visit the ' +\n",
              "          '<a target=\"_blank\" href=https://colab.research.google.com/notebooks/data_table.ipynb>data table notebook</a>'\n",
              "          + ' to learn more about interactive tables.';\n",
              "        element.innerHTML = '';\n",
              "        dataTable['output_type'] = 'display_data';\n",
              "        await google.colab.output.renderOutput(dataTable, element);\n",
              "        const docLink = document.createElement('div');\n",
              "        docLink.innerHTML = docLinkHtml;\n",
              "        element.appendChild(docLink);\n",
              "      }\n",
              "    </script>\n",
              "  </div>\n",
              "\n",
              "\n",
              "<div id=\"df-ded1493c-d672-499a-87bb-f4c7333d433b\">\n",
              "  <button class=\"colab-df-quickchart\" onclick=\"quickchart('df-ded1493c-d672-499a-87bb-f4c7333d433b')\"\n",
              "            title=\"Suggest charts.\"\n",
              "            style=\"display:none;\">\n",
              "\n",
              "<svg xmlns=\"http://www.w3.org/2000/svg\" height=\"24px\"viewBox=\"0 0 24 24\"\n",
              "     width=\"24px\">\n",
              "    <g>\n",
              "        <path d=\"M19 3H5c-1.1 0-2 .9-2 2v14c0 1.1.9 2 2 2h14c1.1 0 2-.9 2-2V5c0-1.1-.9-2-2-2zM9 17H7v-7h2v7zm4 0h-2V7h2v10zm4 0h-2v-4h2v4z\"/>\n",
              "    </g>\n",
              "</svg>\n",
              "  </button>\n",
              "\n",
              "<style>\n",
              "  .colab-df-quickchart {\n",
              "      --bg-color: #E8F0FE;\n",
              "      --fill-color: #1967D2;\n",
              "      --hover-bg-color: #E2EBFA;\n",
              "      --hover-fill-color: #174EA6;\n",
              "      --disabled-fill-color: #AAA;\n",
              "      --disabled-bg-color: #DDD;\n",
              "  }\n",
              "\n",
              "  [theme=dark] .colab-df-quickchart {\n",
              "      --bg-color: #3B4455;\n",
              "      --fill-color: #D2E3FC;\n",
              "      --hover-bg-color: #434B5C;\n",
              "      --hover-fill-color: #FFFFFF;\n",
              "      --disabled-bg-color: #3B4455;\n",
              "      --disabled-fill-color: #666;\n",
              "  }\n",
              "\n",
              "  .colab-df-quickchart {\n",
              "    background-color: var(--bg-color);\n",
              "    border: none;\n",
              "    border-radius: 50%;\n",
              "    cursor: pointer;\n",
              "    display: none;\n",
              "    fill: var(--fill-color);\n",
              "    height: 32px;\n",
              "    padding: 0;\n",
              "    width: 32px;\n",
              "  }\n",
              "\n",
              "  .colab-df-quickchart:hover {\n",
              "    background-color: var(--hover-bg-color);\n",
              "    box-shadow: 0 1px 2px rgba(60, 64, 67, 0.3), 0 1px 3px 1px rgba(60, 64, 67, 0.15);\n",
              "    fill: var(--button-hover-fill-color);\n",
              "  }\n",
              "\n",
              "  .colab-df-quickchart-complete:disabled,\n",
              "  .colab-df-quickchart-complete:disabled:hover {\n",
              "    background-color: var(--disabled-bg-color);\n",
              "    fill: var(--disabled-fill-color);\n",
              "    box-shadow: none;\n",
              "  }\n",
              "\n",
              "  .colab-df-spinner {\n",
              "    border: 2px solid var(--fill-color);\n",
              "    border-color: transparent;\n",
              "    border-bottom-color: var(--fill-color);\n",
              "    animation:\n",
              "      spin 1s steps(1) infinite;\n",
              "  }\n",
              "\n",
              "  @keyframes spin {\n",
              "    0% {\n",
              "      border-color: transparent;\n",
              "      border-bottom-color: var(--fill-color);\n",
              "      border-left-color: var(--fill-color);\n",
              "    }\n",
              "    20% {\n",
              "      border-color: transparent;\n",
              "      border-left-color: var(--fill-color);\n",
              "      border-top-color: var(--fill-color);\n",
              "    }\n",
              "    30% {\n",
              "      border-color: transparent;\n",
              "      border-left-color: var(--fill-color);\n",
              "      border-top-color: var(--fill-color);\n",
              "      border-right-color: var(--fill-color);\n",
              "    }\n",
              "    40% {\n",
              "      border-color: transparent;\n",
              "      border-right-color: var(--fill-color);\n",
              "      border-top-color: var(--fill-color);\n",
              "    }\n",
              "    60% {\n",
              "      border-color: transparent;\n",
              "      border-right-color: var(--fill-color);\n",
              "    }\n",
              "    80% {\n",
              "      border-color: transparent;\n",
              "      border-right-color: var(--fill-color);\n",
              "      border-bottom-color: var(--fill-color);\n",
              "    }\n",
              "    90% {\n",
              "      border-color: transparent;\n",
              "      border-bottom-color: var(--fill-color);\n",
              "    }\n",
              "  }\n",
              "</style>\n",
              "\n",
              "  <script>\n",
              "    async function quickchart(key) {\n",
              "      const quickchartButtonEl =\n",
              "        document.querySelector('#' + key + ' button');\n",
              "      quickchartButtonEl.disabled = true;  // To prevent multiple clicks.\n",
              "      quickchartButtonEl.classList.add('colab-df-spinner');\n",
              "      try {\n",
              "        const charts = await google.colab.kernel.invokeFunction(\n",
              "            'suggestCharts', [key], {});\n",
              "      } catch (error) {\n",
              "        console.error('Error during call to suggestCharts:', error);\n",
              "      }\n",
              "      quickchartButtonEl.classList.remove('colab-df-spinner');\n",
              "      quickchartButtonEl.classList.add('colab-df-quickchart-complete');\n",
              "    }\n",
              "    (() => {\n",
              "      let quickchartButtonEl =\n",
              "        document.querySelector('#df-ded1493c-d672-499a-87bb-f4c7333d433b button');\n",
              "      quickchartButtonEl.style.display =\n",
              "        google.colab.kernel.accessAllowed ? 'block' : 'none';\n",
              "    })();\n",
              "  </script>\n",
              "</div>\n",
              "    </div>\n",
              "  </div>\n"
            ]
          },
          "metadata": {},
          "execution_count": 85
        }
      ]
    },
    {
      "cell_type": "code",
      "source": [
        "y_test_df_filtered = y_test_df[y_test_df['pred_label'] == y_test_df['str_label']]\n",
        "\n",
        "# -- Create unique distribution plot for each unique label\n",
        "unique_labels = y_test_df_filtered['pred_label'].unique()\n",
        "\n",
        "# -- Setup subplots\n",
        "fig, axes = plt.subplots(nrows=len(unique_labels), figsize=(10, 8))\n",
        "\n",
        "plt.style.use('ggplot')\n",
        "for i, label in enumerate(unique_labels):\n",
        "    # Filtrar el DataFrame por el valor de pred_label actual\n",
        "    subset = y_test_df_filtered[y_test_df_filtered['pred_label'] == label]\n",
        "\n",
        "    # Crear un histograma de la columna proba_label\n",
        "    axes[i].hist(subset['proba_label'], bins=10, alpha=0.5, edgecolor = 'black')\n",
        "    axes[i].set_title(f'Probability distribution for label = {label}')\n",
        "    axes[i].set_xlabel('proba_label')\n",
        "    axes[i].set_ylabel('Frequency')\n",
        "\n",
        "plt.tight_layout()\n",
        "plt.show()"
      ],
      "metadata": {
        "colab": {
          "base_uri": "https://localhost:8080/",
          "height": 807
        },
        "id": "CL1XRDrhYGGK",
        "outputId": "37a69177-ad3c-4e10-9709-601366a0c02e"
      },
      "execution_count": 77,
      "outputs": [
        {
          "output_type": "display_data",
          "data": {
            "text/plain": [
              "<Figure size 1000x800 with 5 Axes>"
            ],
            "image/png": "[encoded data removed]"
          },
          "metadata": {}
        }
      ]
    },
    {
      "cell_type": "markdown",
      "source": [
        "When comparing two models, and one model consistently has a higher probability of correct predictions (approaching 1) compared to the other, it's generally advisable to use the model with the higher probability of correct predictions. A higher probability of correct predictions indicates better performance and greater accuracy in its predictions."
      ],
      "metadata": {
        "id": "OmD07KI-fMDR"
      }
    },
    {
      "cell_type": "markdown",
      "source": [
        "## Based on another aspects (e.g: energy consumption)"
      ],
      "metadata": {
        "id": "yqUG4MdMVh_m"
      }
    },
    {
      "cell_type": "markdown",
      "source": [
        "__Library: codecarbon__"
      ],
      "metadata": {
        "id": "mtMSPAGecNJd"
      }
    },
    {
      "cell_type": "markdown",
      "source": [
        "### MobileNetV2 baseline (no img aug) - non frozen layers"
      ],
      "metadata": {
        "id": "CuICOGpocnv9"
      }
    },
    {
      "cell_type": "code",
      "source": [
        "config = {\n",
        "    \"save_to_file\": True,\n",
        "    \"log_level\": \"DEBUG\",\n",
        "    \"tracking_mode\": \"process\",\n",
        "    \"output_dir\": \".\",\n",
        "}\n",
        "\n",
        "\n",
        "tracker = EmissionsTracker(**config)\n",
        "tracker.start()\n",
        "\n",
        "# -- Use val function for test data\n",
        "best_model = torch.load('/content/02_zalando_image_classification_mobilenet_v2_baseline_non_layers_frozen.pth')\n",
        "simple_test(\n",
        "        test_loader, best_model\n",
        ")\n",
        "emissions = tracker.stop()\n",
        "emissions_df = pd.read_csv(\"emissions.csv\")\n",
        "emissions_df"
      ],
      "metadata": {
        "colab": {
          "base_uri": "https://localhost:8080/",
          "height": 356
        },
        "id": "o6kwsFfXcEiT",
        "outputId": "98b1089e-d34a-430f-8fa9-0bfb922de9f6"
      },
      "execution_count": 90,
      "outputs": [
        {
          "output_type": "stream",
          "name": "stderr",
          "text": [
            "[codecarbon INFO @ 17:20:00] Energy consumed for RAM : 0.000045 kWh. RAM Power : 1.5123095512390137 W\n",
            "[codecarbon DEBUG @ 17:20:00] RAM : 1.51 W during 0.13 s [measurement time: 0.0070]\n",
            "[codecarbon INFO @ 17:20:00] Energy consumed for all GPUs : 0.000561 kWh. Total GPU Power : 40.7152164165875 W\n",
            "[codecarbon DEBUG @ 17:20:00] GPU : 40.72 W during 0.14 s [measurement time: 0.0047]\n",
            "[codecarbon INFO @ 17:20:00] Energy consumed for all CPUs : 0.000710 kWh. Total CPU Power : 42.5 W\n",
            "[codecarbon DEBUG @ 17:20:00] CPU : 42.50 W during 0.15 s [measurement time: 0.0027]\n",
            "[codecarbon INFO @ 17:20:00] 0.001316 kWh of electricity used since the beginning.\n",
            "[codecarbon DEBUG @ 17:20:00] last_duration=0.12943458557128906\n",
            "------------------------\n",
            "[codecarbon DEBUG @ 17:20:00] EmissionsData(timestamp='2023-10-29T17:20:00', project_name='codecarbon', run_id='baa8caf2-669a-48ff-9e93-bce1bfe52d84', duration=60.21448278427124, emissions=0.00037560450785128623, emissions_rate=6.237776868348336e-06, cpu_power=42.5, gpu_power=40.7152164165875, ram_power=1.5123095512390137, cpu_energy=0.0007101643284161887, gpu_energy=0.000560619892939998, ram_energy=4.48010320442368e-05, energy_consumed=0.0013155852534004234, country_name='United States', country_iso_code='USA', region='south carolina', cloud_provider='', cloud_region='', os='Linux-5.15.120+-x86_64-with-glibc2.35', python_version='3.10.12', codecarbon_version='2.3.1', cpu_count=2, cpu_model='Intel(R) Xeon(R) CPU @ 2.30GHz', gpu_count=1, gpu_model='1 x Tesla T4', longitude=-79.9746, latitude=32.8608, ram_total_size=12.6783447265625, tracking_mode='process', on_cloud='N', pue=1.0)\n"
          ]
        },
        {
          "output_type": "execute_result",
          "data": {
            "text/plain": [
              "             timestamp project_name                                run_id  \\\n",
              "0  2023-10-29T17:20:00   codecarbon  baa8caf2-669a-48ff-9e93-bce1bfe52d84   \n",
              "\n",
              "    duration  emissions  emissions_rate  cpu_power  gpu_power  ram_power  \\\n",
              "0  60.214483   0.000376        0.000006       42.5  40.715216    1.51231   \n",
              "\n",
              "   cpu_energy  ...  cpu_count                       cpu_model  gpu_count  \\\n",
              "0     0.00071  ...          2  Intel(R) Xeon(R) CPU @ 2.30GHz          1   \n",
              "\n",
              "      gpu_model longitude latitude  ram_total_size  tracking_mode on_cloud  \\\n",
              "0  1 x Tesla T4  -79.9746  32.8608       12.678345        process        N   \n",
              "\n",
              "   pue  \n",
              "0  1.0  \n",
              "\n",
              "[1 rows x 31 columns]"
            ],
            "text/html": [
              "\n",
              "  <div id=\"df-f8e14bb4-d026-49b9-9138-16e9b3b10c37\" class=\"colab-df-container\">\n",
              "    <div>\n",
              "<style scoped>\n",
              "    .dataframe tbody tr th:only-of-type {\n",
              "        vertical-align: middle;\n",
              "    }\n",
              "\n",
              "    .dataframe tbody tr th {\n",
              "        vertical-align: top;\n",
              "    }\n",
              "\n",
              "    .dataframe thead th {\n",
              "        text-align: right;\n",
              "    }\n",
              "</style>\n",
              "<table border=\"1\" class=\"dataframe\">\n",
              "  <thead>\n",
              "    <tr style=\"text-align: right;\">\n",
              "      <th></th>\n",
              "      <th>timestamp</th>\n",
              "      <th>project_name</th>\n",
              "      <th>run_id</th>\n",
              "      <th>duration</th>\n",
              "      <th>emissions</th>\n",
              "      <th>emissions_rate</th>\n",
              "      <th>cpu_power</th>\n",
              "      <th>gpu_power</th>\n",
              "      <th>ram_power</th>\n",
              "      <th>cpu_energy</th>\n",
              "      <th>...</th>\n",
              "      <th>cpu_count</th>\n",
              "      <th>cpu_model</th>\n",
              "      <th>gpu_count</th>\n",
              "      <th>gpu_model</th>\n",
              "      <th>longitude</th>\n",
              "      <th>latitude</th>\n",
              "      <th>ram_total_size</th>\n",
              "      <th>tracking_mode</th>\n",
              "      <th>on_cloud</th>\n",
              "      <th>pue</th>\n",
              "    </tr>\n",
              "  </thead>\n",
              "  <tbody>\n",
              "    <tr>\n",
              "      <th>0</th>\n",
              "      <td>2023-10-29T17:20:00</td>\n",
              "      <td>codecarbon</td>\n",
              "      <td>baa8caf2-669a-48ff-9e93-bce1bfe52d84</td>\n",
              "      <td>60.214483</td>\n",
              "      <td>0.000376</td>\n",
              "      <td>0.000006</td>\n",
              "      <td>42.5</td>\n",
              "      <td>40.715216</td>\n",
              "      <td>1.51231</td>\n",
              "      <td>0.00071</td>\n",
              "      <td>...</td>\n",
              "      <td>2</td>\n",
              "      <td>Intel(R) Xeon(R) CPU @ 2.30GHz</td>\n",
              "      <td>1</td>\n",
              "      <td>1 x Tesla T4</td>\n",
              "      <td>-79.9746</td>\n",
              "      <td>32.8608</td>\n",
              "      <td>12.678345</td>\n",
              "      <td>process</td>\n",
              "      <td>N</td>\n",
              "      <td>1.0</td>\n",
              "    </tr>\n",
              "  </tbody>\n",
              "</table>\n",
              "<p>1 rows × 31 columns</p>\n",
              "</div>\n",
              "    <div class=\"colab-df-buttons\">\n",
              "\n",
              "  <div class=\"colab-df-container\">\n",
              "    <button class=\"colab-df-convert\" onclick=\"convertToInteractive('df-f8e14bb4-d026-49b9-9138-16e9b3b10c37')\"\n",
              "            title=\"Convert this dataframe to an interactive table.\"\n",
              "            style=\"display:none;\">\n",
              "\n",
              "  <svg xmlns=\"http://www.w3.org/2000/svg\" height=\"24px\" viewBox=\"0 -960 960 960\">\n",
              "    <path d=\"M120-120v-720h720v720H120Zm60-500h600v-160H180v160Zm220 220h160v-160H400v160Zm0 220h160v-160H400v160ZM180-400h160v-160H180v160Zm440 0h160v-160H620v160ZM180-180h160v-160H180v160Zm440 0h160v-160H620v160Z\"/>\n",
              "  </svg>\n",
              "    </button>\n",
              "\n",
              "  <style>\n",
              "    .colab-df-container {\n",
              "      display:flex;\n",
              "      gap: 12px;\n",
              "    }\n",
              "\n",
              "    .colab-df-convert {\n",
              "      background-color: #E8F0FE;\n",
              "      border: none;\n",
              "      border-radius: 50%;\n",
              "      cursor: pointer;\n",
              "      display: none;\n",
              "      fill: #1967D2;\n",
              "      height: 32px;\n",
              "      padding: 0 0 0 0;\n",
              "      width: 32px;\n",
              "    }\n",
              "\n",
              "    .colab-df-convert:hover {\n",
              "      background-color: #E2EBFA;\n",
              "      box-shadow: 0px 1px 2px rgba(60, 64, 67, 0.3), 0px 1px 3px 1px rgba(60, 64, 67, 0.15);\n",
              "      fill: #174EA6;\n",
              "    }\n",
              "\n",
              "    .colab-df-buttons div {\n",
              "      margin-bottom: 4px;\n",
              "    }\n",
              "\n",
              "    [theme=dark] .colab-df-convert {\n",
              "      background-color: #3B4455;\n",
              "      fill: #D2E3FC;\n",
              "    }\n",
              "\n",
              "    [theme=dark] .colab-df-convert:hover {\n",
              "      background-color: #434B5C;\n",
              "      box-shadow: 0px 1px 3px 1px rgba(0, 0, 0, 0.15);\n",
              "      filter: drop-shadow(0px 1px 2px rgba(0, 0, 0, 0.3));\n",
              "      fill: #FFFFFF;\n",
              "    }\n",
              "  </style>\n",
              "\n",
              "    <script>\n",
              "      const buttonEl =\n",
              "        document.querySelector('#df-f8e14bb4-d026-49b9-9138-16e9b3b10c37 button.colab-df-convert');\n",
              "      buttonEl.style.display =\n",
              "        google.colab.kernel.accessAllowed ? 'block' : 'none';\n",
              "\n",
              "      async function convertToInteractive(key) {\n",
              "        const element = document.querySelector('#df-f8e14bb4-d026-49b9-9138-16e9b3b10c37');\n",
              "        const dataTable =\n",
              "          await google.colab.kernel.invokeFunction('convertToInteractive',\n",
              "                                                    [key], {});\n",
              "        if (!dataTable) return;\n",
              "\n",
              "        const docLinkHtml = 'Like what you see? Visit the ' +\n",
              "          '<a target=\"_blank\" href=https://colab.research.google.com/notebooks/data_table.ipynb>data table notebook</a>'\n",
              "          + ' to learn more about interactive tables.';\n",
              "        element.innerHTML = '';\n",
              "        dataTable['output_type'] = 'display_data';\n",
              "        await google.colab.output.renderOutput(dataTable, element);\n",
              "        const docLink = document.createElement('div');\n",
              "        docLink.innerHTML = docLinkHtml;\n",
              "        element.appendChild(docLink);\n",
              "      }\n",
              "    </script>\n",
              "  </div>\n",
              "\n",
              "    </div>\n",
              "  </div>\n"
            ]
          },
          "metadata": {},
          "execution_count": 90
        }
      ]
    },
    {
      "cell_type": "code",
      "source": [
        "emissions_df.to_dict()"
      ],
      "metadata": {
        "colab": {
          "base_uri": "https://localhost:8080/"
        },
        "id": "h-mJOsQNcxnS",
        "outputId": "29619054-d607-493a-d2b4-a777ab88fa00"
      },
      "execution_count": 91,
      "outputs": [
        {
          "output_type": "execute_result",
          "data": {
            "text/plain": [
              "{'timestamp': {0: '2023-10-29T17:20:00'},\n",
              " 'project_name': {0: 'codecarbon'},\n",
              " 'run_id': {0: 'baa8caf2-669a-48ff-9e93-bce1bfe52d84'},\n",
              " 'duration': {0: 60.21448278427124},\n",
              " 'emissions': {0: 0.0003756045078512},\n",
              " 'emissions_rate': {0: 6.237776868348336e-06},\n",
              " 'cpu_power': {0: 42.5},\n",
              " 'gpu_power': {0: 40.7152164165875},\n",
              " 'ram_power': {0: 1.5123095512390137},\n",
              " 'cpu_energy': {0: 0.0007101643284161},\n",
              " 'gpu_energy': {0: 0.0005606198929399},\n",
              " 'ram_energy': {0: 4.48010320442368e-05},\n",
              " 'energy_consumed': {0: 0.0013155852534004},\n",
              " 'country_name': {0: 'United States'},\n",
              " 'country_iso_code': {0: 'USA'},\n",
              " 'region': {0: 'south carolina'},\n",
              " 'cloud_provider': {0: nan},\n",
              " 'cloud_region': {0: nan},\n",
              " 'os': {0: 'Linux-5.15.120+-x86_64-with-glibc2.35'},\n",
              " 'python_version': {0: '3.10.12'},\n",
              " 'codecarbon_version': {0: '2.3.1'},\n",
              " 'cpu_count': {0: 2},\n",
              " 'cpu_model': {0: 'Intel(R) Xeon(R) CPU @ 2.30GHz'},\n",
              " 'gpu_count': {0: 1},\n",
              " 'gpu_model': {0: '1 x Tesla T4'},\n",
              " 'longitude': {0: -79.9746},\n",
              " 'latitude': {0: 32.8608},\n",
              " 'ram_total_size': {0: 12.6783447265625},\n",
              " 'tracking_mode': {0: 'process'},\n",
              " 'on_cloud': {0: 'N'},\n",
              " 'pue': {0: 1.0}}"
            ]
          },
          "metadata": {},
          "execution_count": 91
        }
      ]
    },
    {
      "cell_type": "markdown",
      "source": [
        "### SqueezeNet1.1 baseline (no img aug) - non frozen layers"
      ],
      "metadata": {
        "id": "IUxkFQu7c-L4"
      }
    },
    {
      "cell_type": "code",
      "source": [
        "config = {\n",
        "    \"save_to_file\": True,\n",
        "    \"log_level\": \"DEBUG\",\n",
        "    \"tracking_mode\": \"process\",\n",
        "    \"output_dir\": \".\",\n",
        "}\n",
        "\n",
        "\n",
        "tracker = EmissionsTracker(**config)\n",
        "tracker.start()\n",
        "\n",
        "# -- Use val function for test data\n",
        "best_model = torch.load(MODEL_NAME)\n",
        "simple_test(\n",
        "        test_loader, best_model\n",
        ")\n",
        "emissions = tracker.stop()\n",
        "emissions_df = pd.read_csv(\"emissions.csv\")\n",
        "emissions_df"
      ],
      "metadata": {
        "colab": {
          "base_uri": "https://localhost:8080/",
          "height": 1000
        },
        "id": "S7g6VliMc5q3",
        "outputId": "fee8627b-1ad9-4fd2-f7f8-e959e0c8e4e6"
      },
      "execution_count": 95,
      "outputs": [
        {
          "output_type": "stream",
          "name": "stderr",
          "text": [
            "[codecarbon INFO @ 17:23:15] [setup] RAM Tracking...\n",
            "[codecarbon INFO @ 17:23:15] [setup] GPU Tracking...\n",
            "[codecarbon INFO @ 17:23:15] Tracking Nvidia GPU via pynvml\n",
            "[codecarbon DEBUG @ 17:23:15] GPU available. Starting setup\n",
            "[codecarbon INFO @ 17:23:15] [setup] CPU Tracking...\n",
            "[codecarbon DEBUG @ 17:23:16] Not using PowerGadget, an exception occurred while instantiating IntelPowerGadget : Platform not supported by Intel Power Gadget\n",
            "[codecarbon DEBUG @ 17:23:16] Not using the RAPL interface, an exception occurred while instantiating IntelRAPL : Intel RAPL files not found at /sys/class/powercap/intel-rapl on linux\n",
            "[codecarbon WARNING @ 17:23:16] No CPU tracking mode found. Falling back on CPU constant mode.\n",
            "[codecarbon WARNING @ 17:23:17] We saw that you have a Intel(R) Xeon(R) CPU @ 2.30GHz but we don't know it. Please contact us.\n",
            "[codecarbon INFO @ 17:23:17] CPU Model on constant consumption mode: Intel(R) Xeon(R) CPU @ 2.30GHz\n",
            "[codecarbon INFO @ 17:23:17] >>> Tracker's metadata:\n",
            "[codecarbon INFO @ 17:23:17]   Platform system: Linux-5.15.120+-x86_64-with-glibc2.35\n",
            "[codecarbon INFO @ 17:23:17]   Python version: 3.10.12\n",
            "[codecarbon INFO @ 17:23:17]   CodeCarbon version: 2.3.1\n",
            "[codecarbon INFO @ 17:23:17]   Available RAM : 12.678 GB\n",
            "[codecarbon INFO @ 17:23:17]   CPU count: 2\n",
            "[codecarbon INFO @ 17:23:17]   CPU model: Intel(R) Xeon(R) CPU @ 2.30GHz\n",
            "[codecarbon INFO @ 17:23:17]   GPU count: 1\n",
            "[codecarbon INFO @ 17:23:17]   GPU model: 1 x Tesla T4\n",
            "[codecarbon DEBUG @ 17:23:17] Not running on AWS\n",
            "[codecarbon DEBUG @ 17:23:17] Not running on Azure\n",
            "[codecarbon DEBUG @ 17:23:17] Not running on GCP\n"
          ]
        },
        {
          "output_type": "stream",
          "name": "stdout",
          "text": [
            "Validating...\n"
          ]
        },
        {
          "output_type": "stream",
          "name": "stderr",
          "text": [
            "\r  0%|          | 0/625 [00:00<?, ?it/s]The default value of the antialias parameter of all the resizing transforms (Resize(), RandomResizedCrop(), etc.) will change from None to True in v0.17, in order to be consistent across the PIL and Tensor backends. To suppress this warning, directly pass antialias=True (recommended, future default), antialias=None (current default, which means False for Tensors and True for PIL), or antialias=False (only works on Tensors - PIL will still use antialiasing). This also applies if you are using the inference transforms from the models weights: update the call to weights.transforms(antialias=True).\n",
            "The default value of the antialias parameter of all the resizing transforms (Resize(), RandomResizedCrop(), etc.) will change from None to True in v0.17, in order to be consistent across the PIL and Tensor backends. To suppress this warning, directly pass antialias=True (recommended, future default), antialias=None (current default, which means False for Tensors and True for PIL), or antialias=False (only works on Tensors - PIL will still use antialiasing). This also applies if you are using the inference transforms from the models weights: update the call to weights.transforms(antialias=True).\n",
            " 46%|████▌     | 288/625 [00:14<00:14, 23.63it/s][codecarbon INFO @ 17:23:32] Energy consumed for RAM : 0.000016 kWh. RAM Power : 3.860790252685547 W\n",
            "[codecarbon DEBUG @ 17:23:32] RAM : 3.86 W during 15.01 s [measurement time: 0.0047]\n",
            "[codecarbon INFO @ 17:23:32] Energy consumed for all GPUs : 0.000139 kWh. Total GPU Power : 33.43715101108742 W\n",
            "[codecarbon DEBUG @ 17:23:32] GPU : 33.44 W during 15.02 s [measurement time: 0.0051]\n",
            "[codecarbon INFO @ 17:23:32] Energy consumed for all CPUs : 0.000177 kWh. Total CPU Power : 42.5 W\n",
            "[codecarbon DEBUG @ 17:23:32] CPU : 42.50 W during 15.03 s [measurement time: 0.0037]\n",
            "[codecarbon INFO @ 17:23:32] 0.000333 kWh of electricity used since the beginning.\n",
            "[codecarbon DEBUG @ 17:23:32] last_duration=15.008387327194214\n",
            "------------------------\n",
            " 95%|█████████▍| 592/625 [00:29<00:01, 23.30it/s][codecarbon INFO @ 17:23:47] Energy consumed for RAM : 0.000032 kWh. RAM Power : 3.8667984008789062 W\n",
            "[codecarbon DEBUG @ 17:23:47] RAM : 3.86 W during 14.97 s [measurement time: 0.0147]\n",
            "[codecarbon INFO @ 17:23:47] Energy consumed for all GPUs : 0.000282 kWh. Total GPU Power : 34.323174489714 W\n",
            "[codecarbon DEBUG @ 17:23:47] GPU : 34.32 W during 14.99 s [measurement time: 0.0083]\n",
            "[codecarbon INFO @ 17:23:47] Energy consumed for all CPUs : 0.000355 kWh. Total CPU Power : 42.5 W\n",
            "[codecarbon DEBUG @ 17:23:47] CPU : 42.50 W during 15.01 s [measurement time: 0.0019]\n",
            "[codecarbon INFO @ 17:23:47] 0.000669 kWh of electricity used since the beginning.\n",
            "[codecarbon DEBUG @ 17:23:47] last_duration=14.97471833229065\n",
            "------------------------\n",
            "100%|██████████| 625/625 [00:31<00:00, 19.84it/s]\n",
            "[codecarbon INFO @ 17:23:49] Energy consumed for RAM : 0.000033 kWh. RAM Power : 1.5123767852783203 W\n",
            "[codecarbon DEBUG @ 17:23:49] RAM : 1.51 W during 1.50 s [measurement time: 0.0023]\n",
            "[codecarbon INFO @ 17:23:49] Energy consumed for all GPUs : 0.000297 kWh. Total GPU Power : 34.23120859128275 W\n",
            "[codecarbon DEBUG @ 17:23:49] GPU : 34.23 W during 1.51 s [measurement time: 0.0037]\n",
            "[codecarbon INFO @ 17:23:49] Energy consumed for all CPUs : 0.000372 kWh. Total CPU Power : 42.5 W\n",
            "[codecarbon DEBUG @ 17:23:49] CPU : 42.50 W during 1.51 s [measurement time: 0.0028]\n",
            "[codecarbon INFO @ 17:23:49] 0.000702 kWh of electricity used since the beginning.\n",
            "[codecarbon DEBUG @ 17:23:49] last_duration=1.503549337387085\n",
            "------------------------\n",
            "[codecarbon DEBUG @ 17:23:49] EmissionsData(timestamp='2023-10-29T17:23:49', project_name='codecarbon', run_id='1f543201-1680-4f31-a10d-dbd80708b25e', duration=31.57275080680847, emissions=0.0002004275251804064, emissions_rate=6.348117286542717e-06, cpu_power=42.5, gpu_power=34.23120859128275, ram_power=1.5123767852783203, cpu_energy=0.00037241299483511183, gpu_energy=0.0002967888485420067, ram_energy=3.281181990746556e-05, energy_consumed=0.000702013663284584, country_name='United States', country_iso_code='USA', region='south carolina', cloud_provider='', cloud_region='', os='Linux-5.15.120+-x86_64-with-glibc2.35', python_version='3.10.12', codecarbon_version='2.3.1', cpu_count=2, cpu_model='Intel(R) Xeon(R) CPU @ 2.30GHz', gpu_count=1, gpu_model='1 x Tesla T4', longitude=-79.9746, latitude=32.8608, ram_total_size=12.6783447265625, tracking_mode='process', on_cloud='N', pue=1.0)\n"
          ]
        },
        {
          "output_type": "execute_result",
          "data": {
            "text/plain": [
              "             timestamp project_name                                run_id  \\\n",
              "0  2023-10-29T17:23:49   codecarbon  1f543201-1680-4f31-a10d-dbd80708b25e   \n",
              "\n",
              "    duration  emissions  emissions_rate  cpu_power  gpu_power  ram_power  \\\n",
              "0  31.572751     0.0002        0.000006       42.5  34.231209   1.512377   \n",
              "\n",
              "   cpu_energy  ...  cpu_count                       cpu_model  gpu_count  \\\n",
              "0    0.000372  ...          2  Intel(R) Xeon(R) CPU @ 2.30GHz          1   \n",
              "\n",
              "      gpu_model longitude latitude  ram_total_size  tracking_mode on_cloud  \\\n",
              "0  1 x Tesla T4  -79.9746  32.8608       12.678345        process        N   \n",
              "\n",
              "   pue  \n",
              "0  1.0  \n",
              "\n",
              "[1 rows x 31 columns]"
            ],
            "text/html": [
              "\n",
              "  <div id=\"df-a0f7733c-22bb-489f-83ab-52ca1d88d877\" class=\"colab-df-container\">\n",
              "    <div>\n",
              "<style scoped>\n",
              "    .dataframe tbody tr th:only-of-type {\n",
              "        vertical-align: middle;\n",
              "    }\n",
              "\n",
              "    .dataframe tbody tr th {\n",
              "        vertical-align: top;\n",
              "    }\n",
              "\n",
              "    .dataframe thead th {\n",
              "        text-align: right;\n",
              "    }\n",
              "</style>\n",
              "<table border=\"1\" class=\"dataframe\">\n",
              "  <thead>\n",
              "    <tr style=\"text-align: right;\">\n",
              "      <th></th>\n",
              "      <th>timestamp</th>\n",
              "      <th>project_name</th>\n",
              "      <th>run_id</th>\n",
              "      <th>duration</th>\n",
              "      <th>emissions</th>\n",
              "      <th>emissions_rate</th>\n",
              "      <th>cpu_power</th>\n",
              "      <th>gpu_power</th>\n",
              "      <th>ram_power</th>\n",
              "      <th>cpu_energy</th>\n",
              "      <th>...</th>\n",
              "      <th>cpu_count</th>\n",
              "      <th>cpu_model</th>\n",
              "      <th>gpu_count</th>\n",
              "      <th>gpu_model</th>\n",
              "      <th>longitude</th>\n",
              "      <th>latitude</th>\n",
              "      <th>ram_total_size</th>\n",
              "      <th>tracking_mode</th>\n",
              "      <th>on_cloud</th>\n",
              "      <th>pue</th>\n",
              "    </tr>\n",
              "  </thead>\n",
              "  <tbody>\n",
              "    <tr>\n",
              "      <th>0</th>\n",
              "      <td>2023-10-29T17:23:49</td>\n",
              "      <td>codecarbon</td>\n",
              "      <td>1f543201-1680-4f31-a10d-dbd80708b25e</td>\n",
              "      <td>31.572751</td>\n",
              "      <td>0.0002</td>\n",
              "      <td>0.000006</td>\n",
              "      <td>42.5</td>\n",
              "      <td>34.231209</td>\n",
              "      <td>1.512377</td>\n",
              "      <td>0.000372</td>\n",
              "      <td>...</td>\n",
              "      <td>2</td>\n",
              "      <td>Intel(R) Xeon(R) CPU @ 2.30GHz</td>\n",
              "      <td>1</td>\n",
              "      <td>1 x Tesla T4</td>\n",
              "      <td>-79.9746</td>\n",
              "      <td>32.8608</td>\n",
              "      <td>12.678345</td>\n",
              "      <td>process</td>\n",
              "      <td>N</td>\n",
              "      <td>1.0</td>\n",
              "    </tr>\n",
              "  </tbody>\n",
              "</table>\n",
              "<p>1 rows × 31 columns</p>\n",
              "</div>\n",
              "    <div class=\"colab-df-buttons\">\n",
              "\n",
              "  <div class=\"colab-df-container\">\n",
              "    <button class=\"colab-df-convert\" onclick=\"convertToInteractive('df-a0f7733c-22bb-489f-83ab-52ca1d88d877')\"\n",
              "            title=\"Convert this dataframe to an interactive table.\"\n",
              "            style=\"display:none;\">\n",
              "\n",
              "  <svg xmlns=\"http://www.w3.org/2000/svg\" height=\"24px\" viewBox=\"0 -960 960 960\">\n",
              "    <path d=\"M120-120v-720h720v720H120Zm60-500h600v-160H180v160Zm220 220h160v-160H400v160Zm0 220h160v-160H400v160ZM180-400h160v-160H180v160Zm440 0h160v-160H620v160ZM180-180h160v-160H180v160Zm440 0h160v-160H620v160Z\"/>\n",
              "  </svg>\n",
              "    </button>\n",
              "\n",
              "  <style>\n",
              "    .colab-df-container {\n",
              "      display:flex;\n",
              "      gap: 12px;\n",
              "    }\n",
              "\n",
              "    .colab-df-convert {\n",
              "      background-color: #E8F0FE;\n",
              "      border: none;\n",
              "      border-radius: 50%;\n",
              "      cursor: pointer;\n",
              "      display: none;\n",
              "      fill: #1967D2;\n",
              "      height: 32px;\n",
              "      padding: 0 0 0 0;\n",
              "      width: 32px;\n",
              "    }\n",
              "\n",
              "    .colab-df-convert:hover {\n",
              "      background-color: #E2EBFA;\n",
              "      box-shadow: 0px 1px 2px rgba(60, 64, 67, 0.3), 0px 1px 3px 1px rgba(60, 64, 67, 0.15);\n",
              "      fill: #174EA6;\n",
              "    }\n",
              "\n",
              "    .colab-df-buttons div {\n",
              "      margin-bottom: 4px;\n",
              "    }\n",
              "\n",
              "    [theme=dark] .colab-df-convert {\n",
              "      background-color: #3B4455;\n",
              "      fill: #D2E3FC;\n",
              "    }\n",
              "\n",
              "    [theme=dark] .colab-df-convert:hover {\n",
              "      background-color: #434B5C;\n",
              "      box-shadow: 0px 1px 3px 1px rgba(0, 0, 0, 0.15);\n",
              "      filter: drop-shadow(0px 1px 2px rgba(0, 0, 0, 0.3));\n",
              "      fill: #FFFFFF;\n",
              "    }\n",
              "  </style>\n",
              "\n",
              "    <script>\n",
              "      const buttonEl =\n",
              "        document.querySelector('#df-a0f7733c-22bb-489f-83ab-52ca1d88d877 button.colab-df-convert');\n",
              "      buttonEl.style.display =\n",
              "        google.colab.kernel.accessAllowed ? 'block' : 'none';\n",
              "\n",
              "      async function convertToInteractive(key) {\n",
              "        const element = document.querySelector('#df-a0f7733c-22bb-489f-83ab-52ca1d88d877');\n",
              "        const dataTable =\n",
              "          await google.colab.kernel.invokeFunction('convertToInteractive',\n",
              "                                                    [key], {});\n",
              "        if (!dataTable) return;\n",
              "\n",
              "        const docLinkHtml = 'Like what you see? Visit the ' +\n",
              "          '<a target=\"_blank\" href=https://colab.research.google.com/notebooks/data_table.ipynb>data table notebook</a>'\n",
              "          + ' to learn more about interactive tables.';\n",
              "        element.innerHTML = '';\n",
              "        dataTable['output_type'] = 'display_data';\n",
              "        await google.colab.output.renderOutput(dataTable, element);\n",
              "        const docLink = document.createElement('div');\n",
              "        docLink.innerHTML = docLinkHtml;\n",
              "        element.appendChild(docLink);\n",
              "      }\n",
              "    </script>\n",
              "  </div>\n",
              "\n",
              "    </div>\n",
              "  </div>\n"
            ]
          },
          "metadata": {},
          "execution_count": 95
        }
      ]
    },
    {
      "cell_type": "code",
      "source": [
        "emissions_df.to_dict()"
      ],
      "metadata": {
        "colab": {
          "base_uri": "https://localhost:8080/"
        },
        "id": "CYQq69pCdQqm",
        "outputId": "b1ddfb04-1cf5-46d5-c247-36f9e48110f4"
      },
      "execution_count": 96,
      "outputs": [
        {
          "output_type": "execute_result",
          "data": {
            "text/plain": [
              "{'timestamp': {0: '2023-10-29T17:23:49'},\n",
              " 'project_name': {0: 'codecarbon'},\n",
              " 'run_id': {0: '1f543201-1680-4f31-a10d-dbd80708b25e'},\n",
              " 'duration': {0: 31.57275080680847},\n",
              " 'emissions': {0: 0.0002004275251804},\n",
              " 'emissions_rate': {0: 6.348117286542717e-06},\n",
              " 'cpu_power': {0: 42.5},\n",
              " 'gpu_power': {0: 34.23120859128275},\n",
              " 'ram_power': {0: 1.5123767852783203},\n",
              " 'cpu_energy': {0: 0.0003724129948351},\n",
              " 'gpu_energy': {0: 0.000296788848542},\n",
              " 'ram_energy': {0: 3.281181990746556e-05},\n",
              " 'energy_consumed': {0: 0.0007020136632845},\n",
              " 'country_name': {0: 'United States'},\n",
              " 'country_iso_code': {0: 'USA'},\n",
              " 'region': {0: 'south carolina'},\n",
              " 'cloud_provider': {0: nan},\n",
              " 'cloud_region': {0: nan},\n",
              " 'os': {0: 'Linux-5.15.120+-x86_64-with-glibc2.35'},\n",
              " 'python_version': {0: '3.10.12'},\n",
              " 'codecarbon_version': {0: '2.3.1'},\n",
              " 'cpu_count': {0: 2},\n",
              " 'cpu_model': {0: 'Intel(R) Xeon(R) CPU @ 2.30GHz'},\n",
              " 'gpu_count': {0: 1},\n",
              " 'gpu_model': {0: '1 x Tesla T4'},\n",
              " 'longitude': {0: -79.9746},\n",
              " 'latitude': {0: 32.8608},\n",
              " 'ram_total_size': {0: 12.6783447265625},\n",
              " 'tracking_mode': {0: 'process'},\n",
              " 'on_cloud': {0: 'N'},\n",
              " 'pue': {0: 1.0}}"
            ]
          },
          "metadata": {},
          "execution_count": 96
        }
      ]
    },
    {
      "cell_type": "markdown",
      "source": [
        "|         |   cpu_power (W) |   gpu_power (W) |   ram_power (W) |\n",
        "|--------:|------------:|------------:|------------:|\n",
        "|       MobileNetV2 baseline (no img aug) - non frozen layers |        42.5 |     40.71 |      1.51 |\n",
        "|       SqueezeNet1.1 baseline (no img aug) - non frozen layers |        42.5 |     34.23 |      1.51 |"
      ],
      "metadata": {
        "id": "fzrtI6feeXR_"
      }
    },
    {
      "cell_type": "markdown",
      "source": [
        "__These metrics could be useful if the model were deployed on-premise servers__"
      ],
      "metadata": {
        "id": "Ah1XhQ9verms"
      }
    }
  ]
}